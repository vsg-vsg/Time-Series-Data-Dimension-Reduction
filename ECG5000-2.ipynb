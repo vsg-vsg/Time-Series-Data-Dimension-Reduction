{
 "cells": [
  {
   "cell_type": "markdown",
   "id": "5b36367a",
   "metadata": {},
   "source": [
    "### Importing necessary libraries"
   ]
  },
  {
   "cell_type": "code",
   "execution_count": 1,
   "id": "c7043e1b",
   "metadata": {},
   "outputs": [
    {
     "name": "stderr",
     "output_type": "stream",
     "text": [
      "C:\\Users\\vivek\\anaconda3\\lib\\site-packages\\numpy\\_distributor_init.py:30: UserWarning: loaded more than 1 DLL from .libs:\n",
      "C:\\Users\\vivek\\anaconda3\\lib\\site-packages\\numpy\\.libs\\libopenblas.FB5AE2TYXYH2IJRDKGDGQ3XBKLKTF43H.gfortran-win_amd64.dll\n",
      "C:\\Users\\vivek\\anaconda3\\lib\\site-packages\\numpy\\.libs\\libopenblas.XWYDX2IKJW2NMTWSFYNGFUWKQU3LYTCZ.gfortran-win_amd64.dll\n",
      "  warnings.warn(\"loaded more than 1 DLL from .libs:\"\n"
     ]
    }
   ],
   "source": [
    "from scipy.io import arff\n",
    "import numpy as np\n",
    "import pandas as pd\n",
    "import seaborn as sns\n",
    "import matplotlib.pyplot as plt\n",
    "\n",
    "import ecg_plot\n",
    "\n",
    "import heartpy as hp\n",
    "\n",
    "import sklearn.preprocessing as sk_preprocess\n",
    "\n",
    "import sklearn.decomposition as sk_decomp\n",
    "\n",
    "from sklearn.model_selection import train_test_split\n",
    "\n",
    "from sklearn.linear_model import LogisticRegression\n",
    "\n",
    "#from sklearn.preprocessing import MultiLabelBinarizer"
   ]
  },
  {
   "cell_type": "markdown",
   "id": "3563cb2e",
   "metadata": {},
   "source": [
    "### Read data"
   ]
  },
  {
   "cell_type": "code",
   "execution_count": 2,
   "id": "0ab3d7f3",
   "metadata": {},
   "outputs": [],
   "source": [
    "data = pd.DataFrame(arff.loadarff('ECG5000_TRAIN.arff')[0])"
   ]
  },
  {
   "cell_type": "code",
   "execution_count": 3,
   "id": "21fb35e8",
   "metadata": {},
   "outputs": [],
   "source": [
    "data_array=np.array(data)"
   ]
  },
  {
   "cell_type": "code",
   "execution_count": 4,
   "id": "c1797a02",
   "metadata": {},
   "outputs": [
    {
     "data": {
      "text/html": [
       "<div>\n",
       "<style scoped>\n",
       "    .dataframe tbody tr th:only-of-type {\n",
       "        vertical-align: middle;\n",
       "    }\n",
       "\n",
       "    .dataframe tbody tr th {\n",
       "        vertical-align: top;\n",
       "    }\n",
       "\n",
       "    .dataframe thead th {\n",
       "        text-align: right;\n",
       "    }\n",
       "</style>\n",
       "<table border=\"1\" class=\"dataframe\">\n",
       "  <thead>\n",
       "    <tr style=\"text-align: right;\">\n",
       "      <th></th>\n",
       "      <th>att1</th>\n",
       "      <th>att2</th>\n",
       "      <th>att3</th>\n",
       "      <th>att4</th>\n",
       "      <th>att5</th>\n",
       "      <th>att6</th>\n",
       "      <th>att7</th>\n",
       "      <th>att8</th>\n",
       "      <th>att9</th>\n",
       "      <th>att10</th>\n",
       "      <th>...</th>\n",
       "      <th>att132</th>\n",
       "      <th>att133</th>\n",
       "      <th>att134</th>\n",
       "      <th>att135</th>\n",
       "      <th>att136</th>\n",
       "      <th>att137</th>\n",
       "      <th>att138</th>\n",
       "      <th>att139</th>\n",
       "      <th>att140</th>\n",
       "      <th>target</th>\n",
       "    </tr>\n",
       "  </thead>\n",
       "  <tbody>\n",
       "    <tr>\n",
       "      <th>0</th>\n",
       "      <td>-0.112522</td>\n",
       "      <td>-2.827204</td>\n",
       "      <td>-3.773897</td>\n",
       "      <td>-4.349751</td>\n",
       "      <td>-4.376041</td>\n",
       "      <td>-3.474986</td>\n",
       "      <td>-2.181408</td>\n",
       "      <td>-1.818286</td>\n",
       "      <td>-1.250522</td>\n",
       "      <td>-0.477492</td>\n",
       "      <td>...</td>\n",
       "      <td>0.792168</td>\n",
       "      <td>0.933541</td>\n",
       "      <td>0.796958</td>\n",
       "      <td>0.578621</td>\n",
       "      <td>0.257740</td>\n",
       "      <td>0.228077</td>\n",
       "      <td>0.123431</td>\n",
       "      <td>0.925286</td>\n",
       "      <td>0.193137</td>\n",
       "      <td>b'1'</td>\n",
       "    </tr>\n",
       "    <tr>\n",
       "      <th>1</th>\n",
       "      <td>-1.100878</td>\n",
       "      <td>-3.996840</td>\n",
       "      <td>-4.285843</td>\n",
       "      <td>-4.506579</td>\n",
       "      <td>-4.022377</td>\n",
       "      <td>-3.234368</td>\n",
       "      <td>-1.566126</td>\n",
       "      <td>-0.992258</td>\n",
       "      <td>-0.754680</td>\n",
       "      <td>0.042321</td>\n",
       "      <td>...</td>\n",
       "      <td>0.538356</td>\n",
       "      <td>0.656881</td>\n",
       "      <td>0.787490</td>\n",
       "      <td>0.724046</td>\n",
       "      <td>0.555784</td>\n",
       "      <td>0.476333</td>\n",
       "      <td>0.773820</td>\n",
       "      <td>1.119621</td>\n",
       "      <td>-1.436250</td>\n",
       "      <td>b'1'</td>\n",
       "    </tr>\n",
       "    <tr>\n",
       "      <th>2</th>\n",
       "      <td>-0.567088</td>\n",
       "      <td>-2.593450</td>\n",
       "      <td>-3.874230</td>\n",
       "      <td>-4.584095</td>\n",
       "      <td>-4.187449</td>\n",
       "      <td>-3.151462</td>\n",
       "      <td>-1.742940</td>\n",
       "      <td>-1.490659</td>\n",
       "      <td>-1.183580</td>\n",
       "      <td>-0.394229</td>\n",
       "      <td>...</td>\n",
       "      <td>0.886073</td>\n",
       "      <td>0.531452</td>\n",
       "      <td>0.311377</td>\n",
       "      <td>-0.021919</td>\n",
       "      <td>-0.713683</td>\n",
       "      <td>-0.532197</td>\n",
       "      <td>0.321097</td>\n",
       "      <td>0.904227</td>\n",
       "      <td>-0.421797</td>\n",
       "      <td>b'1'</td>\n",
       "    </tr>\n",
       "    <tr>\n",
       "      <th>3</th>\n",
       "      <td>0.490473</td>\n",
       "      <td>-1.914407</td>\n",
       "      <td>-3.616364</td>\n",
       "      <td>-4.318823</td>\n",
       "      <td>-4.268016</td>\n",
       "      <td>-3.881110</td>\n",
       "      <td>-2.993280</td>\n",
       "      <td>-1.671131</td>\n",
       "      <td>-1.333884</td>\n",
       "      <td>-0.965629</td>\n",
       "      <td>...</td>\n",
       "      <td>0.350816</td>\n",
       "      <td>0.499111</td>\n",
       "      <td>0.600345</td>\n",
       "      <td>0.842069</td>\n",
       "      <td>0.952074</td>\n",
       "      <td>0.990133</td>\n",
       "      <td>1.086798</td>\n",
       "      <td>1.403011</td>\n",
       "      <td>-0.383564</td>\n",
       "      <td>b'1'</td>\n",
       "    </tr>\n",
       "    <tr>\n",
       "      <th>4</th>\n",
       "      <td>0.800232</td>\n",
       "      <td>-0.874252</td>\n",
       "      <td>-2.384761</td>\n",
       "      <td>-3.973292</td>\n",
       "      <td>-4.338224</td>\n",
       "      <td>-3.802422</td>\n",
       "      <td>-2.534510</td>\n",
       "      <td>-1.783423</td>\n",
       "      <td>-1.594450</td>\n",
       "      <td>-0.753199</td>\n",
       "      <td>...</td>\n",
       "      <td>1.148884</td>\n",
       "      <td>0.958434</td>\n",
       "      <td>1.059025</td>\n",
       "      <td>1.371682</td>\n",
       "      <td>1.277392</td>\n",
       "      <td>0.960304</td>\n",
       "      <td>0.971020</td>\n",
       "      <td>1.614392</td>\n",
       "      <td>1.421456</td>\n",
       "      <td>b'1'</td>\n",
       "    </tr>\n",
       "    <tr>\n",
       "      <th>...</th>\n",
       "      <td>...</td>\n",
       "      <td>...</td>\n",
       "      <td>...</td>\n",
       "      <td>...</td>\n",
       "      <td>...</td>\n",
       "      <td>...</td>\n",
       "      <td>...</td>\n",
       "      <td>...</td>\n",
       "      <td>...</td>\n",
       "      <td>...</td>\n",
       "      <td>...</td>\n",
       "      <td>...</td>\n",
       "      <td>...</td>\n",
       "      <td>...</td>\n",
       "      <td>...</td>\n",
       "      <td>...</td>\n",
       "      <td>...</td>\n",
       "      <td>...</td>\n",
       "      <td>...</td>\n",
       "      <td>...</td>\n",
       "      <td>...</td>\n",
       "    </tr>\n",
       "    <tr>\n",
       "      <th>495</th>\n",
       "      <td>-0.478577</td>\n",
       "      <td>-1.779959</td>\n",
       "      <td>-2.398159</td>\n",
       "      <td>-3.170112</td>\n",
       "      <td>-3.559732</td>\n",
       "      <td>-3.573956</td>\n",
       "      <td>-2.989770</td>\n",
       "      <td>-2.270605</td>\n",
       "      <td>-1.688277</td>\n",
       "      <td>-1.359872</td>\n",
       "      <td>...</td>\n",
       "      <td>1.160885</td>\n",
       "      <td>1.456331</td>\n",
       "      <td>2.209421</td>\n",
       "      <td>2.507175</td>\n",
       "      <td>2.198534</td>\n",
       "      <td>1.705849</td>\n",
       "      <td>1.492642</td>\n",
       "      <td>1.561890</td>\n",
       "      <td>1.520161</td>\n",
       "      <td>b'4'</td>\n",
       "    </tr>\n",
       "    <tr>\n",
       "      <th>496</th>\n",
       "      <td>-1.325210</td>\n",
       "      <td>-2.480992</td>\n",
       "      <td>-2.965356</td>\n",
       "      <td>-3.342392</td>\n",
       "      <td>-3.176351</td>\n",
       "      <td>-2.891528</td>\n",
       "      <td>-2.369679</td>\n",
       "      <td>-1.598750</td>\n",
       "      <td>-1.071751</td>\n",
       "      <td>-0.891843</td>\n",
       "      <td>...</td>\n",
       "      <td>-0.172154</td>\n",
       "      <td>-0.864803</td>\n",
       "      <td>-1.549854</td>\n",
       "      <td>-2.460243</td>\n",
       "      <td>-3.366562</td>\n",
       "      <td>-3.466546</td>\n",
       "      <td>-2.718380</td>\n",
       "      <td>-1.855209</td>\n",
       "      <td>-1.539958</td>\n",
       "      <td>b'4'</td>\n",
       "    </tr>\n",
       "    <tr>\n",
       "      <th>497</th>\n",
       "      <td>-0.021964</td>\n",
       "      <td>-0.912434</td>\n",
       "      <td>-1.903353</td>\n",
       "      <td>-2.662829</td>\n",
       "      <td>-3.122156</td>\n",
       "      <td>-3.451490</td>\n",
       "      <td>-3.392982</td>\n",
       "      <td>-2.929937</td>\n",
       "      <td>-2.256294</td>\n",
       "      <td>-1.690706</td>\n",
       "      <td>...</td>\n",
       "      <td>1.339479</td>\n",
       "      <td>1.457995</td>\n",
       "      <td>2.128078</td>\n",
       "      <td>2.630759</td>\n",
       "      <td>2.295748</td>\n",
       "      <td>1.764967</td>\n",
       "      <td>1.444280</td>\n",
       "      <td>1.432347</td>\n",
       "      <td>1.457028</td>\n",
       "      <td>b'4'</td>\n",
       "    </tr>\n",
       "    <tr>\n",
       "      <th>498</th>\n",
       "      <td>0.288011</td>\n",
       "      <td>-1.098020</td>\n",
       "      <td>-2.500250</td>\n",
       "      <td>-3.598599</td>\n",
       "      <td>-3.650608</td>\n",
       "      <td>-3.281587</td>\n",
       "      <td>-2.231601</td>\n",
       "      <td>-1.250656</td>\n",
       "      <td>-1.072574</td>\n",
       "      <td>-0.434310</td>\n",
       "      <td>...</td>\n",
       "      <td>-0.029242</td>\n",
       "      <td>0.071414</td>\n",
       "      <td>0.118161</td>\n",
       "      <td>-0.071967</td>\n",
       "      <td>-0.171214</td>\n",
       "      <td>0.131211</td>\n",
       "      <td>0.049872</td>\n",
       "      <td>0.010915</td>\n",
       "      <td>-0.081534</td>\n",
       "      <td>b'5'</td>\n",
       "    </tr>\n",
       "    <tr>\n",
       "      <th>499</th>\n",
       "      <td>-1.133674</td>\n",
       "      <td>-2.702941</td>\n",
       "      <td>-3.120979</td>\n",
       "      <td>-3.558669</td>\n",
       "      <td>-3.312442</td>\n",
       "      <td>-2.607641</td>\n",
       "      <td>-1.354939</td>\n",
       "      <td>-1.014740</td>\n",
       "      <td>-0.796023</td>\n",
       "      <td>-0.259599</td>\n",
       "      <td>...</td>\n",
       "      <td>-3.206942</td>\n",
       "      <td>-2.941677</td>\n",
       "      <td>-2.557140</td>\n",
       "      <td>-1.487946</td>\n",
       "      <td>-1.118880</td>\n",
       "      <td>-0.737113</td>\n",
       "      <td>-0.110840</td>\n",
       "      <td>0.001858</td>\n",
       "      <td>-0.122639</td>\n",
       "      <td>b'5'</td>\n",
       "    </tr>\n",
       "  </tbody>\n",
       "</table>\n",
       "<p>500 rows × 141 columns</p>\n",
       "</div>"
      ],
      "text/plain": [
       "         att1      att2      att3      att4      att5      att6      att7  \\\n",
       "0   -0.112522 -2.827204 -3.773897 -4.349751 -4.376041 -3.474986 -2.181408   \n",
       "1   -1.100878 -3.996840 -4.285843 -4.506579 -4.022377 -3.234368 -1.566126   \n",
       "2   -0.567088 -2.593450 -3.874230 -4.584095 -4.187449 -3.151462 -1.742940   \n",
       "3    0.490473 -1.914407 -3.616364 -4.318823 -4.268016 -3.881110 -2.993280   \n",
       "4    0.800232 -0.874252 -2.384761 -3.973292 -4.338224 -3.802422 -2.534510   \n",
       "..        ...       ...       ...       ...       ...       ...       ...   \n",
       "495 -0.478577 -1.779959 -2.398159 -3.170112 -3.559732 -3.573956 -2.989770   \n",
       "496 -1.325210 -2.480992 -2.965356 -3.342392 -3.176351 -2.891528 -2.369679   \n",
       "497 -0.021964 -0.912434 -1.903353 -2.662829 -3.122156 -3.451490 -3.392982   \n",
       "498  0.288011 -1.098020 -2.500250 -3.598599 -3.650608 -3.281587 -2.231601   \n",
       "499 -1.133674 -2.702941 -3.120979 -3.558669 -3.312442 -2.607641 -1.354939   \n",
       "\n",
       "         att8      att9     att10  ...    att132    att133    att134  \\\n",
       "0   -1.818286 -1.250522 -0.477492  ...  0.792168  0.933541  0.796958   \n",
       "1   -0.992258 -0.754680  0.042321  ...  0.538356  0.656881  0.787490   \n",
       "2   -1.490659 -1.183580 -0.394229  ...  0.886073  0.531452  0.311377   \n",
       "3   -1.671131 -1.333884 -0.965629  ...  0.350816  0.499111  0.600345   \n",
       "4   -1.783423 -1.594450 -0.753199  ...  1.148884  0.958434  1.059025   \n",
       "..        ...       ...       ...  ...       ...       ...       ...   \n",
       "495 -2.270605 -1.688277 -1.359872  ...  1.160885  1.456331  2.209421   \n",
       "496 -1.598750 -1.071751 -0.891843  ... -0.172154 -0.864803 -1.549854   \n",
       "497 -2.929937 -2.256294 -1.690706  ...  1.339479  1.457995  2.128078   \n",
       "498 -1.250656 -1.072574 -0.434310  ... -0.029242  0.071414  0.118161   \n",
       "499 -1.014740 -0.796023 -0.259599  ... -3.206942 -2.941677 -2.557140   \n",
       "\n",
       "       att135    att136    att137    att138    att139    att140  target  \n",
       "0    0.578621  0.257740  0.228077  0.123431  0.925286  0.193137    b'1'  \n",
       "1    0.724046  0.555784  0.476333  0.773820  1.119621 -1.436250    b'1'  \n",
       "2   -0.021919 -0.713683 -0.532197  0.321097  0.904227 -0.421797    b'1'  \n",
       "3    0.842069  0.952074  0.990133  1.086798  1.403011 -0.383564    b'1'  \n",
       "4    1.371682  1.277392  0.960304  0.971020  1.614392  1.421456    b'1'  \n",
       "..        ...       ...       ...       ...       ...       ...     ...  \n",
       "495  2.507175  2.198534  1.705849  1.492642  1.561890  1.520161    b'4'  \n",
       "496 -2.460243 -3.366562 -3.466546 -2.718380 -1.855209 -1.539958    b'4'  \n",
       "497  2.630759  2.295748  1.764967  1.444280  1.432347  1.457028    b'4'  \n",
       "498 -0.071967 -0.171214  0.131211  0.049872  0.010915 -0.081534    b'5'  \n",
       "499 -1.487946 -1.118880 -0.737113 -0.110840  0.001858 -0.122639    b'5'  \n",
       "\n",
       "[500 rows x 141 columns]"
      ]
     },
     "execution_count": 4,
     "metadata": {},
     "output_type": "execute_result"
    }
   ],
   "source": [
    "data"
   ]
  },
  {
   "cell_type": "code",
   "execution_count": 5,
   "id": "28b82e18",
   "metadata": {},
   "outputs": [],
   "source": [
    "data['target']=data['target'].map(dict({b'1': 0, b'2': 1, b'3': 2, b'4': 3, b'5': 4}))"
   ]
  },
  {
   "cell_type": "markdown",
   "id": "2ae5f6d8",
   "metadata": {},
   "source": [
    "### Function to OneHotEncode the target labels"
   ]
  },
  {
   "cell_type": "code",
   "execution_count": 6,
   "id": "b5c1e0a8",
   "metadata": {},
   "outputs": [],
   "source": [
    "def oheColumn(oheData, columnName):\n",
    "    oneHotEnc = sk_preprocess.OneHotEncoder(dtype=int, handle_unknown='ignore')\n",
    "\n",
    "    oheDataColumn = oneHotEnc.fit_transform(oheData[[columnName]]).toarray()\n",
    "\n",
    "    oheData[oneHotEnc.categories_[0]] = oheDataColumn\n",
    "\n",
    "    for catCol in oneHotEnc.categories_[0]:\n",
    "        oheData.rename(columns = {catCol:columnName+'_'+catCol}, inplace = True)\n",
    "    \n",
    "    return oheData"
   ]
  },
  {
   "cell_type": "code",
   "execution_count": 7,
   "id": "ae87f32b",
   "metadata": {},
   "outputs": [],
   "source": [
    "y = data['target']\n",
    "X = data.drop('target', axis=1)"
   ]
  },
  {
   "cell_type": "code",
   "execution_count": 8,
   "id": "cc0b5635",
   "metadata": {},
   "outputs": [
    {
     "data": {
      "text/plain": [
       "att1      0\n",
       "att2      0\n",
       "att3      0\n",
       "att4      0\n",
       "att5      0\n",
       "         ..\n",
       "att137    0\n",
       "att138    0\n",
       "att139    0\n",
       "att140    0\n",
       "target    0\n",
       "Length: 141, dtype: int64"
      ]
     },
     "execution_count": 8,
     "metadata": {},
     "output_type": "execute_result"
    }
   ],
   "source": [
    "data.isna().sum()"
   ]
  },
  {
   "cell_type": "code",
   "execution_count": 9,
   "id": "d45f9a4d",
   "metadata": {},
   "outputs": [
    {
     "data": {
      "text/plain": [
       "0"
      ]
     },
     "execution_count": 9,
     "metadata": {},
     "output_type": "execute_result"
    }
   ],
   "source": [
    "data.isna().sum().sum()"
   ]
  },
  {
   "cell_type": "markdown",
   "id": "1a2afa47",
   "metadata": {},
   "source": [
    "### Plot the ECG data"
   ]
  },
  {
   "cell_type": "code",
   "execution_count": 10,
   "id": "11ce438a",
   "metadata": {},
   "outputs": [],
   "source": [
    "import warnings\n",
    "warnings.filterwarnings('ignore')"
   ]
  },
  {
   "cell_type": "code",
   "execution_count": 11,
   "id": "5fa17b81",
   "metadata": {},
   "outputs": [
    {
     "data": {
      "image/png": "[encoded data removed]",
      "text/plain": [
       "<Figure size 640x480 with 1 Axes>"
      ]
     },
     "metadata": {},
     "output_type": "display_data"
    }
   ],
   "source": [
    "working_data, measures = hp.process(np.delete(data_array[0], -1), 100.0)\n",
    "hp.plotter(working_data, measures)"
   ]
  },
  {
   "cell_type": "markdown",
   "id": "6a21242e",
   "metadata": {},
   "source": [
    "### Correlation of features"
   ]
  },
  {
   "cell_type": "code",
   "execution_count": 12,
   "id": "503631b2",
   "metadata": {},
   "outputs": [],
   "source": [
    "data_corr=data.corr()"
   ]
  },
  {
   "cell_type": "code",
   "execution_count": 13,
   "id": "767937a2",
   "metadata": {},
   "outputs": [],
   "source": [
    "correlated_features=data_corr[(data_corr > 0.3) | (data_corr < -0.3)].stack().index\n",
    "correlated_features_df=pd.DataFrame(correlated_features)\n",
    "correlated_features_df=pd.DataFrame(correlated_features_df[0].tolist(),index=correlated_features_df.index)\n",
    "correlated_features_df=correlated_features_df[correlated_features_df.loc[:,0] != correlated_features_df.loc[:,1]]"
   ]
  },
  {
   "cell_type": "code",
   "execution_count": 14,
   "id": "559cf8c8",
   "metadata": {},
   "outputs": [
    {
     "data": {
      "text/html": [
       "<div>\n",
       "<style scoped>\n",
       "    .dataframe tbody tr th:only-of-type {\n",
       "        vertical-align: middle;\n",
       "    }\n",
       "\n",
       "    .dataframe tbody tr th {\n",
       "        vertical-align: top;\n",
       "    }\n",
       "\n",
       "    .dataframe thead th {\n",
       "        text-align: right;\n",
       "    }\n",
       "</style>\n",
       "<table border=\"1\" class=\"dataframe\">\n",
       "  <thead>\n",
       "    <tr style=\"text-align: right;\">\n",
       "      <th></th>\n",
       "      <th>0</th>\n",
       "      <th>1</th>\n",
       "    </tr>\n",
       "  </thead>\n",
       "  <tbody>\n",
       "    <tr>\n",
       "      <th>1</th>\n",
       "      <td>att1</td>\n",
       "      <td>att2</td>\n",
       "    </tr>\n",
       "    <tr>\n",
       "      <th>2</th>\n",
       "      <td>att1</td>\n",
       "      <td>att3</td>\n",
       "    </tr>\n",
       "    <tr>\n",
       "      <th>3</th>\n",
       "      <td>att1</td>\n",
       "      <td>att4</td>\n",
       "    </tr>\n",
       "    <tr>\n",
       "      <th>4</th>\n",
       "      <td>att1</td>\n",
       "      <td>att96</td>\n",
       "    </tr>\n",
       "    <tr>\n",
       "      <th>5</th>\n",
       "      <td>att1</td>\n",
       "      <td>att97</td>\n",
       "    </tr>\n",
       "    <tr>\n",
       "      <th>...</th>\n",
       "      <td>...</td>\n",
       "      <td>...</td>\n",
       "    </tr>\n",
       "    <tr>\n",
       "      <th>9603</th>\n",
       "      <td>target</td>\n",
       "      <td>att135</td>\n",
       "    </tr>\n",
       "    <tr>\n",
       "      <th>9604</th>\n",
       "      <td>target</td>\n",
       "      <td>att136</td>\n",
       "    </tr>\n",
       "    <tr>\n",
       "      <th>9605</th>\n",
       "      <td>target</td>\n",
       "      <td>att137</td>\n",
       "    </tr>\n",
       "    <tr>\n",
       "      <th>9606</th>\n",
       "      <td>target</td>\n",
       "      <td>att138</td>\n",
       "    </tr>\n",
       "    <tr>\n",
       "      <th>9607</th>\n",
       "      <td>target</td>\n",
       "      <td>att139</td>\n",
       "    </tr>\n",
       "  </tbody>\n",
       "</table>\n",
       "<p>9468 rows × 2 columns</p>\n",
       "</div>"
      ],
      "text/plain": [
       "           0       1\n",
       "1       att1    att2\n",
       "2       att1    att3\n",
       "3       att1    att4\n",
       "4       att1   att96\n",
       "5       att1   att97\n",
       "...      ...     ...\n",
       "9603  target  att135\n",
       "9604  target  att136\n",
       "9605  target  att137\n",
       "9606  target  att138\n",
       "9607  target  att139\n",
       "\n",
       "[9468 rows x 2 columns]"
      ]
     },
     "execution_count": 14,
     "metadata": {},
     "output_type": "execute_result"
    }
   ],
   "source": [
    "correlated_features_df"
   ]
  },
  {
   "cell_type": "markdown",
   "id": "553ee855",
   "metadata": {},
   "source": [
    "The features are highly correlated as seen this result. It shows the correlations where **|correlation between features|>0.3**."
   ]
  },
  {
   "cell_type": "markdown",
   "id": "e460aa4b",
   "metadata": {},
   "source": [
    "### Split data into test and train data"
   ]
  },
  {
   "cell_type": "code",
   "execution_count": 15,
   "id": "6f3507af",
   "metadata": {},
   "outputs": [],
   "source": [
    "X_train, X_test, y_train, y_test = train_test_split(X, y, test_size = 0.3, random_state = 42)"
   ]
  },
  {
   "cell_type": "markdown",
   "id": "56565bdf",
   "metadata": {},
   "source": [
    "### Standardizing features to reduce bias"
   ]
  },
  {
   "cell_type": "code",
   "execution_count": 16,
   "id": "9fdfd5ac",
   "metadata": {},
   "outputs": [],
   "source": [
    "def standardize(data):\n",
    "    sc = sk_preprocess.StandardScaler()\n",
    "    return sc.fit_transform(data)\n",
    " \n",
    "X_train_sc_processed = standardize(X_train)\n",
    "X_test_sc_processed = standardize(X_test)"
   ]
  },
  {
   "cell_type": "markdown",
   "id": "4832540a",
   "metadata": {},
   "source": [
    "### Applying PCA"
   ]
  },
  {
   "cell_type": "code",
   "execution_count": 17,
   "id": "880d3b41",
   "metadata": {},
   "outputs": [],
   "source": [
    "pca = sk_decomp.PCA(n_components=30)\n",
    "\n",
    "def pcaFitData(data):\n",
    "    return pca.fit_transform(data)\n",
    "    \n",
    "def pcaTransformData(data):\n",
    "    return pca.transform(data)\n",
    "\n",
    "def pcaRetrieveVariance():\n",
    "    return pca.explained_variance_ratio_"
   ]
  },
  {
   "cell_type": "code",
   "execution_count": 18,
   "id": "58af1d72",
   "metadata": {},
   "outputs": [],
   "source": [
    "X_train_processed = pcaFitData(X_train_sc_processed)\n",
    "X_test_processed = pcaTransformData(X_test_sc_processed)\n",
    " \n",
    "explained_variance = pcaRetrieveVariance()"
   ]
  },
  {
   "cell_type": "markdown",
   "id": "dbe1d3a2",
   "metadata": {},
   "source": [
    "### Performing Logistic regression for Multiclass classification"
   ]
  },
  {
   "cell_type": "code",
   "execution_count": 19,
   "id": "f8858716",
   "metadata": {},
   "outputs": [],
   "source": [
    "logisticRegModel = LogisticRegression()\n",
    "\n",
    "def logisticFit(X, y):\n",
    "    return logisticRegModel.fit(X, y)\n",
    "\n",
    "logisticRegModel_trained = logisticFit(X_train_processed, y_train)"
   ]
  },
  {
   "cell_type": "code",
   "execution_count": null,
   "id": "def20eaf",
   "metadata": {},
   "outputs": [],
   "source": []
  },
  {
   "cell_type": "code",
   "execution_count": 20,
   "id": "46ab3aa5",
   "metadata": {
    "scrolled": true
   },
   "outputs": [
    {
     "name": "stdout",
     "output_type": "stream",
     "text": [
      ">Name:20 \tMean of Scores:0.891 (Scores:0.050)\n",
      ">Name:21 \tMean of Scores:0.889 (Scores:0.053)\n",
      ">Name:22 \tMean of Scores:0.904 (Scores:0.051)\n",
      ">Name:23 \tMean of Scores:0.904 (Scores:0.056)\n",
      ">Name:24 \tMean of Scores:0.893 (Scores:0.050)\n",
      ">Name:25 \tMean of Scores:0.896 (Scores:0.051)\n",
      ">Name:26 \tMean of Scores:0.900 (Scores:0.048)\n",
      ">Name:27 \tMean of Scores:0.896 (Scores:0.048)\n",
      ">Name:28 \tMean of Scores:0.898 (Scores:0.051)\n",
      ">Name:29 \tMean of Scores:0.898 (Scores:0.051)\n"
     ]
    },
    {
     "data": {
      "image/png": "[encoded data removed]",
      "text/plain": [
       "<Figure size 640x480 with 1 Axes>"
      ]
     },
     "metadata": {},
     "output_type": "display_data"
    }
   ],
   "source": [
    "# compare pca number of components with logistic regression algorithm for classification\n",
    "from numpy import mean\n",
    "from numpy import std\n",
    "from sklearn.datasets import make_classification\n",
    "from sklearn.model_selection import cross_val_score\n",
    "from sklearn.model_selection import RepeatedStratifiedKFold\n",
    "from sklearn.pipeline import Pipeline\n",
    "from sklearn.decomposition import PCA\n",
    "from sklearn.linear_model import LogisticRegression\n",
    "from matplotlib import pyplot\n",
    "\n",
    "# get a list of models to evaluate\n",
    "def get_models(X):\n",
    "    models = dict()\n",
    "    for i in range(20,min(50, X.shape[1])):\n",
    "        steps = [('pca', PCA(n_components=i)), ('m', LogisticRegression())]\n",
    "        models[str(i)] = Pipeline(steps=steps)\n",
    "    return models\n",
    "\n",
    "# evaluate a given model using cross-validation\n",
    "def evaluate_model(model, X, y):\n",
    "    cv = RepeatedStratifiedKFold(n_splits=10, n_repeats=3, random_state=1)\n",
    "    scores = cross_val_score(model, X, y, scoring='accuracy', cv=cv, n_jobs=-1, error_score='raise')\n",
    "    return scores\n",
    "\n",
    "def evaluatePCA(X, y):\n",
    "    # get the models to evaluate\n",
    "    models = get_models(X)\n",
    "    # evaluate the models and store results\n",
    "    results, names = list(), list()\n",
    "    for name, model in models.items():\n",
    "        scores = evaluate_model(model, X, y)\n",
    "        results.append(scores)\n",
    "        names.append(name)\n",
    "        print('>Name:%s \\tMean of Scores:%.3f (Scores:%.3f)' % (name, mean(scores), std(scores)))\n",
    "    # plot model performance for comparison\n",
    "    pyplot.boxplot(results, labels=names, showmeans=True)\n",
    "    pyplot.xticks(rotation=45)\n",
    "    pyplot.show()\n",
    "    \n",
    "evaluatePCA(X_test_processed, y_test)"
   ]
  },
  {
   "cell_type": "markdown",
   "id": "99ebcbaa",
   "metadata": {},
   "source": [
    "### Shuffling columns and applying PCA"
   ]
  },
  {
   "cell_type": "code",
   "execution_count": 21,
   "id": "bea8681f",
   "metadata": {},
   "outputs": [],
   "source": [
    "def shuffleColumns(data):\n",
    "    return data[np.random.default_rng(seed=42).permutation(data.columns.values)]\n",
    "X_test_shuffled = shuffleColumns(X_test)"
   ]
  },
  {
   "cell_type": "code",
   "execution_count": 22,
   "id": "7a215b48",
   "metadata": {
    "scrolled": false
   },
   "outputs": [
    {
     "name": "stdout",
     "output_type": "stream",
     "text": [
      ">Name:20 \tMean of Scores:0.904 (Scores:0.051)\n",
      ">Name:21 \tMean of Scores:0.900 (Scores:0.048)\n",
      ">Name:22 \tMean of Scores:0.900 (Scores:0.048)\n",
      ">Name:23 \tMean of Scores:0.900 (Scores:0.048)\n",
      ">Name:24 \tMean of Scores:0.902 (Scores:0.048)\n",
      ">Name:25 \tMean of Scores:0.902 (Scores:0.048)\n",
      ">Name:26 \tMean of Scores:0.904 (Scores:0.051)\n",
      ">Name:27 \tMean of Scores:0.902 (Scores:0.048)\n",
      ">Name:28 \tMean of Scores:0.902 (Scores:0.048)\n",
      ">Name:29 \tMean of Scores:0.904 (Scores:0.051)\n",
      ">Name:30 \tMean of Scores:0.904 (Scores:0.051)\n",
      ">Name:31 \tMean of Scores:0.904 (Scores:0.051)\n",
      ">Name:32 \tMean of Scores:0.902 (Scores:0.051)\n",
      ">Name:33 \tMean of Scores:0.902 (Scores:0.051)\n",
      ">Name:34 \tMean of Scores:0.900 (Scores:0.054)\n",
      ">Name:35 \tMean of Scores:0.900 (Scores:0.051)\n",
      ">Name:36 \tMean of Scores:0.904 (Scores:0.054)\n",
      ">Name:37 \tMean of Scores:0.907 (Scores:0.050)\n",
      ">Name:38 \tMean of Scores:0.904 (Scores:0.051)\n",
      ">Name:39 \tMean of Scores:0.907 (Scores:0.050)\n",
      ">Name:40 \tMean of Scores:0.907 (Scores:0.050)\n",
      ">Name:41 \tMean of Scores:0.907 (Scores:0.050)\n",
      ">Name:42 \tMean of Scores:0.907 (Scores:0.050)\n",
      ">Name:43 \tMean of Scores:0.907 (Scores:0.050)\n",
      ">Name:44 \tMean of Scores:0.907 (Scores:0.050)\n",
      ">Name:45 \tMean of Scores:0.907 (Scores:0.050)\n",
      ">Name:46 \tMean of Scores:0.907 (Scores:0.050)\n",
      ">Name:47 \tMean of Scores:0.907 (Scores:0.050)\n",
      ">Name:48 \tMean of Scores:0.907 (Scores:0.050)\n",
      ">Name:49 \tMean of Scores:0.907 (Scores:0.050)\n"
     ]
    },
    {
     "data": {
      "image/png": "[encoded data removed]",
      "text/plain": [
       "<Figure size 640x480 with 1 Axes>"
      ]
     },
     "metadata": {},
     "output_type": "display_data"
    }
   ],
   "source": [
    "evaluatePCA(X_test_shuffled, y_test)"
   ]
  },
  {
   "cell_type": "markdown",
   "id": "fef453c4",
   "metadata": {},
   "source": [
    "As seen in the above plot, the data with shuffled columns also yields similar accuracy scores as PCA doesn't consider the order (order matters here as the data is a time series) which is flawed for this particular dataset.<br><br>\n",
    "So, we need to consider the bias of a column towards its previous columns."
   ]
  },
  {
   "cell_type": "markdown",
   "id": "48fbfbd0",
   "metadata": {},
   "source": [
    "## Alternative approaches to consider time series"
   ]
  },
  {
   "cell_type": "markdown",
   "id": "72609416",
   "metadata": {},
   "source": [
    "### Using RNN"
   ]
  },
  {
   "cell_type": "markdown",
   "id": "5aaf81da",
   "metadata": {},
   "source": [
    "### 1. Using LSTM"
   ]
  },
  {
   "cell_type": "code",
   "execution_count": 23,
   "id": "314c4f3c",
   "metadata": {},
   "outputs": [],
   "source": [
    "from keras.models import Sequential\n",
    "import keras.layers as kerasLayers\n",
    "import keras"
   ]
  },
  {
   "cell_type": "code",
   "execution_count": 24,
   "id": "9feda6a7",
   "metadata": {},
   "outputs": [],
   "source": [
    "model = Sequential()"
   ]
  },
  {
   "cell_type": "markdown",
   "id": "b3a0c798",
   "metadata": {},
   "source": [
    "#### 4 Layers of LSTM to understand short term dependencies and further layers for the long term dependencies"
   ]
  },
  {
   "cell_type": "code",
   "execution_count": 25,
   "id": "3de0dec7",
   "metadata": {},
   "outputs": [],
   "source": [
    "def initFit4LayerLSTM(X, y):    \n",
    "    model.add(kerasLayers.LSTM(units = 50, return_sequences = True, input_shape = (X.shape[1], 1)))\n",
    "    model.add(kerasLayers.Dropout(0.2))\n",
    "\n",
    "    model.add(kerasLayers.LSTM(units = 50, return_sequences = True))\n",
    "    model.add(kerasLayers.Dropout(0.2))\n",
    "\n",
    "    model.add(kerasLayers.LSTM(units = 50, return_sequences = True))\n",
    "    model.add(kerasLayers.Dropout(0.2))\n",
    "\n",
    "    model.add(kerasLayers.LSTM(units = 50))\n",
    "    model.add(kerasLayers.Dropout(0.2))\n",
    "\n",
    "    model.add(kerasLayers.Dense(units = 5, activation='softmax'))\n",
    "\n",
    "    model.compile(optimizer = 'adam', loss = 'sparse_categorical_crossentropy')\n",
    "\n",
    "    model.fit(X, y, epochs = 100, batch_size = 32)"
   ]
  },
  {
   "cell_type": "code",
   "execution_count": 26,
   "id": "dbc87f2d",
   "metadata": {},
   "outputs": [
    {
     "name": "stdout",
     "output_type": "stream",
     "text": [
      "Epoch 1/100\n",
      "11/11 [==============================] - 13s 315ms/step - loss: 1.4129\n",
      "Epoch 2/100\n",
      "11/11 [==============================] - 3s 318ms/step - loss: 0.7918\n",
      "Epoch 3/100\n",
      "11/11 [==============================] - 3s 293ms/step - loss: 0.4668\n",
      "Epoch 4/100\n",
      "11/11 [==============================] - 3s 305ms/step - loss: 0.3361\n",
      "Epoch 5/100\n",
      "11/11 [==============================] - 3s 296ms/step - loss: 0.2605\n",
      "Epoch 6/100\n",
      "11/11 [==============================] - 3s 316ms/step - loss: 0.2510\n",
      "Epoch 7/100\n",
      "11/11 [==============================] - 4s 342ms/step - loss: 0.2328\n",
      "Epoch 8/100\n",
      "11/11 [==============================] - 3s 293ms/step - loss: 0.2152\n",
      "Epoch 9/100\n",
      "11/11 [==============================] - 3s 289ms/step - loss: 0.2060\n",
      "Epoch 10/100\n",
      "11/11 [==============================] - 3s 279ms/step - loss: 0.1992\n",
      "Epoch 11/100\n",
      "11/11 [==============================] - 3s 302ms/step - loss: 0.2021\n",
      "Epoch 12/100\n",
      "11/11 [==============================] - 3s 292ms/step - loss: 0.1937\n",
      "Epoch 13/100\n",
      "11/11 [==============================] - 3s 287ms/step - loss: 0.1922\n",
      "Epoch 14/100\n",
      "11/11 [==============================] - 3s 301ms/step - loss: 0.1892\n",
      "Epoch 15/100\n",
      "11/11 [==============================] - 4s 328ms/step - loss: 0.1651\n",
      "Epoch 16/100\n",
      "11/11 [==============================] - 3s 286ms/step - loss: 0.1672\n",
      "Epoch 17/100\n",
      "11/11 [==============================] - 3s 305ms/step - loss: 0.1831\n",
      "Epoch 18/100\n",
      "11/11 [==============================] - 3s 308ms/step - loss: 0.1806\n",
      "Epoch 19/100\n",
      "11/11 [==============================] - 3s 290ms/step - loss: 0.2078\n",
      "Epoch 20/100\n",
      "11/11 [==============================] - 3s 289ms/step - loss: 0.1741\n",
      "Epoch 21/100\n",
      "11/11 [==============================] - 3s 306ms/step - loss: 0.1786\n",
      "Epoch 22/100\n",
      "11/11 [==============================] - 3s 284ms/step - loss: 0.1647\n",
      "Epoch 23/100\n",
      "11/11 [==============================] - 3s 299ms/step - loss: 0.1517\n",
      "Epoch 24/100\n",
      "11/11 [==============================] - 3s 294ms/step - loss: 0.1415\n",
      "Epoch 25/100\n",
      "11/11 [==============================] - 3s 280ms/step - loss: 0.1278\n",
      "Epoch 26/100\n",
      "11/11 [==============================] - 3s 289ms/step - loss: 0.1509\n",
      "Epoch 27/100\n",
      "11/11 [==============================] - 3s 304ms/step - loss: 0.1509\n",
      "Epoch 28/100\n",
      "11/11 [==============================] - 4s 342ms/step - loss: 0.1286\n",
      "Epoch 29/100\n",
      "11/11 [==============================] - 3s 294ms/step - loss: 0.1387\n",
      "Epoch 30/100\n",
      "11/11 [==============================] - 4s 333ms/step - loss: 0.1272\n",
      "Epoch 31/100\n",
      "11/11 [==============================] - 3s 305ms/step - loss: 0.1205\n",
      "Epoch 32/100\n",
      "11/11 [==============================] - 3s 313ms/step - loss: 0.1277\n",
      "Epoch 33/100\n",
      "11/11 [==============================] - 3s 290ms/step - loss: 0.1318\n",
      "Epoch 34/100\n",
      "11/11 [==============================] - 3s 297ms/step - loss: 0.1175\n",
      "Epoch 35/100\n",
      "11/11 [==============================] - 3s 304ms/step - loss: 0.1070\n",
      "Epoch 36/100\n",
      "11/11 [==============================] - 4s 325ms/step - loss: 0.1044\n",
      "Epoch 37/100\n",
      "11/11 [==============================] - 3s 300ms/step - loss: 0.0847\n",
      "Epoch 38/100\n",
      "11/11 [==============================] - 3s 280ms/step - loss: 0.0911\n",
      "Epoch 39/100\n",
      "11/11 [==============================] - 3s 282ms/step - loss: 0.1408\n",
      "Epoch 40/100\n",
      "11/11 [==============================] - 3s 305ms/step - loss: 0.1087\n",
      "Epoch 41/100\n",
      "11/11 [==============================] - 3s 303ms/step - loss: 0.1301\n",
      "Epoch 42/100\n",
      "11/11 [==============================] - 3s 305ms/step - loss: 0.1069\n",
      "Epoch 43/100\n",
      "11/11 [==============================] - 3s 308ms/step - loss: 0.1005\n",
      "Epoch 44/100\n",
      "11/11 [==============================] - 3s 291ms/step - loss: 0.1010\n",
      "Epoch 45/100\n",
      "11/11 [==============================] - 3s 312ms/step - loss: 0.1089\n",
      "Epoch 46/100\n",
      "11/11 [==============================] - 3s 304ms/step - loss: 0.0890\n",
      "Epoch 47/100\n",
      "11/11 [==============================] - 3s 288ms/step - loss: 0.0871\n",
      "Epoch 48/100\n",
      "11/11 [==============================] - 3s 286ms/step - loss: 0.1086\n",
      "Epoch 49/100\n",
      "11/11 [==============================] - 3s 286ms/step - loss: 0.1029\n",
      "Epoch 50/100\n",
      "11/11 [==============================] - 4s 330ms/step - loss: 0.0914\n",
      "Epoch 51/100\n",
      "11/11 [==============================] - 3s 277ms/step - loss: 0.0859\n",
      "Epoch 52/100\n",
      "11/11 [==============================] - 3s 279ms/step - loss: 0.0798\n",
      "Epoch 53/100\n",
      "11/11 [==============================] - 3s 315ms/step - loss: 0.0805\n",
      "Epoch 54/100\n",
      "11/11 [==============================] - 4s 325ms/step - loss: 0.0798\n",
      "Epoch 55/100\n",
      "11/11 [==============================] - 3s 299ms/step - loss: 0.0750\n",
      "Epoch 56/100\n",
      "11/11 [==============================] - 3s 293ms/step - loss: 0.0736\n",
      "Epoch 57/100\n",
      "11/11 [==============================] - 3s 318ms/step - loss: 0.0704\n",
      "Epoch 58/100\n",
      "11/11 [==============================] - 3s 293ms/step - loss: 0.0685\n",
      "Epoch 59/100\n",
      "11/11 [==============================] - 3s 285ms/step - loss: 0.0635\n",
      "Epoch 60/100\n",
      "11/11 [==============================] - 3s 308ms/step - loss: 0.0641\n",
      "Epoch 61/100\n",
      "11/11 [==============================] - 3s 288ms/step - loss: 0.0721\n",
      "Epoch 62/100\n",
      "11/11 [==============================] - 3s 319ms/step - loss: 0.0703\n",
      "Epoch 63/100\n",
      "11/11 [==============================] - 3s 279ms/step - loss: 0.0581\n",
      "Epoch 64/100\n",
      "11/11 [==============================] - 3s 301ms/step - loss: 0.0702\n",
      "Epoch 65/100\n",
      "11/11 [==============================] - 3s 296ms/step - loss: 0.0710\n",
      "Epoch 66/100\n",
      "11/11 [==============================] - 3s 285ms/step - loss: 0.0621\n",
      "Epoch 67/100\n",
      "11/11 [==============================] - 3s 298ms/step - loss: 0.0617\n",
      "Epoch 68/100\n",
      "11/11 [==============================] - 3s 280ms/step - loss: 0.0563\n",
      "Epoch 69/100\n",
      "11/11 [==============================] - 3s 296ms/step - loss: 0.0625\n",
      "Epoch 70/100\n",
      "11/11 [==============================] - 3s 300ms/step - loss: 0.0600\n",
      "Epoch 71/100\n",
      "11/11 [==============================] - 3s 266ms/step - loss: 0.0598\n",
      "Epoch 72/100\n",
      "11/11 [==============================] - 3s 282ms/step - loss: 0.0600\n",
      "Epoch 73/100\n",
      "11/11 [==============================] - 3s 262ms/step - loss: 0.0578\n",
      "Epoch 74/100\n",
      "11/11 [==============================] - 3s 319ms/step - loss: 0.0557\n",
      "Epoch 75/100\n",
      "11/11 [==============================] - 3s 301ms/step - loss: 0.0550\n",
      "Epoch 76/100\n",
      "11/11 [==============================] - 3s 274ms/step - loss: 0.0577\n",
      "Epoch 77/100\n",
      "11/11 [==============================] - 3s 317ms/step - loss: 0.0523\n",
      "Epoch 78/100\n",
      "11/11 [==============================] - 4s 341ms/step - loss: 0.1159\n",
      "Epoch 79/100\n",
      "11/11 [==============================] - 3s 288ms/step - loss: 0.1011\n",
      "Epoch 80/100\n",
      "11/11 [==============================] - 3s 249ms/step - loss: 0.0871\n",
      "Epoch 81/100\n",
      "11/11 [==============================] - 3s 304ms/step - loss: 0.1184\n",
      "Epoch 82/100\n",
      "11/11 [==============================] - 3s 283ms/step - loss: 0.0958\n",
      "Epoch 83/100\n",
      "11/11 [==============================] - 3s 273ms/step - loss: 0.0726\n",
      "Epoch 84/100\n",
      "11/11 [==============================] - 3s 298ms/step - loss: 0.0653\n",
      "Epoch 85/100\n",
      "11/11 [==============================] - 3s 298ms/step - loss: 0.0687\n",
      "Epoch 86/100\n",
      "11/11 [==============================] - 3s 313ms/step - loss: 0.0674\n",
      "Epoch 87/100\n",
      "11/11 [==============================] - 4s 347ms/step - loss: 0.0738\n",
      "Epoch 88/100\n",
      "11/11 [==============================] - 4s 346ms/step - loss: 0.0829\n",
      "Epoch 89/100\n",
      "11/11 [==============================] - 3s 316ms/step - loss: 0.0606\n",
      "Epoch 90/100\n",
      "11/11 [==============================] - 3s 278ms/step - loss: 0.0700\n",
      "Epoch 91/100\n",
      "11/11 [==============================] - 3s 267ms/step - loss: 0.0667\n",
      "Epoch 92/100\n",
      "11/11 [==============================] - 3s 273ms/step - loss: 0.1165\n",
      "Epoch 93/100\n",
      "11/11 [==============================] - 3s 282ms/step - loss: 0.1131\n",
      "Epoch 94/100\n",
      "11/11 [==============================] - 3s 277ms/step - loss: 0.1515\n",
      "Epoch 95/100\n",
      "11/11 [==============================] - 3s 275ms/step - loss: 0.1143\n",
      "Epoch 96/100\n",
      "11/11 [==============================] - 3s 283ms/step - loss: 0.1143\n",
      "Epoch 97/100\n",
      "11/11 [==============================] - 3s 297ms/step - loss: 0.1275\n",
      "Epoch 98/100\n",
      "11/11 [==============================] - 3s 264ms/step - loss: 0.0785\n",
      "Epoch 99/100\n"
     ]
    },
    {
     "name": "stdout",
     "output_type": "stream",
     "text": [
      "11/11 [==============================] - 3s 302ms/step - loss: 0.0822\n",
      "Epoch 100/100\n",
      "11/11 [==============================] - 3s 278ms/step - loss: 0.0794\n"
     ]
    }
   ],
   "source": [
    "initFit4LayerLSTM(X_train, y_train)"
   ]
  },
  {
   "cell_type": "code",
   "execution_count": 27,
   "id": "90ced259",
   "metadata": {},
   "outputs": [],
   "source": [
    "def predict4LayerLSTM(X):\n",
    "    y_pred = model.predict(X)\n",
    "    y_pred = np.argmax(y_pred, axis=1)\n",
    "    return y_pred"
   ]
  },
  {
   "cell_type": "code",
   "execution_count": 28,
   "id": "874ce995",
   "metadata": {},
   "outputs": [
    {
     "name": "stdout",
     "output_type": "stream",
     "text": [
      "5/5 [==============================] - 2s 74ms/step\n"
     ]
    }
   ],
   "source": [
    "y_predicted = predict4LayerLSTM(X_test)"
   ]
  },
  {
   "cell_type": "code",
   "execution_count": 29,
   "id": "1084b740",
   "metadata": {},
   "outputs": [],
   "source": [
    "def parametersCalculation(y_pred, y_true):\n",
    "    # Calculate accuracy\n",
    "    accuracy = np.mean(y_pred == y_true)\n",
    "\n",
    "    # Calculate true positives, false positives, true negatives, false negatives\n",
    "    tp = np.sum((y_pred == 1) & (y_test == 1))\n",
    "    fp = np.sum((y_pred == 1) & (y_test == 0))\n",
    "    tn = np.sum((y_pred == 0) & (y_test == 0))\n",
    "    fn = np.sum((y_pred == 0) & (y_test == 1))\n",
    "\n",
    "    # Calculate precision\n",
    "    precision = tp / (tp + fp)\n",
    "\n",
    "    # Calculate recall\n",
    "    recall = tp / (tp + fn)\n",
    "\n",
    "    # Calculate F1-score\n",
    "    f1_score = 2 * (precision * recall) / (precision + recall)\n",
    "\n",
    "    # Print the calculated metrics\n",
    "    print(\"Accuracy:\", accuracy)\n",
    "    print(\"Precision:\", precision)\n",
    "    print(\"Recall:\", recall)\n",
    "    print(\"F1-score:\", f1_score)"
   ]
  },
  {
   "cell_type": "code",
   "execution_count": 30,
   "id": "8defd377",
   "metadata": {},
   "outputs": [
    {
     "name": "stdout",
     "output_type": "stream",
     "text": [
      "Accuracy: 0.9466666666666667\n",
      "Precision: 1.0\n",
      "Recall: 1.0\n",
      "F1-score: 1.0\n"
     ]
    }
   ],
   "source": [
    "parametersCalculation(y_predicted, y_test)"
   ]
  },
  {
   "cell_type": "code",
   "execution_count": 31,
   "id": "48459488",
   "metadata": {},
   "outputs": [],
   "source": [
    "from sklearn.metrics import confusion_matrix\n",
    "\n",
    "def displayCofusion(y_true, y_pred):\n",
    "    # Calculate the confusion matrix\n",
    "    cm = confusion_matrix(y_true, y_pred)\n",
    "\n",
    "    # Plot the confusion matrix as a heatmap\n",
    "    plt.imshow(cm, interpolation='nearest', cmap=plt.cm.Blues)\n",
    "    plt.colorbar()\n",
    "    plt.xlabel('Predicted')\n",
    "    plt.ylabel('True')\n",
    "    plt.xticks(np.arange(5), ['Class 1', 'Class 2', 'Class 3', 'Class 4', 'Class 5'])\n",
    "    plt.yticks(np.arange(5), ['Class 1', 'Class 2', 'Class 3', 'Class 4', 'Class 5'])\n",
    "    plt.title('Confusion Matrix')\n",
    "    plt.show()"
   ]
  },
  {
   "cell_type": "code",
   "execution_count": 32,
   "id": "2f619b1d",
   "metadata": {},
   "outputs": [
    {
     "data": {
      "image/png": "[encoded data removed]",
      "text/plain": [
       "<Figure size 640x480 with 2 Axes>"
      ]
     },
     "metadata": {},
     "output_type": "display_data"
    }
   ],
   "source": [
    "displayCofusion(y_test, y_predicted)"
   ]
  },
  {
   "cell_type": "markdown",
   "id": "0cf3173c",
   "metadata": {},
   "source": [
    "### Testing the LSTM's prediction for X_test with shuffled columns"
   ]
  },
  {
   "cell_type": "code",
   "execution_count": 33,
   "id": "af7965c9",
   "metadata": {},
   "outputs": [
    {
     "name": "stdout",
     "output_type": "stream",
     "text": [
      "5/5 [==============================] - 0s 73ms/step\n"
     ]
    }
   ],
   "source": [
    "y_predicted_shuffled = predict4LayerLSTM(X_test_shuffled)"
   ]
  },
  {
   "cell_type": "code",
   "execution_count": 34,
   "id": "4b26cd75",
   "metadata": {},
   "outputs": [
    {
     "name": "stdout",
     "output_type": "stream",
     "text": [
      "Accuracy: 0.16\n",
      "Precision: 0.0\n",
      "Recall: 0.0\n",
      "F1-score: nan\n"
     ]
    }
   ],
   "source": [
    "parametersCalculation(y_predicted_shuffled, y_test)"
   ]
  },
  {
   "cell_type": "code",
   "execution_count": 35,
   "id": "9042517a",
   "metadata": {},
   "outputs": [
    {
     "data": {
      "image/png": "[encoded data removed]",
      "text/plain": [
       "<Figure size 640x480 with 2 Axes>"
      ]
     },
     "metadata": {},
     "output_type": "display_data"
    }
   ],
   "source": [
    "displayCofusion(y_test, y_predicted_shuffled)"
   ]
  },
  {
   "cell_type": "markdown",
   "id": "7d991e19",
   "metadata": {},
   "source": [
    "The simulation of causality or creating the bias towards the previous data is working as expected as shuffling of the columns did not yield the same result as the unshuffled data. The accuracy is very low meaning that a dependency has been created between the columns."
   ]
  },
  {
   "cell_type": "markdown",
   "id": "aae00f5d",
   "metadata": {},
   "source": [
    "### Testing the robustness by randomly setting values to NaN"
   ]
  },
  {
   "cell_type": "code",
   "execution_count": 36,
   "id": "81f3857c",
   "metadata": {},
   "outputs": [
    {
     "data": {
      "text/plain": [
       "att1      0\n",
       "att2      0\n",
       "att3      0\n",
       "att4      0\n",
       "att5      0\n",
       "         ..\n",
       "att136    0\n",
       "att137    0\n",
       "att138    0\n",
       "att139    0\n",
       "att140    0\n",
       "Length: 140, dtype: int64"
      ]
     },
     "execution_count": 36,
     "metadata": {},
     "output_type": "execute_result"
    }
   ],
   "source": [
    "X_train.isna().sum()"
   ]
  },
  {
   "cell_type": "code",
   "execution_count": 37,
   "id": "03afe478",
   "metadata": {},
   "outputs": [],
   "source": [
    "def randomDropElementsDf(X_data, retainFrac=0.1):\n",
    "    \n",
    "    X_with_missing_data = X_data.copy()\n",
    "    rowShape, colShape = X_with_missing_data.shape\n",
    "\n",
    "    # making a array randomly of same size as data of bool type\n",
    "    mask = np.zeros(rowShape*colShape, dtype=bool)\n",
    "\n",
    "    rowShape, colShape\n",
    "\n",
    "\n",
    "    # marking first n indexes as true\n",
    "    mask[:round(rowShape*retainFrac)] = True\n",
    "\n",
    "    # shuffling the mask\n",
    "    np.random.shuffle(mask)\n",
    "    mask = mask.reshape(rowShape, colShape)\n",
    "\n",
    "    # applying mask to the data\n",
    "    X_with_missing_data[mask] = np.nan\n",
    "    \n",
    "    return X_with_missing_data"
   ]
  },
  {
   "cell_type": "markdown",
   "id": "3a332ca5",
   "metadata": {},
   "source": [
    "Dropping random values in the test data"
   ]
  },
  {
   "cell_type": "code",
   "execution_count": 38,
   "id": "67362dde",
   "metadata": {},
   "outputs": [
    {
     "name": "stdout",
     "output_type": "stream",
     "text": [
      "Percentage of test values dropped: 20.0\n",
      "5/5 [==============================] - 0s 92ms/step\n",
      "Accuracy: 0.9066666666666666\n",
      "Precision: 1.0\n",
      "Recall: 0.86\n",
      "F1-score: 0.924731182795699\n"
     ]
    },
    {
     "data": {
      "image/png": "[encoded data removed]",
      "text/plain": [
       "<Figure size 640x480 with 2 Axes>"
      ]
     },
     "metadata": {},
     "output_type": "display_data"
    },
    {
     "name": "stdout",
     "output_type": "stream",
     "text": [
      "Percentage of test values dropped: 40.0\n",
      "5/5 [==============================] - 0s 100ms/step\n",
      "Accuracy: 0.9133333333333333\n",
      "Precision: 1.0\n",
      "Recall: 0.9183673469387755\n",
      "F1-score: 0.9574468085106383\n"
     ]
    },
    {
     "data": {
      "image/png": "[encoded data removed]",
      "text/plain": [
       "<Figure size 640x480 with 2 Axes>"
      ]
     },
     "metadata": {},
     "output_type": "display_data"
    },
    {
     "name": "stdout",
     "output_type": "stream",
     "text": [
      "Percentage of test values dropped: 60.0\n",
      "5/5 [==============================] - 0s 73ms/step\n",
      "Accuracy: 0.9133333333333333\n",
      "Precision: 1.0\n",
      "Recall: 0.9183673469387755\n",
      "F1-score: 0.9574468085106383\n"
     ]
    },
    {
     "data": {
      "image/png": "[encoded data removed]",
      "text/plain": [
       "<Figure size 640x480 with 2 Axes>"
      ]
     },
     "metadata": {},
     "output_type": "display_data"
    }
   ],
   "source": [
    "i=0\n",
    "X_test_missing_data=[]\n",
    "for dropFrac in [0.2, 0.4, 0.6]:\n",
    "    print(\"Percentage of test values dropped:\", dropFrac*100)\n",
    "    X_test_missing_data.append(randomDropElementsDf(X_test))\n",
    "\n",
    "    y_predicted = predict4LayerLSTM(X_test_missing_data[i])\n",
    "    parametersCalculation(y_predicted, y_test)\n",
    "    displayCofusion(y_test, y_predicted)\n",
    "    i+=1"
   ]
  },
  {
   "cell_type": "markdown",
   "id": "7483df58",
   "metadata": {},
   "source": [
    "Dropping random values in the training data"
   ]
  },
  {
   "cell_type": "code",
   "execution_count": 39,
   "id": "9a42b76c",
   "metadata": {
    "scrolled": true
   },
   "outputs": [
    {
     "name": "stdout",
     "output_type": "stream",
     "text": [
      "Epoch 1/100\n",
      "11/11 [==============================] - 13s 252ms/step - loss: nan\n",
      "Epoch 2/100\n",
      "11/11 [==============================] - 3s 307ms/step - loss: nan\n",
      "Epoch 3/100\n",
      "11/11 [==============================] - 3s 282ms/step - loss: nan\n",
      "Epoch 4/100\n",
      "11/11 [==============================] - 3s 309ms/step - loss: nan\n",
      "Epoch 5/100\n",
      "11/11 [==============================] - 3s 300ms/step - loss: nan\n",
      "Epoch 6/100\n",
      "11/11 [==============================] - 3s 297ms/step - loss: nan\n",
      "Epoch 7/100\n",
      "11/11 [==============================] - 3s 297ms/step - loss: nan\n",
      "Epoch 8/100\n",
      "11/11 [==============================] - 3s 294ms/step - loss: nan\n",
      "Epoch 9/100\n",
      "11/11 [==============================] - 3s 285ms/step - loss: nan\n",
      "Epoch 10/100\n",
      "11/11 [==============================] - 3s 298ms/step - loss: nan\n",
      "Epoch 11/100\n",
      "11/11 [==============================] - 3s 280ms/step - loss: nan\n",
      "Epoch 12/100\n",
      "11/11 [==============================] - 3s 295ms/step - loss: nan\n",
      "Epoch 13/100\n",
      "11/11 [==============================] - 3s 289ms/step - loss: nan\n",
      "Epoch 14/100\n",
      "11/11 [==============================] - 3s 279ms/step - loss: nan\n",
      "Epoch 15/100\n",
      "11/11 [==============================] - 3s 280ms/step - loss: nan\n",
      "Epoch 16/100\n",
      "11/11 [==============================] - 3s 298ms/step - loss: nan\n",
      "Epoch 17/100\n",
      "11/11 [==============================] - 3s 284ms/step - loss: nan\n",
      "Epoch 18/100\n",
      "11/11 [==============================] - 3s 279ms/step - loss: nan\n",
      "Epoch 19/100\n",
      "11/11 [==============================] - 3s 310ms/step - loss: nan\n",
      "Epoch 20/100\n",
      "11/11 [==============================] - 3s 278ms/step - loss: nan\n",
      "Epoch 21/100\n",
      "11/11 [==============================] - 3s 291ms/step - loss: nan\n",
      "Epoch 22/100\n",
      "11/11 [==============================] - 3s 288ms/step - loss: nan\n",
      "Epoch 23/100\n",
      "11/11 [==============================] - 3s 311ms/step - loss: nan\n",
      "Epoch 24/100\n",
      "11/11 [==============================] - 3s 311ms/step - loss: nan\n",
      "Epoch 25/100\n",
      "11/11 [==============================] - 4s 324ms/step - loss: nan\n",
      "Epoch 26/100\n",
      "11/11 [==============================] - 3s 293ms/step - loss: nan\n",
      "Epoch 27/100\n",
      "11/11 [==============================] - 3s 300ms/step - loss: nan\n",
      "Epoch 28/100\n",
      "11/11 [==============================] - 3s 299ms/step - loss: nan\n",
      "Epoch 29/100\n",
      "11/11 [==============================] - 4s 332ms/step - loss: nan\n",
      "Epoch 30/100\n",
      "11/11 [==============================] - 4s 379ms/step - loss: nan\n",
      "Epoch 31/100\n",
      "11/11 [==============================] - 4s 354ms/step - loss: nan\n",
      "Epoch 32/100\n",
      "11/11 [==============================] - 4s 327ms/step - loss: nan\n",
      "Epoch 33/100\n",
      "11/11 [==============================] - 4s 325ms/step - loss: nan\n",
      "Epoch 34/100\n",
      "11/11 [==============================] - 3s 316ms/step - loss: nan\n",
      "Epoch 35/100\n",
      "11/11 [==============================] - 3s 293ms/step - loss: nan\n",
      "Epoch 36/100\n",
      "11/11 [==============================] - 3s 311ms/step - loss: nan\n",
      "Epoch 37/100\n",
      "11/11 [==============================] - 3s 300ms/step - loss: nan\n",
      "Epoch 38/100\n",
      "11/11 [==============================] - 3s 284ms/step - loss: nan\n",
      "Epoch 39/100\n",
      "11/11 [==============================] - 3s 321ms/step - loss: nan\n",
      "Epoch 40/100\n",
      "11/11 [==============================] - 4s 391ms/step - loss: nan\n",
      "Epoch 41/100\n",
      "11/11 [==============================] - 4s 341ms/step - loss: nan\n",
      "Epoch 42/100\n",
      "11/11 [==============================] - 4s 340ms/step - loss: nan\n",
      "Epoch 43/100\n",
      "11/11 [==============================] - 4s 317ms/step - loss: nan\n",
      "Epoch 44/100\n",
      "11/11 [==============================] - 3s 312ms/step - loss: nan\n",
      "Epoch 45/100\n",
      "11/11 [==============================] - 3s 301ms/step - loss: nan\n",
      "Epoch 46/100\n",
      "11/11 [==============================] - 4s 318ms/step - loss: nan\n",
      "Epoch 47/100\n",
      "11/11 [==============================] - 3s 308ms/step - loss: nan\n",
      "Epoch 48/100\n",
      "11/11 [==============================] - 3s 305ms/step - loss: nan\n",
      "Epoch 49/100\n",
      "11/11 [==============================] - 3s 296ms/step - loss: nan\n",
      "Epoch 50/100\n",
      "11/11 [==============================] - 3s 291ms/step - loss: nan\n",
      "Epoch 51/100\n",
      "11/11 [==============================] - 3s 306ms/step - loss: nan\n",
      "Epoch 52/100\n",
      "11/11 [==============================] - 3s 307ms/step - loss: nan\n",
      "Epoch 53/100\n",
      "11/11 [==============================] - 3s 297ms/step - loss: nan\n",
      "Epoch 54/100\n",
      "11/11 [==============================] - 3s 303ms/step - loss: nan\n",
      "Epoch 55/100\n",
      "11/11 [==============================] - 3s 298ms/step - loss: nan\n",
      "Epoch 56/100\n",
      "11/11 [==============================] - 3s 301ms/step - loss: nan\n",
      "Epoch 57/100\n",
      "11/11 [==============================] - 3s 300ms/step - loss: nan\n",
      "Epoch 58/100\n",
      "11/11 [==============================] - 3s 296ms/step - loss: nan\n",
      "Epoch 59/100\n",
      "11/11 [==============================] - 3s 281ms/step - loss: nan\n",
      "Epoch 60/100\n",
      "11/11 [==============================] - 3s 286ms/step - loss: nan\n",
      "Epoch 61/100\n",
      "11/11 [==============================] - 3s 281ms/step - loss: nan\n",
      "Epoch 62/100\n",
      "11/11 [==============================] - 3s 271ms/step - loss: nan\n",
      "Epoch 63/100\n",
      "11/11 [==============================] - 3s 277ms/step - loss: nan\n",
      "Epoch 64/100\n",
      "11/11 [==============================] - 3s 284ms/step - loss: nan\n",
      "Epoch 65/100\n",
      "11/11 [==============================] - 3s 318ms/step - loss: nan\n",
      "Epoch 66/100\n",
      "11/11 [==============================] - 3s 306ms/step - loss: nan\n",
      "Epoch 67/100\n",
      "11/11 [==============================] - 3s 293ms/step - loss: nan\n",
      "Epoch 68/100\n",
      "11/11 [==============================] - 3s 311ms/step - loss: nan\n",
      "Epoch 69/100\n",
      "11/11 [==============================] - 3s 295ms/step - loss: nan\n",
      "Epoch 70/100\n",
      "11/11 [==============================] - 3s 289ms/step - loss: nan\n",
      "Epoch 71/100\n",
      "11/11 [==============================] - 3s 301ms/step - loss: nan\n",
      "Epoch 72/100\n",
      "11/11 [==============================] - 3s 314ms/step - loss: nan\n",
      "Epoch 73/100\n",
      "11/11 [==============================] - 3s 291ms/step - loss: nan\n",
      "Epoch 74/100\n",
      "11/11 [==============================] - 3s 307ms/step - loss: nan\n",
      "Epoch 75/100\n",
      "11/11 [==============================] - 3s 310ms/step - loss: nan\n",
      "Epoch 76/100\n",
      "11/11 [==============================] - 3s 320ms/step - loss: nan\n",
      "Epoch 77/100\n",
      "11/11 [==============================] - 3s 314ms/step - loss: nan\n",
      "Epoch 78/100\n",
      "11/11 [==============================] - 3s 295ms/step - loss: nan\n",
      "Epoch 79/100\n",
      "11/11 [==============================] - 3s 293ms/step - loss: nan\n",
      "Epoch 80/100\n",
      "11/11 [==============================] - 3s 309ms/step - loss: nan\n",
      "Epoch 81/100\n",
      "11/11 [==============================] - 3s 287ms/step - loss: nan\n",
      "Epoch 82/100\n",
      "11/11 [==============================] - 3s 302ms/step - loss: nan\n",
      "Epoch 83/100\n",
      "11/11 [==============================] - 3s 294ms/step - loss: nan\n",
      "Epoch 84/100\n",
      "11/11 [==============================] - 3s 292ms/step - loss: nan\n",
      "Epoch 85/100\n",
      "11/11 [==============================] - 3s 311ms/step - loss: nan\n",
      "Epoch 86/100\n",
      "11/11 [==============================] - 3s 273ms/step - loss: nan\n",
      "Epoch 87/100\n",
      "11/11 [==============================] - 3s 278ms/step - loss: nan\n",
      "Epoch 88/100\n",
      "11/11 [==============================] - 3s 268ms/step - loss: nan\n",
      "Epoch 89/100\n",
      "11/11 [==============================] - 3s 283ms/step - loss: nan\n",
      "Epoch 90/100\n",
      "11/11 [==============================] - 3s 289ms/step - loss: nan\n",
      "Epoch 91/100\n",
      "11/11 [==============================] - 3s 271ms/step - loss: nan\n",
      "Epoch 92/100\n",
      "11/11 [==============================] - 3s 248ms/step - loss: nan\n",
      "Epoch 93/100\n",
      "11/11 [==============================] - 3s 282ms/step - loss: nan\n",
      "Epoch 94/100\n",
      "11/11 [==============================] - 3s 273ms/step - loss: nan\n",
      "Epoch 95/100\n",
      "11/11 [==============================] - 3s 301ms/step - loss: nan\n",
      "Epoch 96/100\n",
      "11/11 [==============================] - 3s 290ms/step - loss: nan\n",
      "Epoch 97/100\n",
      "11/11 [==============================] - 3s 281ms/step - loss: nan\n",
      "Epoch 98/100\n",
      "11/11 [==============================] - 3s 302ms/step - loss: nan\n",
      "Epoch 99/100\n",
      "11/11 [==============================] - 3s 296ms/step - loss: nan\n",
      "Epoch 100/100\n",
      "11/11 [==============================] - 3s 294ms/step - loss: nan\n",
      "5/5 [==============================] - 2s 77ms/step\n",
      "Accuracy: 0.5866666666666667\n",
      "Precision: nan\n",
      "Recall: 0.0\n",
      "F1-score: nan\n"
     ]
    },
    {
     "data": {
      "image/png": "[encoded data removed]",
      "text/plain": [
       "<Figure size 640x480 with 2 Axes>"
      ]
     },
     "metadata": {},
     "output_type": "display_data"
    }
   ],
   "source": [
    "X_train_missing_data = randomDropElementsDf(X_train)\n",
    "\n",
    "model = Sequential()\n",
    "initFit4LayerLSTM(X_train_missing_data, y_train)\n",
    "y_predicted = predict4LayerLSTM(X_test)\n",
    "parametersCalculation(y_predicted, y_test)\n",
    "displayCofusion(y_test, y_predicted)"
   ]
  },
  {
   "cell_type": "markdown",
   "id": "ca248de4",
   "metadata": {},
   "source": [
    "The accuracy did not vary when some of the data points were dropped and so the model is found to be robust for missing data."
   ]
  },
  {
   "cell_type": "markdown",
   "id": "84edcbf8",
   "metadata": {},
   "source": [
    "### 2. Using GRU"
   ]
  },
  {
   "cell_type": "code",
   "execution_count": 40,
   "id": "f53da4e8",
   "metadata": {},
   "outputs": [],
   "source": [
    "model = Sequential()"
   ]
  },
  {
   "cell_type": "code",
   "execution_count": 41,
   "id": "fa0d1ddc",
   "metadata": {},
   "outputs": [],
   "source": [
    "def initFit4LayerGRU(X, y):    \n",
    "    model.add(kerasLayers.GRU(units = 50, return_sequences = True, input_shape = (X.shape[1], 1)))\n",
    "    model.add(kerasLayers.Dropout(0.2))\n",
    "\n",
    "    model.add(kerasLayers.GRU(units = 50, return_sequences = True))\n",
    "    model.add(kerasLayers.Dropout(0.2))\n",
    "\n",
    "    model.add(kerasLayers.GRU(units = 50, return_sequences = True))\n",
    "    model.add(kerasLayers.Dropout(0.2))\n",
    "\n",
    "    model.add(kerasLayers.GRU(units = 50))\n",
    "    model.add(kerasLayers.Dropout(0.2))\n",
    "\n",
    "    model.add(kerasLayers.Dense(units = 5, activation='softmax'))\n",
    "\n",
    "    model.compile(optimizer = 'adam', loss = 'sparse_categorical_crossentropy')\n",
    "\n",
    "    model.fit(X, y, epochs = 100, batch_size = 32)"
   ]
  },
  {
   "cell_type": "code",
   "execution_count": 42,
   "id": "90fe8a06",
   "metadata": {},
   "outputs": [],
   "source": [
    "def predict4LayerGRU(X):\n",
    "    y_pred = model.predict(X)\n",
    "    y_pred = np.argmax(y_pred, axis=1)\n",
    "    return y_pred"
   ]
  },
  {
   "cell_type": "code",
   "execution_count": 43,
   "id": "6f017cb5",
   "metadata": {},
   "outputs": [
    {
     "name": "stdout",
     "output_type": "stream",
     "text": [
      "Epoch 1/100\n",
      "11/11 [==============================] - 14s 315ms/step - loss: 1.1383\n",
      "Epoch 2/100\n",
      "11/11 [==============================] - 4s 338ms/step - loss: 0.5540\n",
      "Epoch 3/100\n",
      "11/11 [==============================] - 4s 327ms/step - loss: 0.4297\n",
      "Epoch 4/100\n",
      "11/11 [==============================] - 4s 333ms/step - loss: 0.3659\n",
      "Epoch 5/100\n",
      "11/11 [==============================] - 4s 333ms/step - loss: 0.3401\n",
      "Epoch 6/100\n",
      "11/11 [==============================] - 3s 314ms/step - loss: 0.3149\n",
      "Epoch 7/100\n",
      "11/11 [==============================] - 4s 331ms/step - loss: 0.2857\n",
      "Epoch 8/100\n",
      "11/11 [==============================] - 4s 319ms/step - loss: 0.2706\n",
      "Epoch 9/100\n",
      "11/11 [==============================] - 4s 340ms/step - loss: 0.2481\n",
      "Epoch 10/100\n",
      "11/11 [==============================] - 4s 344ms/step - loss: 0.2379\n",
      "Epoch 11/100\n",
      "11/11 [==============================] - 3s 301ms/step - loss: 0.2139\n",
      "Epoch 12/100\n",
      "11/11 [==============================] - 4s 321ms/step - loss: 0.2165\n",
      "Epoch 13/100\n",
      "11/11 [==============================] - 4s 339ms/step - loss: 0.2166\n",
      "Epoch 14/100\n",
      "11/11 [==============================] - 4s 334ms/step - loss: 0.2069\n",
      "Epoch 15/100\n",
      "11/11 [==============================] - 4s 323ms/step - loss: 0.1983\n",
      "Epoch 16/100\n",
      "11/11 [==============================] - 3s 318ms/step - loss: 0.2041\n",
      "Epoch 17/100\n",
      "11/11 [==============================] - 4s 337ms/step - loss: 0.1965\n",
      "Epoch 18/100\n",
      "11/11 [==============================] - 3s 313ms/step - loss: 0.2044\n",
      "Epoch 19/100\n",
      "11/11 [==============================] - 4s 327ms/step - loss: 0.1993\n",
      "Epoch 20/100\n",
      "11/11 [==============================] - 3s 315ms/step - loss: 0.1849\n",
      "Epoch 21/100\n",
      "11/11 [==============================] - 4s 329ms/step - loss: 0.1980\n",
      "Epoch 22/100\n",
      "11/11 [==============================] - 4s 324ms/step - loss: 0.1846\n",
      "Epoch 23/100\n",
      "11/11 [==============================] - 4s 317ms/step - loss: 0.1897\n",
      "Epoch 24/100\n",
      "11/11 [==============================] - 3s 318ms/step - loss: 0.2047\n",
      "Epoch 25/100\n",
      "11/11 [==============================] - 4s 322ms/step - loss: 0.1950\n",
      "Epoch 26/100\n",
      "11/11 [==============================] - 3s 304ms/step - loss: 0.1904\n",
      "Epoch 27/100\n",
      "11/11 [==============================] - 4s 325ms/step - loss: 0.1825\n",
      "Epoch 28/100\n",
      "11/11 [==============================] - 4s 365ms/step - loss: 0.1757\n",
      "Epoch 29/100\n",
      "11/11 [==============================] - 4s 324ms/step - loss: 0.1654\n",
      "Epoch 30/100\n",
      "11/11 [==============================] - 4s 341ms/step - loss: 0.1695\n",
      "Epoch 31/100\n",
      "11/11 [==============================] - 4s 343ms/step - loss: 0.1657\n",
      "Epoch 32/100\n",
      "11/11 [==============================] - 4s 383ms/step - loss: 0.1816\n",
      "Epoch 33/100\n",
      "11/11 [==============================] - 4s 373ms/step - loss: 0.1573\n",
      "Epoch 34/100\n",
      "11/11 [==============================] - 4s 362ms/step - loss: 0.1607\n",
      "Epoch 35/100\n",
      "11/11 [==============================] - 4s 317ms/step - loss: 0.1584\n",
      "Epoch 36/100\n",
      "11/11 [==============================] - 3s 311ms/step - loss: 0.1553\n",
      "Epoch 37/100\n",
      "11/11 [==============================] - 4s 348ms/step - loss: 0.1462\n",
      "Epoch 38/100\n",
      "11/11 [==============================] - 4s 335ms/step - loss: 0.1455\n",
      "Epoch 39/100\n",
      "11/11 [==============================] - 3s 306ms/step - loss: 0.1450\n",
      "Epoch 40/100\n",
      "11/11 [==============================] - 4s 326ms/step - loss: 0.1396\n",
      "Epoch 41/100\n",
      "11/11 [==============================] - 4s 318ms/step - loss: 0.1496\n",
      "Epoch 42/100\n",
      "11/11 [==============================] - 4s 331ms/step - loss: 0.1465\n",
      "Epoch 43/100\n",
      "11/11 [==============================] - 4s 317ms/step - loss: 0.1339\n",
      "Epoch 44/100\n",
      "11/11 [==============================] - 4s 332ms/step - loss: 0.1438\n",
      "Epoch 45/100\n",
      "11/11 [==============================] - 4s 340ms/step - loss: 0.1285\n",
      "Epoch 46/100\n",
      "11/11 [==============================] - 4s 370ms/step - loss: 0.1648\n",
      "Epoch 47/100\n",
      "11/11 [==============================] - 4s 357ms/step - loss: 0.1799\n",
      "Epoch 48/100\n",
      "11/11 [==============================] - 4s 327ms/step - loss: 0.1308\n",
      "Epoch 49/100\n",
      "11/11 [==============================] - 3s 315ms/step - loss: 0.1314\n",
      "Epoch 50/100\n",
      "11/11 [==============================] - 4s 335ms/step - loss: 0.1667\n",
      "Epoch 51/100\n",
      "11/11 [==============================] - 4s 330ms/step - loss: 0.1438\n",
      "Epoch 52/100\n",
      "11/11 [==============================] - 4s 322ms/step - loss: 0.1315\n",
      "Epoch 53/100\n",
      "11/11 [==============================] - 4s 333ms/step - loss: 0.1406\n",
      "Epoch 54/100\n",
      "11/11 [==============================] - 4s 354ms/step - loss: 0.1537\n",
      "Epoch 55/100\n",
      "11/11 [==============================] - 4s 354ms/step - loss: 0.1414\n",
      "Epoch 56/100\n",
      "11/11 [==============================] - 3s 315ms/step - loss: 0.1326\n",
      "Epoch 57/100\n",
      "11/11 [==============================] - 4s 321ms/step - loss: 0.1279\n",
      "Epoch 58/100\n",
      "11/11 [==============================] - 3s 312ms/step - loss: 0.1176\n",
      "Epoch 59/100\n",
      "11/11 [==============================] - 4s 322ms/step - loss: 0.1109\n",
      "Epoch 60/100\n",
      "11/11 [==============================] - 4s 322ms/step - loss: 0.1262\n",
      "Epoch 61/100\n",
      "11/11 [==============================] - 4s 357ms/step - loss: 0.1153\n",
      "Epoch 62/100\n",
      "11/11 [==============================] - 3s 314ms/step - loss: 0.1063\n",
      "Epoch 63/100\n",
      "11/11 [==============================] - 4s 365ms/step - loss: 0.1187\n",
      "Epoch 64/100\n",
      "11/11 [==============================] - 4s 321ms/step - loss: 0.1140\n",
      "Epoch 65/100\n",
      "11/11 [==============================] - 4s 347ms/step - loss: 0.1197\n",
      "Epoch 66/100\n",
      "11/11 [==============================] - 4s 358ms/step - loss: 0.1092\n",
      "Epoch 67/100\n",
      "11/11 [==============================] - 4s 323ms/step - loss: 0.1169\n",
      "Epoch 68/100\n",
      "11/11 [==============================] - 4s 350ms/step - loss: 0.1074\n",
      "Epoch 69/100\n",
      "11/11 [==============================] - 4s 327ms/step - loss: 0.1115\n",
      "Epoch 70/100\n",
      "11/11 [==============================] - 4s 334ms/step - loss: 0.1028\n",
      "Epoch 71/100\n",
      "11/11 [==============================] - 4s 323ms/step - loss: 0.1321\n",
      "Epoch 72/100\n",
      "11/11 [==============================] - 4s 327ms/step - loss: 0.1327\n",
      "Epoch 73/100\n",
      "11/11 [==============================] - 4s 344ms/step - loss: 0.1093\n",
      "Epoch 74/100\n",
      "11/11 [==============================] - 4s 323ms/step - loss: 0.1056\n",
      "Epoch 75/100\n",
      "11/11 [==============================] - 3s 293ms/step - loss: 0.1105\n",
      "Epoch 76/100\n",
      "11/11 [==============================] - 4s 322ms/step - loss: 0.0988\n",
      "Epoch 77/100\n",
      "11/11 [==============================] - 3s 314ms/step - loss: 0.1019\n",
      "Epoch 78/100\n",
      "11/11 [==============================] - 3s 313ms/step - loss: 0.0984\n",
      "Epoch 79/100\n",
      "11/11 [==============================] - 4s 330ms/step - loss: 0.1065\n",
      "Epoch 80/100\n",
      "11/11 [==============================] - 4s 338ms/step - loss: 0.0930\n",
      "Epoch 81/100\n",
      "11/11 [==============================] - 4s 325ms/step - loss: 0.0914\n",
      "Epoch 82/100\n",
      "11/11 [==============================] - 4s 331ms/step - loss: 0.0825\n",
      "Epoch 83/100\n",
      "11/11 [==============================] - 3s 305ms/step - loss: 0.0791\n",
      "Epoch 84/100\n",
      "11/11 [==============================] - 3s 294ms/step - loss: 0.0760\n",
      "Epoch 85/100\n",
      "11/11 [==============================] - 4s 332ms/step - loss: 0.1005\n",
      "Epoch 86/100\n",
      "11/11 [==============================] - 4s 340ms/step - loss: 0.0918\n",
      "Epoch 87/100\n",
      "11/11 [==============================] - 4s 339ms/step - loss: 0.0804\n",
      "Epoch 88/100\n",
      "11/11 [==============================] - 3s 317ms/step - loss: 0.0842\n",
      "Epoch 89/100\n",
      "11/11 [==============================] - 4s 341ms/step - loss: 0.0743\n",
      "Epoch 90/100\n",
      "11/11 [==============================] - 3s 308ms/step - loss: 0.0686\n",
      "Epoch 91/100\n",
      "11/11 [==============================] - 4s 323ms/step - loss: 0.0644\n",
      "Epoch 92/100\n",
      "11/11 [==============================] - 3s 311ms/step - loss: 0.0697\n",
      "Epoch 93/100\n",
      "11/11 [==============================] - 4s 321ms/step - loss: 0.0917\n",
      "Epoch 94/100\n",
      "11/11 [==============================] - 4s 410ms/step - loss: 0.0766\n",
      "Epoch 95/100\n",
      "11/11 [==============================] - 4s 385ms/step - loss: 0.0703\n",
      "Epoch 96/100\n",
      "11/11 [==============================] - 4s 387ms/step - loss: 0.0616\n",
      "Epoch 97/100\n",
      "11/11 [==============================] - 5s 435ms/step - loss: 0.0554\n",
      "Epoch 98/100\n",
      "11/11 [==============================] - 4s 341ms/step - loss: 0.0603\n",
      "Epoch 99/100\n"
     ]
    },
    {
     "name": "stdout",
     "output_type": "stream",
     "text": [
      "11/11 [==============================] - 5s 461ms/step - loss: 0.0569\n",
      "Epoch 100/100\n",
      "11/11 [==============================] - 4s 332ms/step - loss: 0.0617\n"
     ]
    }
   ],
   "source": [
    "initFit4LayerGRU(X_train, y_train)"
   ]
  },
  {
   "cell_type": "code",
   "execution_count": 44,
   "id": "e6ddf07e",
   "metadata": {},
   "outputs": [
    {
     "name": "stdout",
     "output_type": "stream",
     "text": [
      "5/5 [==============================] - 2s 86ms/step\n"
     ]
    }
   ],
   "source": [
    "y_predicted = predict4LayerGRU(X_test)"
   ]
  },
  {
   "cell_type": "code",
   "execution_count": 45,
   "id": "ced20f2e",
   "metadata": {},
   "outputs": [
    {
     "name": "stdout",
     "output_type": "stream",
     "text": [
      "Accuracy: 0.9533333333333334\n",
      "Precision: 1.0\n",
      "Recall: 1.0\n",
      "F1-score: 1.0\n"
     ]
    }
   ],
   "source": [
    "parametersCalculation(y_predicted, y_test)"
   ]
  },
  {
   "cell_type": "code",
   "execution_count": 46,
   "id": "62705b09",
   "metadata": {},
   "outputs": [
    {
     "data": {
      "image/png": "[encoded data removed]",
      "text/plain": [
       "<Figure size 640x480 with 2 Axes>"
      ]
     },
     "metadata": {},
     "output_type": "display_data"
    }
   ],
   "source": [
    "displayCofusion(y_test, y_predicted)"
   ]
  },
  {
   "cell_type": "markdown",
   "id": "f8f230e3",
   "metadata": {},
   "source": [
    "### Testing the GRU's prediction for X_test with shuffled columns"
   ]
  },
  {
   "cell_type": "code",
   "execution_count": 47,
   "id": "b1ec5ebb",
   "metadata": {},
   "outputs": [
    {
     "name": "stdout",
     "output_type": "stream",
     "text": [
      "5/5 [==============================] - 0s 94ms/step\n"
     ]
    }
   ],
   "source": [
    "y_predicted_shuffled = predict4LayerLSTM(X_test_shuffled)"
   ]
  },
  {
   "cell_type": "code",
   "execution_count": 48,
   "id": "4ca4a95c",
   "metadata": {},
   "outputs": [
    {
     "name": "stdout",
     "output_type": "stream",
     "text": [
      "Accuracy: 0.02666666666666667\n",
      "Precision: 0.0\n",
      "Recall: 0.0\n",
      "F1-score: nan\n"
     ]
    }
   ],
   "source": [
    "parametersCalculation(y_predicted_shuffled, y_test)"
   ]
  },
  {
   "cell_type": "code",
   "execution_count": 49,
   "id": "006ac18f",
   "metadata": {},
   "outputs": [
    {
     "data": {
      "image/png": "[encoded data removed]",
      "text/plain": [
       "<Figure size 640x480 with 2 Axes>"
      ]
     },
     "metadata": {},
     "output_type": "display_data"
    }
   ],
   "source": [
    "displayCofusion(y_test, y_predicted_shuffled)"
   ]
  },
  {
   "cell_type": "markdown",
   "id": "3d1f7d68",
   "metadata": {},
   "source": [
    "The LSTM implementation seems to be more reliable compared to that of GRU and the properties of LSTM are more suitable (long term memeory) for this use case."
   ]
  },
  {
   "cell_type": "markdown",
   "id": "c63972f1",
   "metadata": {},
   "source": [
    "### Providing the time series as a vector of various sizes"
   ]
  },
  {
   "cell_type": "code",
   "execution_count": null,
   "id": "c12b6877",
   "metadata": {},
   "outputs": [],
   "source": [
    "# time_series_array = np.empty(X.shape[0], dtype=object)\n",
    "# time_series_array = (X.values).astype(np.float32)\n",
    "# time_series_array=np.asarray(time_series_array).astype(np.float32)"
   ]
  },
  {
   "cell_type": "code",
   "execution_count": null,
   "id": "a4b0d5a4",
   "metadata": {},
   "outputs": [],
   "source": [
    "# X_vector = pd.DataFrame(index=range(time_series_array.shape[0]), columns=range(1))\n",
    "# print(X_vector, time_series_array.shape[0],time_series_array.shape[1])\n",
    "# for i in range(time_series_array.shape[0]):\n",
    "#     print(i)\n",
    "#     X_vector.loc[i,0] = time_series_array[i]"
   ]
  },
  {
   "cell_type": "code",
   "execution_count": null,
   "id": "a001ae15",
   "metadata": {},
   "outputs": [],
   "source": [
    "# X_vector_train, X_vector_test, y_vector_train, y_vector_test = train_test_split(X_vector, y, test_size = 0.3, random_state = 42)"
   ]
  },
  {
   "cell_type": "code",
   "execution_count": null,
   "id": "451ada73",
   "metadata": {},
   "outputs": [],
   "source": [
    "# model = Sequential()\n",
    "# initFit4LayerGRU(X_vector_train, y_vector_train)"
   ]
  },
  {
   "cell_type": "markdown",
   "id": "da200484",
   "metadata": {},
   "source": [
    "### ARIMA (autoregressive integrated moving average) Modelling"
   ]
  },
  {
   "cell_type": "code",
   "execution_count": null,
   "id": "bbe049c7",
   "metadata": {},
   "outputs": [],
   "source": []
  },
  {
   "cell_type": "markdown",
   "id": "83e80afa",
   "metadata": {},
   "source": [
    "## Other Approaches"
   ]
  },
  {
   "cell_type": "code",
   "execution_count": null,
   "id": "203e2195",
   "metadata": {},
   "outputs": [],
   "source": [
    "from sklearn.metrics.pairwise import pairwise_distances\n",
    "from sklearn.svm import SVC\n",
    "\n",
    "from fastdtw import fastdtw"
   ]
  },
  {
   "cell_type": "markdown",
   "id": "3acab47b",
   "metadata": {},
   "source": [
    "### Dynamic Time Warping SVM (DTW-SVM)"
   ]
  },
  {
   "cell_type": "code",
   "execution_count": null,
   "id": "05d6c935",
   "metadata": {},
   "outputs": [],
   "source": [
    "#X_train_dtw = np.empty([])\n",
    "\n",
    "# Define a custom distance function using DTW\n",
    "def dtw_distance(x, y):\n",
    "    distance, _ = fastdtw(x, y)\n",
    "    return distance\n",
    "\n",
    "X_train_array = np.array(X_train)\n",
    "\n",
    "# Compute pairwise distance matrix using DTW distance\n",
    "n_samples = len(X_train_array)\n",
    "X_train_array = np.zeros((n_samples, n_samples))\n",
    "X_train_dtw = np.empty([n_samples, n_samples])\n",
    "for i in range(n_samples):\n",
    "    for j in range(i, n_samples):\n",
    "        #print(X_train_array)\n",
    "        dist = dtw_distance(X_train_array[i], X_train_array[j])\n",
    "        X_train_dtw[i, j] = dist\n",
    "        X_train_dtw[j, i] = dist\n",
    "\n",
    "# Dynamic Time Warping SVM (DTW-SVM)\n",
    "clf_dtwsvm = SVC(kernel=\"precomputed\")\n",
    "clf_dtwsvm.fit(X_train_dtw, y_train)"
   ]
  },
  {
   "cell_type": "code",
   "execution_count": null,
   "id": "ccca1f59",
   "metadata": {},
   "outputs": [],
   "source": [
    "X_test_array = np.array(X_test)\n",
    "\n",
    "# Compute pairwise distance matrix using DTW distance\n",
    "n_samples = len(X_test_array)\n",
    "X_test_array = np.zeros((n_samples, n_samples))\n",
    "for i in range(n_samples):\n",
    "    for j in range(i, n_samples):\n",
    "        #print(X_train_array)\n",
    "        dist = dtw_distance(X_test_array[i], X_test_array[j])\n",
    "        X_test_dtw[i, j] = dist\n",
    "        X_test_dtw[j, i] = dist\n",
    "\n",
    "y_pred = svm_clf.predict(X_test_dtw)"
   ]
  },
  {
   "cell_type": "markdown",
   "id": "b64bf0dc",
   "metadata": {},
   "source": [
    "### Support Vector Data Description for Time Series (SVDD-TS)"
   ]
  },
  {
   "cell_type": "code",
   "execution_count": null,
   "id": "c1220da5",
   "metadata": {},
   "outputs": [],
   "source": [
    "import sys\n",
    "sys.path.append(\"..\")\n",
    "\n",
    "from src.BaseSVDD import BaseSVDD\n",
    "from sklearn.decomposition import KernelPCA\n",
    "\n",
    "\n",
    "# number of the dimensionality\n",
    "kpca = KernelPCA(n_components=2, kernel=\"rbf\", gamma=0.1, fit_inverse_transform=True)\n",
    "X_kpca = kpca.fit_transform(X_train)\n",
    "\n",
    "# fit the SVDD model\n",
    "svdd = BaseSVDD(C=0.9, gamma=10, kernel='rbf', display='on')\n",
    "\n",
    "# fit and predict\n",
    "svdd.fit(X_kpca,  y_train)\n",
    "y_test_predict = svdd.predict(X_kpca, y)\n",
    "\n",
    "# plot the distance curve\n",
    "radius = svdd.radius\n",
    "distance = svdd.get_distance(X_kpca)\n",
    "svdd.plot_distance(radius, distance)\n",
    "\n",
    "# plot the boundary\n",
    "svdd.plot_boundary(X_kpca,  y)"
   ]
  },
  {
   "cell_type": "code",
   "execution_count": null,
   "id": "8f3baba3",
   "metadata": {},
   "outputs": [],
   "source": [
    "import numpy as np\n",
    "from sklearn.decomposition import KernelPCA\n",
    "from sklearn.svm import OneClassSVM\n",
    "\n",
    "\n",
    "# create 100 points with 5 dimensions\n",
    "X = np.r_[np.random.randn(50, 5) + 1, np.random.randn(50, 5)]\n",
    "y = np.append(np.ones((50, 1), dtype=np.int64), \n",
    "              -np.ones((50, 1), dtype=np.int64),\n",
    "              axis=0)\n",
    "\n",
    "# number of the dimensionality\n",
    "kpca = KernelPCA(n_components=2, kernel=\"rbf\", gamma=0.1, fit_inverse_transform=True)\n",
    "X_kpca = kpca.fit_transform(X)\n",
    "\n",
    "# fit the OneClassSVM model\n",
    "svm = OneClassSVM(nu=0.1, kernel='rbf', gamma=0.1)\n",
    "\n",
    "# fit and predict\n",
    "svm.fit(X_kpca)\n",
    "y_test_predict = svm.predict(X_kpca)\n",
    "\n",
    "# plot the distance curve\n",
    "radius = np.sqrt(-svm.intercept_ / svm.nu)\n",
    "distance = svm.decision_function(X_kpca)\n",
    "plt.plot(distance)\n",
    "\n",
    "# plot the boundary\n",
    "plt.scatter(X_kpca[:, 0], X_kpca[:, 1], c=y_test_predict, cmap='coolwarm', alpha=0.5)\n",
    "xx, yy = np.meshgrid(np.linspace(-5, 5, 500), np.linspace(-5, 5, 500))\n",
    "Z = svm.decision_function(np.c_[xx.ravel(), yy.ravel()])\n",
    "Z = Z.reshape(xx.shape)\n",
    "plt.contour(xx, yy, Z, levels=[-radius, 0, radius], colors='k', linestyles=['--', '-', '--'])\n",
    "plt.show()\n"
   ]
  },
  {
   "cell_type": "markdown",
   "id": "f5b2d4df",
   "metadata": {},
   "source": [
    "It takes a very long time to run."
   ]
  },
  {
   "cell_type": "markdown",
   "id": "8dfb4a65",
   "metadata": {},
   "source": [
    "### Using RandomForest for Time series classiffication"
   ]
  },
  {
   "cell_type": "code",
   "execution_count": null,
   "id": "f36cf28c",
   "metadata": {},
   "outputs": [],
   "source": [
    "from sklearn.metrics import mean_absolute_error\n",
    "from sklearn.ensemble import RandomForestClassifier\n",
    "from pandas import DataFrame\n",
    "from pandas import concat\n",
    "from matplotlib import pyplot\n",
    "\n",
    "# transform a time series dataset into a supervised learning dataset\n",
    "def series_to_supervised(X_train_RF, y_train_RF, n_in=1, n_out=1, dropnan=True):\n",
    "    \"\"\"\n",
    "    Transform a time series dataset into a supervised learning dataset.\n",
    "\n",
    "    Arguments:\n",
    "    X_train -- input features of the training set, array-like of shape (n_samples, n_features)\n",
    "    y_train -- target variable of the training set, array-like of shape (n_samples,)\n",
    "    n_in -- number of lag observations as input (X), default=1\n",
    "    n_out -- number of observations as output (y), default=1\n",
    "    dropnan -- boolean value whether or not to drop rows with NaN values, default=True\n",
    "\n",
    "    Returns:\n",
    "    agg.values -- a supervised learning dataset in the format of X, y.\n",
    "    \"\"\"\n",
    "    n_vars = X_train.shape[1] if X_train.ndim > 1 else 1\n",
    "    df_X = DataFrame(X_train_RF)\n",
    "    df_y = DataFrame(y_train_RF)\n",
    "    cols_X, cols_y = list(), list()\n",
    "    # input sequence (t-n, ... t-1)\n",
    "    for i in range(n_in, 0, -1):\n",
    "        cols_X.append(df_X.shift(i))\n",
    "    # forecast sequence (t, t+1, ... t+n)\n",
    "    for i in range(0, n_out):\n",
    "        cols_y.append(df_y.shift(-i))\n",
    "    # put it all together\n",
    "    cols = cols_X + cols_y\n",
    "    agg = concat(cols, axis=1)\n",
    "    # drop rows with NaN values\n",
    "    if dropnan:\n",
    "        agg.dropna(inplace=True)\n",
    "    return agg.values\n",
    "\n",
    "# fit an random forest model and make a one step prediction\n",
    "def random_forest_forecast(X_train_RF, y_train_RF, X_test_RF):\n",
    "#     history[i][0] is X_train_RF\n",
    "#     history[i][1] is y_train_RF\n",
    "    # fit model\n",
    "    model = RandomForestClassifier(n_estimators=1000)\n",
    "    model.fit(X_train_RF, y_train_RF)\n",
    "    # make a one-step prediction\n",
    "    y_hat = model.predict([X_test_RF])\n",
    "    return y_hat[0]\n",
    "\n",
    "# walk-forward validation for univariate data\n",
    "def walk_forward_validation(X_train_RF, y_train_RF, X_test_RF, y_test_RF):\n",
    "    predictions = list()\n",
    "    \n",
    "    # seed history with training dataset\n",
    "    X_history = [X_train_RF.loc[i,:] for i in X_train_RF.index.values.tolist()]\n",
    "    y_history = [y_train_RF[i] for i in X_train_RF.index.values.tolist()]\n",
    "    \n",
    "    # step over each time-step in the test set\n",
    "    for i in X_test_RF.index.values.tolist():\n",
    "\n",
    "        # fit model on history and make a prediction\n",
    "        y_hat = random_forest_forecast(X_history, y_history, X_test_RF.loc[i,:])\n",
    "        # store forecast in list of predictions\n",
    "        predictions.append(y_hat)\n",
    "        # add actual observation to history for the next loop\n",
    "        X_history.append(X_test_RF.loc[i,:])\n",
    "        y_history.append(y_test_RF[i])\n",
    "        # summarize progress\n",
    "        print('>expected=%.1f, predicted=%.1f' % (y_test_RF[i], y_hat))\n",
    "    # estimate prediction error\n",
    "    error = mean_absolute_error(y_test_RF, predictions)\n",
    "    return error, y_test_RF, predictions\n",
    "\n",
    "# transform the time series data into supervised learning\n",
    "data = series_to_supervised(X_train, y_train)\n",
    "# evaluate\n",
    "errorVal, y_true, y_pred = walk_forward_validation(X_train, y_train, X_test, y_test)\n",
    "print('Mean Absolute Error: %.3f' % errorVal)\n",
    "# plot expected vs predicted\n",
    "# pyplot.plot(y_true, label='Expected')\n",
    "# pyplot.plot(y_pred, label='Predicted')\n",
    "# pyplot.legend()\n",
    "# pyplot.show()"
   ]
  },
  {
   "cell_type": "code",
   "execution_count": null,
   "id": "cb4b8e50",
   "metadata": {},
   "outputs": [],
   "source": [
    "displayCofusion(y_true, y_pred)"
   ]
  },
  {
   "cell_type": "code",
   "execution_count": null,
   "id": "aca2a77b",
   "metadata": {},
   "outputs": [],
   "source": [
    "errorVal, y_true, y_pred = walk_forward_validation(X_train, y_train, X_test_shuffled, y_test)"
   ]
  },
  {
   "cell_type": "code",
   "execution_count": null,
   "id": "2eaa1314",
   "metadata": {},
   "outputs": [],
   "source": [
    "errorVal"
   ]
  },
  {
   "cell_type": "code",
   "execution_count": null,
   "id": "cf110e27",
   "metadata": {},
   "outputs": [],
   "source": [
    "displayCofusion(y_true, y_pred)"
   ]
  },
  {
   "cell_type": "markdown",
   "id": "19470e95",
   "metadata": {},
   "source": [
    "#### The error doesn't go down by a lot and so seems like the dependency is not considered."
   ]
  },
  {
   "cell_type": "code",
   "execution_count": null,
   "id": "8eb02db3",
   "metadata": {},
   "outputs": [],
   "source": []
  },
  {
   "cell_type": "code",
   "execution_count": null,
   "id": "c80673bf",
   "metadata": {},
   "outputs": [],
   "source": [
    "rowShape, colShape = X_train_missing_data.shape\n",
    "\n",
    "# making a array randomly of same size as data of bool type\n",
    "mask = np.zeros(rowShape*colShape, dtype=bool)\n",
    "\n",
    "rowShape, colShape"
   ]
  },
  {
   "cell_type": "code",
   "execution_count": null,
   "id": "a92f7e2f",
   "metadata": {},
   "outputs": [],
   "source": [
    "# marking first n indexes as true\n",
    "mask[:round(rowShape*0.9)] = True\n",
    " \n",
    "# shuffling the mask\n",
    "np.random.shuffle(mask)\n",
    "mask = mask.reshape(rowShape, colShape)\n",
    " \n",
    "# applying mask to the data\n",
    "X_train_missing_data[mask] = np.nan"
   ]
  },
  {
   "cell_type": "code",
   "execution_count": null,
   "id": "e2670b97",
   "metadata": {},
   "outputs": [],
   "source": [
    "X_train_missing_data"
   ]
  },
  {
   "cell_type": "code",
   "execution_count": null,
   "id": "e58eb28c",
   "metadata": {},
   "outputs": [],
   "source": [
    "model = Sequential()\n",
    "initFit4LayerLSTM(X_train_missing_data, y_train)\n",
    "y_predicted = predict4LayerLSTM(X_test)\n",
    "parametersCalculation(y_predicted, y_test)\n",
    "displayCofusion(y_test, y_predicted)"
   ]
  }
 ],
 "metadata": {
  "kernelspec": {
   "display_name": "Python 3 (ipykernel)",
   "language": "python",
   "name": "python3"
  },
  "language_info": {
   "codemirror_mode": {
    "name": "ipython",
    "version": 3
   },
   "file_extension": ".py",
   "mimetype": "text/x-python",
   "name": "python",
   "nbconvert_exporter": "python",
   "pygments_lexer": "ipython3",
   "version": "3.9.13"
  }
 },
 "nbformat": 4,
 "nbformat_minor": 5
}

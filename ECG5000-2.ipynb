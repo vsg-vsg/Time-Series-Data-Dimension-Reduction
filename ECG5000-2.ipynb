{
 "cells": [
  {
   "cell_type": "markdown",
   "id": "4803a0e9",
   "metadata": {},
   "source": [
    "### Importing necessary libraries"
   ]
  },
  {
   "cell_type": "code",
   "execution_count": 1,
   "id": "c7043e1b",
   "metadata": {},
   "outputs": [],
   "source": [
    "from scipy.io import arff\n",
    "import numpy as np\n",
    "import pandas as pd\n",
    "import seaborn as sns\n",
    "import matplotlib.pyplot as plt\n",
    "\n",
    "import ecg_plot\n",
    "\n",
    "import heartpy as hp\n",
    "\n",
    "import sklearn.preprocessing as sk_preprocess\n",
    "\n",
    "import sklearn.decomposition as sk_decomp\n",
    "\n",
    "from sklearn.model_selection import train_test_split\n",
    "\n",
    "from sklearn.linear_model import LogisticRegression\n",
    "\n",
    "#from sklearn.preprocessing import MultiLabelBinarizer"
   ]
  },
  {
   "cell_type": "markdown",
   "id": "f64e53a2",
   "metadata": {},
   "source": [
    "### Read data"
   ]
  },
  {
   "cell_type": "code",
   "execution_count": 2,
   "id": "0ab3d7f3",
   "metadata": {},
   "outputs": [],
   "source": [
    "data = pd.DataFrame(arff.loadarff('ECG5000_TRAIN.arff')[0])"
   ]
  },
  {
   "cell_type": "code",
   "execution_count": 3,
   "id": "21fb35e8",
   "metadata": {},
   "outputs": [],
   "source": [
    "data_array=np.array(data)"
   ]
  },
  {
   "cell_type": "code",
   "execution_count": 4,
   "id": "c1797a02",
   "metadata": {},
   "outputs": [
    {
     "data": {
      "text/html": [
       "<div>\n",
       "<style scoped>\n",
       "    .dataframe tbody tr th:only-of-type {\n",
       "        vertical-align: middle;\n",
       "    }\n",
       "\n",
       "    .dataframe tbody tr th {\n",
       "        vertical-align: top;\n",
       "    }\n",
       "\n",
       "    .dataframe thead th {\n",
       "        text-align: right;\n",
       "    }\n",
       "</style>\n",
       "<table border=\"1\" class=\"dataframe\">\n",
       "  <thead>\n",
       "    <tr style=\"text-align: right;\">\n",
       "      <th></th>\n",
       "      <th>att1</th>\n",
       "      <th>att2</th>\n",
       "      <th>att3</th>\n",
       "      <th>att4</th>\n",
       "      <th>att5</th>\n",
       "      <th>att6</th>\n",
       "      <th>att7</th>\n",
       "      <th>att8</th>\n",
       "      <th>att9</th>\n",
       "      <th>att10</th>\n",
       "      <th>...</th>\n",
       "      <th>att132</th>\n",
       "      <th>att133</th>\n",
       "      <th>att134</th>\n",
       "      <th>att135</th>\n",
       "      <th>att136</th>\n",
       "      <th>att137</th>\n",
       "      <th>att138</th>\n",
       "      <th>att139</th>\n",
       "      <th>att140</th>\n",
       "      <th>target</th>\n",
       "    </tr>\n",
       "  </thead>\n",
       "  <tbody>\n",
       "    <tr>\n",
       "      <th>0</th>\n",
       "      <td>-0.112522</td>\n",
       "      <td>-2.827204</td>\n",
       "      <td>-3.773897</td>\n",
       "      <td>-4.349751</td>\n",
       "      <td>-4.376041</td>\n",
       "      <td>-3.474986</td>\n",
       "      <td>-2.181408</td>\n",
       "      <td>-1.818286</td>\n",
       "      <td>-1.250522</td>\n",
       "      <td>-0.477492</td>\n",
       "      <td>...</td>\n",
       "      <td>0.792168</td>\n",
       "      <td>0.933541</td>\n",
       "      <td>0.796958</td>\n",
       "      <td>0.578621</td>\n",
       "      <td>0.257740</td>\n",
       "      <td>0.228077</td>\n",
       "      <td>0.123431</td>\n",
       "      <td>0.925286</td>\n",
       "      <td>0.193137</td>\n",
       "      <td>b'1'</td>\n",
       "    </tr>\n",
       "    <tr>\n",
       "      <th>1</th>\n",
       "      <td>-1.100878</td>\n",
       "      <td>-3.996840</td>\n",
       "      <td>-4.285843</td>\n",
       "      <td>-4.506579</td>\n",
       "      <td>-4.022377</td>\n",
       "      <td>-3.234368</td>\n",
       "      <td>-1.566126</td>\n",
       "      <td>-0.992258</td>\n",
       "      <td>-0.754680</td>\n",
       "      <td>0.042321</td>\n",
       "      <td>...</td>\n",
       "      <td>0.538356</td>\n",
       "      <td>0.656881</td>\n",
       "      <td>0.787490</td>\n",
       "      <td>0.724046</td>\n",
       "      <td>0.555784</td>\n",
       "      <td>0.476333</td>\n",
       "      <td>0.773820</td>\n",
       "      <td>1.119621</td>\n",
       "      <td>-1.436250</td>\n",
       "      <td>b'1'</td>\n",
       "    </tr>\n",
       "    <tr>\n",
       "      <th>2</th>\n",
       "      <td>-0.567088</td>\n",
       "      <td>-2.593450</td>\n",
       "      <td>-3.874230</td>\n",
       "      <td>-4.584095</td>\n",
       "      <td>-4.187449</td>\n",
       "      <td>-3.151462</td>\n",
       "      <td>-1.742940</td>\n",
       "      <td>-1.490659</td>\n",
       "      <td>-1.183580</td>\n",
       "      <td>-0.394229</td>\n",
       "      <td>...</td>\n",
       "      <td>0.886073</td>\n",
       "      <td>0.531452</td>\n",
       "      <td>0.311377</td>\n",
       "      <td>-0.021919</td>\n",
       "      <td>-0.713683</td>\n",
       "      <td>-0.532197</td>\n",
       "      <td>0.321097</td>\n",
       "      <td>0.904227</td>\n",
       "      <td>-0.421797</td>\n",
       "      <td>b'1'</td>\n",
       "    </tr>\n",
       "    <tr>\n",
       "      <th>3</th>\n",
       "      <td>0.490473</td>\n",
       "      <td>-1.914407</td>\n",
       "      <td>-3.616364</td>\n",
       "      <td>-4.318823</td>\n",
       "      <td>-4.268016</td>\n",
       "      <td>-3.881110</td>\n",
       "      <td>-2.993280</td>\n",
       "      <td>-1.671131</td>\n",
       "      <td>-1.333884</td>\n",
       "      <td>-0.965629</td>\n",
       "      <td>...</td>\n",
       "      <td>0.350816</td>\n",
       "      <td>0.499111</td>\n",
       "      <td>0.600345</td>\n",
       "      <td>0.842069</td>\n",
       "      <td>0.952074</td>\n",
       "      <td>0.990133</td>\n",
       "      <td>1.086798</td>\n",
       "      <td>1.403011</td>\n",
       "      <td>-0.383564</td>\n",
       "      <td>b'1'</td>\n",
       "    </tr>\n",
       "    <tr>\n",
       "      <th>4</th>\n",
       "      <td>0.800232</td>\n",
       "      <td>-0.874252</td>\n",
       "      <td>-2.384761</td>\n",
       "      <td>-3.973292</td>\n",
       "      <td>-4.338224</td>\n",
       "      <td>-3.802422</td>\n",
       "      <td>-2.534510</td>\n",
       "      <td>-1.783423</td>\n",
       "      <td>-1.594450</td>\n",
       "      <td>-0.753199</td>\n",
       "      <td>...</td>\n",
       "      <td>1.148884</td>\n",
       "      <td>0.958434</td>\n",
       "      <td>1.059025</td>\n",
       "      <td>1.371682</td>\n",
       "      <td>1.277392</td>\n",
       "      <td>0.960304</td>\n",
       "      <td>0.971020</td>\n",
       "      <td>1.614392</td>\n",
       "      <td>1.421456</td>\n",
       "      <td>b'1'</td>\n",
       "    </tr>\n",
       "    <tr>\n",
       "      <th>...</th>\n",
       "      <td>...</td>\n",
       "      <td>...</td>\n",
       "      <td>...</td>\n",
       "      <td>...</td>\n",
       "      <td>...</td>\n",
       "      <td>...</td>\n",
       "      <td>...</td>\n",
       "      <td>...</td>\n",
       "      <td>...</td>\n",
       "      <td>...</td>\n",
       "      <td>...</td>\n",
       "      <td>...</td>\n",
       "      <td>...</td>\n",
       "      <td>...</td>\n",
       "      <td>...</td>\n",
       "      <td>...</td>\n",
       "      <td>...</td>\n",
       "      <td>...</td>\n",
       "      <td>...</td>\n",
       "      <td>...</td>\n",
       "      <td>...</td>\n",
       "    </tr>\n",
       "    <tr>\n",
       "      <th>495</th>\n",
       "      <td>-0.478577</td>\n",
       "      <td>-1.779959</td>\n",
       "      <td>-2.398159</td>\n",
       "      <td>-3.170112</td>\n",
       "      <td>-3.559732</td>\n",
       "      <td>-3.573956</td>\n",
       "      <td>-2.989770</td>\n",
       "      <td>-2.270605</td>\n",
       "      <td>-1.688277</td>\n",
       "      <td>-1.359872</td>\n",
       "      <td>...</td>\n",
       "      <td>1.160885</td>\n",
       "      <td>1.456331</td>\n",
       "      <td>2.209421</td>\n",
       "      <td>2.507175</td>\n",
       "      <td>2.198534</td>\n",
       "      <td>1.705849</td>\n",
       "      <td>1.492642</td>\n",
       "      <td>1.561890</td>\n",
       "      <td>1.520161</td>\n",
       "      <td>b'4'</td>\n",
       "    </tr>\n",
       "    <tr>\n",
       "      <th>496</th>\n",
       "      <td>-1.325210</td>\n",
       "      <td>-2.480992</td>\n",
       "      <td>-2.965356</td>\n",
       "      <td>-3.342392</td>\n",
       "      <td>-3.176351</td>\n",
       "      <td>-2.891528</td>\n",
       "      <td>-2.369679</td>\n",
       "      <td>-1.598750</td>\n",
       "      <td>-1.071751</td>\n",
       "      <td>-0.891843</td>\n",
       "      <td>...</td>\n",
       "      <td>-0.172154</td>\n",
       "      <td>-0.864803</td>\n",
       "      <td>-1.549854</td>\n",
       "      <td>-2.460243</td>\n",
       "      <td>-3.366562</td>\n",
       "      <td>-3.466546</td>\n",
       "      <td>-2.718380</td>\n",
       "      <td>-1.855209</td>\n",
       "      <td>-1.539958</td>\n",
       "      <td>b'4'</td>\n",
       "    </tr>\n",
       "    <tr>\n",
       "      <th>497</th>\n",
       "      <td>-0.021964</td>\n",
       "      <td>-0.912434</td>\n",
       "      <td>-1.903353</td>\n",
       "      <td>-2.662829</td>\n",
       "      <td>-3.122156</td>\n",
       "      <td>-3.451490</td>\n",
       "      <td>-3.392982</td>\n",
       "      <td>-2.929937</td>\n",
       "      <td>-2.256294</td>\n",
       "      <td>-1.690706</td>\n",
       "      <td>...</td>\n",
       "      <td>1.339479</td>\n",
       "      <td>1.457995</td>\n",
       "      <td>2.128078</td>\n",
       "      <td>2.630759</td>\n",
       "      <td>2.295748</td>\n",
       "      <td>1.764967</td>\n",
       "      <td>1.444280</td>\n",
       "      <td>1.432347</td>\n",
       "      <td>1.457028</td>\n",
       "      <td>b'4'</td>\n",
       "    </tr>\n",
       "    <tr>\n",
       "      <th>498</th>\n",
       "      <td>0.288011</td>\n",
       "      <td>-1.098020</td>\n",
       "      <td>-2.500250</td>\n",
       "      <td>-3.598599</td>\n",
       "      <td>-3.650608</td>\n",
       "      <td>-3.281587</td>\n",
       "      <td>-2.231601</td>\n",
       "      <td>-1.250656</td>\n",
       "      <td>-1.072574</td>\n",
       "      <td>-0.434310</td>\n",
       "      <td>...</td>\n",
       "      <td>-0.029242</td>\n",
       "      <td>0.071414</td>\n",
       "      <td>0.118161</td>\n",
       "      <td>-0.071967</td>\n",
       "      <td>-0.171214</td>\n",
       "      <td>0.131211</td>\n",
       "      <td>0.049872</td>\n",
       "      <td>0.010915</td>\n",
       "      <td>-0.081534</td>\n",
       "      <td>b'5'</td>\n",
       "    </tr>\n",
       "    <tr>\n",
       "      <th>499</th>\n",
       "      <td>-1.133674</td>\n",
       "      <td>-2.702941</td>\n",
       "      <td>-3.120979</td>\n",
       "      <td>-3.558669</td>\n",
       "      <td>-3.312442</td>\n",
       "      <td>-2.607641</td>\n",
       "      <td>-1.354939</td>\n",
       "      <td>-1.014740</td>\n",
       "      <td>-0.796023</td>\n",
       "      <td>-0.259599</td>\n",
       "      <td>...</td>\n",
       "      <td>-3.206942</td>\n",
       "      <td>-2.941677</td>\n",
       "      <td>-2.557140</td>\n",
       "      <td>-1.487946</td>\n",
       "      <td>-1.118880</td>\n",
       "      <td>-0.737113</td>\n",
       "      <td>-0.110840</td>\n",
       "      <td>0.001858</td>\n",
       "      <td>-0.122639</td>\n",
       "      <td>b'5'</td>\n",
       "    </tr>\n",
       "  </tbody>\n",
       "</table>\n",
       "<p>500 rows × 141 columns</p>\n",
       "</div>"
      ],
      "text/plain": [
       "         att1      att2      att3      att4      att5      att6      att7  \\\n",
       "0   -0.112522 -2.827204 -3.773897 -4.349751 -4.376041 -3.474986 -2.181408   \n",
       "1   -1.100878 -3.996840 -4.285843 -4.506579 -4.022377 -3.234368 -1.566126   \n",
       "2   -0.567088 -2.593450 -3.874230 -4.584095 -4.187449 -3.151462 -1.742940   \n",
       "3    0.490473 -1.914407 -3.616364 -4.318823 -4.268016 -3.881110 -2.993280   \n",
       "4    0.800232 -0.874252 -2.384761 -3.973292 -4.338224 -3.802422 -2.534510   \n",
       "..        ...       ...       ...       ...       ...       ...       ...   \n",
       "495 -0.478577 -1.779959 -2.398159 -3.170112 -3.559732 -3.573956 -2.989770   \n",
       "496 -1.325210 -2.480992 -2.965356 -3.342392 -3.176351 -2.891528 -2.369679   \n",
       "497 -0.021964 -0.912434 -1.903353 -2.662829 -3.122156 -3.451490 -3.392982   \n",
       "498  0.288011 -1.098020 -2.500250 -3.598599 -3.650608 -3.281587 -2.231601   \n",
       "499 -1.133674 -2.702941 -3.120979 -3.558669 -3.312442 -2.607641 -1.354939   \n",
       "\n",
       "         att8      att9     att10  ...    att132    att133    att134  \\\n",
       "0   -1.818286 -1.250522 -0.477492  ...  0.792168  0.933541  0.796958   \n",
       "1   -0.992258 -0.754680  0.042321  ...  0.538356  0.656881  0.787490   \n",
       "2   -1.490659 -1.183580 -0.394229  ...  0.886073  0.531452  0.311377   \n",
       "3   -1.671131 -1.333884 -0.965629  ...  0.350816  0.499111  0.600345   \n",
       "4   -1.783423 -1.594450 -0.753199  ...  1.148884  0.958434  1.059025   \n",
       "..        ...       ...       ...  ...       ...       ...       ...   \n",
       "495 -2.270605 -1.688277 -1.359872  ...  1.160885  1.456331  2.209421   \n",
       "496 -1.598750 -1.071751 -0.891843  ... -0.172154 -0.864803 -1.549854   \n",
       "497 -2.929937 -2.256294 -1.690706  ...  1.339479  1.457995  2.128078   \n",
       "498 -1.250656 -1.072574 -0.434310  ... -0.029242  0.071414  0.118161   \n",
       "499 -1.014740 -0.796023 -0.259599  ... -3.206942 -2.941677 -2.557140   \n",
       "\n",
       "       att135    att136    att137    att138    att139    att140  target  \n",
       "0    0.578621  0.257740  0.228077  0.123431  0.925286  0.193137    b'1'  \n",
       "1    0.724046  0.555784  0.476333  0.773820  1.119621 -1.436250    b'1'  \n",
       "2   -0.021919 -0.713683 -0.532197  0.321097  0.904227 -0.421797    b'1'  \n",
       "3    0.842069  0.952074  0.990133  1.086798  1.403011 -0.383564    b'1'  \n",
       "4    1.371682  1.277392  0.960304  0.971020  1.614392  1.421456    b'1'  \n",
       "..        ...       ...       ...       ...       ...       ...     ...  \n",
       "495  2.507175  2.198534  1.705849  1.492642  1.561890  1.520161    b'4'  \n",
       "496 -2.460243 -3.366562 -3.466546 -2.718380 -1.855209 -1.539958    b'4'  \n",
       "497  2.630759  2.295748  1.764967  1.444280  1.432347  1.457028    b'4'  \n",
       "498 -0.071967 -0.171214  0.131211  0.049872  0.010915 -0.081534    b'5'  \n",
       "499 -1.487946 -1.118880 -0.737113 -0.110840  0.001858 -0.122639    b'5'  \n",
       "\n",
       "[500 rows x 141 columns]"
      ]
     },
     "execution_count": 4,
     "metadata": {},
     "output_type": "execute_result"
    }
   ],
   "source": [
    "data"
   ]
  },
  {
   "cell_type": "code",
   "execution_count": 5,
   "id": "28b82e18",
   "metadata": {},
   "outputs": [],
   "source": [
    "data['target']=data['target'].map(dict({b'1': 0, b'2': 1, b'3': 2, b'4': 3, b'5': 4}))"
   ]
  },
  {
   "cell_type": "markdown",
   "id": "2ae5f6d8",
   "metadata": {},
   "source": [
    "### Function to OneHotEncode the target labels"
   ]
  },
  {
   "cell_type": "code",
   "execution_count": 6,
   "id": "b5c1e0a8",
   "metadata": {},
   "outputs": [],
   "source": [
    "def oheColumn(oheData, columnName):\n",
    "    oneHotEnc = sk_preprocess.OneHotEncoder(dtype=int, handle_unknown='ignore')\n",
    "\n",
    "    oheDataColumn = oneHotEnc.fit_transform(oheData[[columnName]]).toarray()\n",
    "\n",
    "    oheData[oneHotEnc.categories_[0]] = oheDataColumn\n",
    "\n",
    "    for catCol in oneHotEnc.categories_[0]:\n",
    "        oheData.rename(columns = {catCol:columnName+'_'+catCol}, inplace = True)\n",
    "    \n",
    "    return oheData"
   ]
  },
  {
   "cell_type": "code",
   "execution_count": 7,
   "id": "ae87f32b",
   "metadata": {},
   "outputs": [],
   "source": [
    "y = data['target']\n",
    "X = data.drop('target', axis=1)"
   ]
  },
  {
   "cell_type": "markdown",
   "id": "85465da0",
   "metadata": {},
   "source": [
    "### Plot the ECG data"
   ]
  },
  {
   "cell_type": "code",
   "execution_count": 8,
   "id": "5fa17b81",
   "metadata": {},
   "outputs": [
    {
     "name": "stderr",
     "output_type": "stream",
     "text": [
      "C:\\Users\\vivek\\anaconda3\\lib\\site-packages\\numpy\\core\\fromnumeric.py:3432: RuntimeWarning: Mean of empty slice.\n",
      "  return _methods._mean(a, axis=axis, dtype=dtype,\n",
      "C:\\Users\\vivek\\anaconda3\\lib\\site-packages\\numpy\\core\\_methods.py:265: RuntimeWarning: Degrees of freedom <= 0 for slice\n",
      "  ret = _var(a, axis=axis, dtype=dtype, out=out, ddof=ddof,\n",
      "C:\\Users\\vivek\\anaconda3\\lib\\site-packages\\numpy\\ma\\core.py:5288: RuntimeWarning: Mean of empty slice.\n",
      "  result = super().mean(axis=axis, dtype=dtype, **kwargs)[()]\n",
      "C:\\Users\\vivek\\anaconda3\\lib\\site-packages\\numpy\\core\\fromnumeric.py:3715: RuntimeWarning: Degrees of freedom <= 0 for slice\n",
      "  return _methods._var(a, axis=axis, dtype=dtype, out=out, ddof=ddof,\n",
      "C:\\Users\\vivek\\anaconda3\\lib\\site-packages\\heartpy\\visualizeutils.py:119: UserWarning: Matplotlib is currently using module://matplotlib_inline.backend_inline, which is a non-GUI backend, so cannot show the figure.\n",
      "  fig.show()\n"
     ]
    },
    {
     "data": {
      "image/png": "[encoded data removed]",
      "text/plain": [
       "<Figure size 640x480 with 1 Axes>"
      ]
     },
     "metadata": {},
     "output_type": "display_data"
    }
   ],
   "source": [
    "working_data, measures = hp.process(np.delete(data_array[3], -1), 100.0)\n",
    "hp.plotter(working_data, measures)"
   ]
  },
  {
   "cell_type": "markdown",
   "id": "6a21242e",
   "metadata": {},
   "source": [
    "### Correlation of features"
   ]
  },
  {
   "cell_type": "code",
   "execution_count": 9,
   "id": "503631b2",
   "metadata": {},
   "outputs": [],
   "source": [
    "data_corr=data.corr()"
   ]
  },
  {
   "cell_type": "code",
   "execution_count": 10,
   "id": "767937a2",
   "metadata": {},
   "outputs": [],
   "source": [
    "correlated_features=data_corr[(data_corr > 0.3) | (data_corr < -0.3)].stack().index\n",
    "correlated_features_df=pd.DataFrame(correlated_features)\n",
    "correlated_features_df=pd.DataFrame(correlated_features_df[0].tolist(),index=correlated_features_df.index)\n",
    "correlated_features_df=correlated_features_df[correlated_features_df.loc[:,0] != correlated_features_df.loc[:,1]]"
   ]
  },
  {
   "cell_type": "code",
   "execution_count": 11,
   "id": "559cf8c8",
   "metadata": {},
   "outputs": [
    {
     "data": {
      "text/html": [
       "<div>\n",
       "<style scoped>\n",
       "    .dataframe tbody tr th:only-of-type {\n",
       "        vertical-align: middle;\n",
       "    }\n",
       "\n",
       "    .dataframe tbody tr th {\n",
       "        vertical-align: top;\n",
       "    }\n",
       "\n",
       "    .dataframe thead th {\n",
       "        text-align: right;\n",
       "    }\n",
       "</style>\n",
       "<table border=\"1\" class=\"dataframe\">\n",
       "  <thead>\n",
       "    <tr style=\"text-align: right;\">\n",
       "      <th></th>\n",
       "      <th>0</th>\n",
       "      <th>1</th>\n",
       "    </tr>\n",
       "  </thead>\n",
       "  <tbody>\n",
       "    <tr>\n",
       "      <th>1</th>\n",
       "      <td>att1</td>\n",
       "      <td>att2</td>\n",
       "    </tr>\n",
       "    <tr>\n",
       "      <th>2</th>\n",
       "      <td>att1</td>\n",
       "      <td>att3</td>\n",
       "    </tr>\n",
       "    <tr>\n",
       "      <th>3</th>\n",
       "      <td>att1</td>\n",
       "      <td>att4</td>\n",
       "    </tr>\n",
       "    <tr>\n",
       "      <th>4</th>\n",
       "      <td>att1</td>\n",
       "      <td>att96</td>\n",
       "    </tr>\n",
       "    <tr>\n",
       "      <th>5</th>\n",
       "      <td>att1</td>\n",
       "      <td>att97</td>\n",
       "    </tr>\n",
       "    <tr>\n",
       "      <th>...</th>\n",
       "      <td>...</td>\n",
       "      <td>...</td>\n",
       "    </tr>\n",
       "    <tr>\n",
       "      <th>9603</th>\n",
       "      <td>target</td>\n",
       "      <td>att135</td>\n",
       "    </tr>\n",
       "    <tr>\n",
       "      <th>9604</th>\n",
       "      <td>target</td>\n",
       "      <td>att136</td>\n",
       "    </tr>\n",
       "    <tr>\n",
       "      <th>9605</th>\n",
       "      <td>target</td>\n",
       "      <td>att137</td>\n",
       "    </tr>\n",
       "    <tr>\n",
       "      <th>9606</th>\n",
       "      <td>target</td>\n",
       "      <td>att138</td>\n",
       "    </tr>\n",
       "    <tr>\n",
       "      <th>9607</th>\n",
       "      <td>target</td>\n",
       "      <td>att139</td>\n",
       "    </tr>\n",
       "  </tbody>\n",
       "</table>\n",
       "<p>9468 rows × 2 columns</p>\n",
       "</div>"
      ],
      "text/plain": [
       "           0       1\n",
       "1       att1    att2\n",
       "2       att1    att3\n",
       "3       att1    att4\n",
       "4       att1   att96\n",
       "5       att1   att97\n",
       "...      ...     ...\n",
       "9603  target  att135\n",
       "9604  target  att136\n",
       "9605  target  att137\n",
       "9606  target  att138\n",
       "9607  target  att139\n",
       "\n",
       "[9468 rows x 2 columns]"
      ]
     },
     "execution_count": 11,
     "metadata": {},
     "output_type": "execute_result"
    }
   ],
   "source": [
    "correlated_features_df"
   ]
  },
  {
   "cell_type": "markdown",
   "id": "553ee855",
   "metadata": {},
   "source": [
    "The features are highly correlated as seen this result. It shows the correlations where **|correlation between features|>0.3**."
   ]
  },
  {
   "cell_type": "markdown",
   "id": "e460aa4b",
   "metadata": {},
   "source": [
    "### Split data into test and train data"
   ]
  },
  {
   "cell_type": "code",
   "execution_count": 12,
   "id": "6f3507af",
   "metadata": {},
   "outputs": [],
   "source": [
    "X_train, X_test, y_train, y_test = train_test_split(X, y, test_size = 0.3, random_state = 42)"
   ]
  },
  {
   "cell_type": "markdown",
   "id": "56565bdf",
   "metadata": {},
   "source": [
    "### Standardizing features to reduce bias"
   ]
  },
  {
   "cell_type": "code",
   "execution_count": 13,
   "id": "9fdfd5ac",
   "metadata": {},
   "outputs": [],
   "source": [
    "def standardize(data):\n",
    "    sc = sk_preprocess.StandardScaler()\n",
    "    return sc.fit_transform(data)\n",
    " \n",
    "X_train_sc_processed = standardize(X_train)\n",
    "X_test_sc_processed = standardize(X_test)"
   ]
  },
  {
   "cell_type": "markdown",
   "id": "4832540a",
   "metadata": {},
   "source": [
    "### Applying PCA"
   ]
  },
  {
   "cell_type": "code",
   "execution_count": 14,
   "id": "880d3b41",
   "metadata": {},
   "outputs": [],
   "source": [
    "pca = sk_decomp.PCA(n_components=30)\n",
    "\n",
    "def pcaFitData(data):\n",
    "    return pca.fit_transform(data)\n",
    "    \n",
    "def pcaTransformData(data):\n",
    "    return pca.transform(data)\n",
    "\n",
    "def pcaRetrieveVariance():\n",
    "    return pca.explained_variance_ratio_"
   ]
  },
  {
   "cell_type": "code",
   "execution_count": 15,
   "id": "c648e4c8",
   "metadata": {},
   "outputs": [],
   "source": [
    "X_train_processed = pcaFitData(X_train_sc_processed)\n",
    "X_test_processed = pcaTransformData(X_test_sc_processed)\n",
    " \n",
    "explained_variance = pcaRetrieveVariance()"
   ]
  },
  {
   "cell_type": "markdown",
   "id": "dbe1d3a2",
   "metadata": {},
   "source": [
    "### Performing Logistic regression for Multiclass classification"
   ]
  },
  {
   "cell_type": "code",
   "execution_count": 22,
   "id": "f8858716",
   "metadata": {
    "scrolled": true
   },
   "outputs": [
    {
     "name": "stderr",
     "output_type": "stream",
     "text": [
      "C:\\Users\\vivek\\anaconda3\\lib\\site-packages\\sklearn\\linear_model\\_logistic.py:458: ConvergenceWarning: lbfgs failed to converge (status=1):\n",
      "STOP: TOTAL NO. of ITERATIONS REACHED LIMIT.\n",
      "\n",
      "Increase the number of iterations (max_iter) or scale the data as shown in:\n",
      "    https://scikit-learn.org/stable/modules/preprocessing.html\n",
      "Please also refer to the documentation for alternative solver options:\n",
      "    https://scikit-learn.org/stable/modules/linear_model.html#logistic-regression\n",
      "  n_iter_i = _check_optimize_result(\n"
     ]
    }
   ],
   "source": [
    "logisticRegModel = LogisticRegression()\n",
    "\n",
    "def logisticFit(X, y):\n",
    "    return logisticRegModel.fit(X, y)\n",
    "\n",
    "logisticRegModel_trained = logisticFit(X_train_processed, y_train)"
   ]
  },
  {
   "cell_type": "code",
   "execution_count": 29,
   "id": "46ab3aa5",
   "metadata": {
    "scrolled": true
   },
   "outputs": [
    {
     "name": "stderr",
     "output_type": "stream",
     "text": [
      "C:\\Users\\vivek\\anaconda3\\lib\\site-packages\\sklearn\\model_selection\\_split.py:700: UserWarning: The least populated class in y has only 4 members, which is less than n_splits=10.\n",
      "  warnings.warn(\n",
      "C:\\Users\\vivek\\anaconda3\\lib\\site-packages\\sklearn\\model_selection\\_split.py:700: UserWarning: The least populated class in y has only 4 members, which is less than n_splits=10.\n",
      "  warnings.warn(\n",
      "C:\\Users\\vivek\\anaconda3\\lib\\site-packages\\sklearn\\model_selection\\_split.py:700: UserWarning: The least populated class in y has only 4 members, which is less than n_splits=10.\n",
      "  warnings.warn(\n",
      "C:\\Users\\vivek\\anaconda3\\lib\\site-packages\\sklearn\\model_selection\\_split.py:700: UserWarning: The least populated class in y has only 4 members, which is less than n_splits=10.\n",
      "  warnings.warn(\n",
      "C:\\Users\\vivek\\anaconda3\\lib\\site-packages\\sklearn\\model_selection\\_split.py:700: UserWarning: The least populated class in y has only 4 members, which is less than n_splits=10.\n",
      "  warnings.warn(\n",
      "C:\\Users\\vivek\\anaconda3\\lib\\site-packages\\sklearn\\model_selection\\_split.py:700: UserWarning: The least populated class in y has only 4 members, which is less than n_splits=10.\n",
      "  warnings.warn(\n"
     ]
    },
    {
     "name": "stdout",
     "output_type": "stream",
     "text": [
      ">Name:20 \tMean:0.891 (Scores:0.050)\n",
      ">Name:21 \tMean:0.889 (Scores:0.053)\n"
     ]
    },
    {
     "name": "stderr",
     "output_type": "stream",
     "text": [
      "C:\\Users\\vivek\\anaconda3\\lib\\site-packages\\sklearn\\model_selection\\_split.py:700: UserWarning: The least populated class in y has only 4 members, which is less than n_splits=10.\n",
      "  warnings.warn(\n",
      "C:\\Users\\vivek\\anaconda3\\lib\\site-packages\\sklearn\\model_selection\\_split.py:700: UserWarning: The least populated class in y has only 4 members, which is less than n_splits=10.\n",
      "  warnings.warn(\n",
      "C:\\Users\\vivek\\anaconda3\\lib\\site-packages\\sklearn\\model_selection\\_split.py:700: UserWarning: The least populated class in y has only 4 members, which is less than n_splits=10.\n",
      "  warnings.warn(\n",
      "C:\\Users\\vivek\\anaconda3\\lib\\site-packages\\sklearn\\model_selection\\_split.py:700: UserWarning: The least populated class in y has only 4 members, which is less than n_splits=10.\n",
      "  warnings.warn(\n",
      "C:\\Users\\vivek\\anaconda3\\lib\\site-packages\\sklearn\\model_selection\\_split.py:700: UserWarning: The least populated class in y has only 4 members, which is less than n_splits=10.\n",
      "  warnings.warn(\n",
      "C:\\Users\\vivek\\anaconda3\\lib\\site-packages\\sklearn\\model_selection\\_split.py:700: UserWarning: The least populated class in y has only 4 members, which is less than n_splits=10.\n",
      "  warnings.warn(\n"
     ]
    },
    {
     "name": "stdout",
     "output_type": "stream",
     "text": [
      ">Name:22 \tMean:0.904 (Scores:0.051)\n",
      ">Name:23 \tMean:0.904 (Scores:0.056)\n"
     ]
    },
    {
     "name": "stderr",
     "output_type": "stream",
     "text": [
      "C:\\Users\\vivek\\anaconda3\\lib\\site-packages\\sklearn\\model_selection\\_split.py:700: UserWarning: The least populated class in y has only 4 members, which is less than n_splits=10.\n",
      "  warnings.warn(\n",
      "C:\\Users\\vivek\\anaconda3\\lib\\site-packages\\sklearn\\model_selection\\_split.py:700: UserWarning: The least populated class in y has only 4 members, which is less than n_splits=10.\n",
      "  warnings.warn(\n",
      "C:\\Users\\vivek\\anaconda3\\lib\\site-packages\\sklearn\\model_selection\\_split.py:700: UserWarning: The least populated class in y has only 4 members, which is less than n_splits=10.\n",
      "  warnings.warn(\n",
      "C:\\Users\\vivek\\anaconda3\\lib\\site-packages\\sklearn\\model_selection\\_split.py:700: UserWarning: The least populated class in y has only 4 members, which is less than n_splits=10.\n",
      "  warnings.warn(\n",
      "C:\\Users\\vivek\\anaconda3\\lib\\site-packages\\sklearn\\model_selection\\_split.py:700: UserWarning: The least populated class in y has only 4 members, which is less than n_splits=10.\n",
      "  warnings.warn(\n",
      "C:\\Users\\vivek\\anaconda3\\lib\\site-packages\\sklearn\\model_selection\\_split.py:700: UserWarning: The least populated class in y has only 4 members, which is less than n_splits=10.\n",
      "  warnings.warn(\n"
     ]
    },
    {
     "name": "stdout",
     "output_type": "stream",
     "text": [
      ">Name:24 \tMean:0.893 (Scores:0.050)\n",
      ">Name:25 \tMean:0.896 (Scores:0.051)\n"
     ]
    },
    {
     "name": "stderr",
     "output_type": "stream",
     "text": [
      "C:\\Users\\vivek\\anaconda3\\lib\\site-packages\\sklearn\\model_selection\\_split.py:700: UserWarning: The least populated class in y has only 4 members, which is less than n_splits=10.\n",
      "  warnings.warn(\n",
      "C:\\Users\\vivek\\anaconda3\\lib\\site-packages\\sklearn\\model_selection\\_split.py:700: UserWarning: The least populated class in y has only 4 members, which is less than n_splits=10.\n",
      "  warnings.warn(\n",
      "C:\\Users\\vivek\\anaconda3\\lib\\site-packages\\sklearn\\model_selection\\_split.py:700: UserWarning: The least populated class in y has only 4 members, which is less than n_splits=10.\n",
      "  warnings.warn(\n",
      "C:\\Users\\vivek\\anaconda3\\lib\\site-packages\\sklearn\\model_selection\\_split.py:700: UserWarning: The least populated class in y has only 4 members, which is less than n_splits=10.\n",
      "  warnings.warn(\n",
      "C:\\Users\\vivek\\anaconda3\\lib\\site-packages\\sklearn\\model_selection\\_split.py:700: UserWarning: The least populated class in y has only 4 members, which is less than n_splits=10.\n",
      "  warnings.warn(\n",
      "C:\\Users\\vivek\\anaconda3\\lib\\site-packages\\sklearn\\model_selection\\_split.py:700: UserWarning: The least populated class in y has only 4 members, which is less than n_splits=10.\n",
      "  warnings.warn(\n"
     ]
    },
    {
     "name": "stdout",
     "output_type": "stream",
     "text": [
      ">Name:26 \tMean:0.900 (Scores:0.048)\n",
      ">Name:27 \tMean:0.896 (Scores:0.048)\n"
     ]
    },
    {
     "name": "stderr",
     "output_type": "stream",
     "text": [
      "C:\\Users\\vivek\\anaconda3\\lib\\site-packages\\sklearn\\model_selection\\_split.py:700: UserWarning: The least populated class in y has only 4 members, which is less than n_splits=10.\n",
      "  warnings.warn(\n",
      "C:\\Users\\vivek\\anaconda3\\lib\\site-packages\\sklearn\\model_selection\\_split.py:700: UserWarning: The least populated class in y has only 4 members, which is less than n_splits=10.\n",
      "  warnings.warn(\n",
      "C:\\Users\\vivek\\anaconda3\\lib\\site-packages\\sklearn\\model_selection\\_split.py:700: UserWarning: The least populated class in y has only 4 members, which is less than n_splits=10.\n",
      "  warnings.warn(\n",
      "C:\\Users\\vivek\\anaconda3\\lib\\site-packages\\sklearn\\model_selection\\_split.py:700: UserWarning: The least populated class in y has only 4 members, which is less than n_splits=10.\n",
      "  warnings.warn(\n",
      "C:\\Users\\vivek\\anaconda3\\lib\\site-packages\\sklearn\\model_selection\\_split.py:700: UserWarning: The least populated class in y has only 4 members, which is less than n_splits=10.\n",
      "  warnings.warn(\n",
      "C:\\Users\\vivek\\anaconda3\\lib\\site-packages\\sklearn\\model_selection\\_split.py:700: UserWarning: The least populated class in y has only 4 members, which is less than n_splits=10.\n",
      "  warnings.warn(\n"
     ]
    },
    {
     "name": "stdout",
     "output_type": "stream",
     "text": [
      ">Name:28 \tMean:0.898 (Scores:0.051)\n",
      ">Name:29 \tMean:0.898 (Scores:0.051)\n"
     ]
    },
    {
     "data": {
      "image/png": "[encoded data removed]",
      "text/plain": [
       "<Figure size 640x480 with 1 Axes>"
      ]
     },
     "metadata": {},
     "output_type": "display_data"
    }
   ],
   "source": [
    "# compare pca number of components with logistic regression algorithm for classification\n",
    "from numpy import mean\n",
    "from numpy import std\n",
    "from sklearn.datasets import make_classification\n",
    "from sklearn.model_selection import cross_val_score\n",
    "from sklearn.model_selection import RepeatedStratifiedKFold\n",
    "from sklearn.pipeline import Pipeline\n",
    "from sklearn.decomposition import PCA\n",
    "from sklearn.linear_model import LogisticRegression\n",
    "from matplotlib import pyplot\n",
    "\n",
    "# get a list of models to evaluate\n",
    "def get_models(X):\n",
    "    models = dict()\n",
    "    for i in range(20,min(50, X.shape[1])):\n",
    "        steps = [('pca', PCA(n_components=i)), ('m', LogisticRegression())]\n",
    "        models[str(i)] = Pipeline(steps=steps)\n",
    "    return models\n",
    "\n",
    "# evaluate a given model using cross-validation\n",
    "def evaluate_model(model, X, y):\n",
    "    cv = RepeatedStratifiedKFold(n_splits=10, n_repeats=3, random_state=1)\n",
    "    scores = cross_val_score(model, X, y, scoring='accuracy', cv=cv, n_jobs=-1, error_score='raise')\n",
    "    return scores\n",
    "\n",
    "# #get data\n",
    "# y = data['target']\n",
    "# X = data.drop('target', axis=1)\n",
    "#print(X,y)\n",
    "\n",
    "def evaluatePCA(X, y):\n",
    "    # get the models to evaluate\n",
    "    models = get_models(X)\n",
    "    # evaluate the models and store results\n",
    "    results, names = list(), list()\n",
    "    for name, model in models.items():\n",
    "        scores = evaluate_model(model, X, y)\n",
    "        results.append(scores)\n",
    "        names.append(name)\n",
    "        print('>Name:%s \\tMean:%.3f (Scores:%.3f)' % (name, mean(scores), std(scores)))\n",
    "    # plot model performance for comparison\n",
    "    pyplot.boxplot(results, labels=names, showmeans=True)\n",
    "    pyplot.xticks(rotation=45)\n",
    "    pyplot.show()\n",
    "    \n",
    "evaluatePCA(X_test_processed, y_test)"
   ]
  },
  {
   "cell_type": "markdown",
   "id": "b4ebf57f",
   "metadata": {},
   "source": [
    "### Shuffling columns and applying PCA"
   ]
  },
  {
   "cell_type": "code",
   "execution_count": 30,
   "id": "9210a4c3",
   "metadata": {},
   "outputs": [],
   "source": [
    "X_test_shuffled = X_test[np.random.default_rng(seed=42).permutation(X_test.columns.values)]"
   ]
  },
  {
   "cell_type": "code",
   "execution_count": 31,
   "id": "d968e80c",
   "metadata": {},
   "outputs": [
    {
     "name": "stderr",
     "output_type": "stream",
     "text": [
      "C:\\Users\\vivek\\anaconda3\\lib\\site-packages\\sklearn\\model_selection\\_split.py:700: UserWarning: The least populated class in y has only 4 members, which is less than n_splits=10.\n",
      "  warnings.warn(\n",
      "C:\\Users\\vivek\\anaconda3\\lib\\site-packages\\sklearn\\model_selection\\_split.py:700: UserWarning: The least populated class in y has only 4 members, which is less than n_splits=10.\n",
      "  warnings.warn(\n",
      "C:\\Users\\vivek\\anaconda3\\lib\\site-packages\\sklearn\\model_selection\\_split.py:700: UserWarning: The least populated class in y has only 4 members, which is less than n_splits=10.\n",
      "  warnings.warn(\n"
     ]
    },
    {
     "name": "stdout",
     "output_type": "stream",
     "text": [
      ">Name:20 \tMean:0.904 (Scores:0.051)\n"
     ]
    },
    {
     "name": "stderr",
     "output_type": "stream",
     "text": [
      "C:\\Users\\vivek\\anaconda3\\lib\\site-packages\\sklearn\\model_selection\\_split.py:700: UserWarning: The least populated class in y has only 4 members, which is less than n_splits=10.\n",
      "  warnings.warn(\n",
      "C:\\Users\\vivek\\anaconda3\\lib\\site-packages\\sklearn\\model_selection\\_split.py:700: UserWarning: The least populated class in y has only 4 members, which is less than n_splits=10.\n",
      "  warnings.warn(\n",
      "C:\\Users\\vivek\\anaconda3\\lib\\site-packages\\sklearn\\model_selection\\_split.py:700: UserWarning: The least populated class in y has only 4 members, which is less than n_splits=10.\n",
      "  warnings.warn(\n"
     ]
    },
    {
     "name": "stdout",
     "output_type": "stream",
     "text": [
      ">Name:21 \tMean:0.900 (Scores:0.048)\n",
      ">Name:22 \tMean:0.900 (Scores:0.048)\n"
     ]
    },
    {
     "name": "stderr",
     "output_type": "stream",
     "text": [
      "C:\\Users\\vivek\\anaconda3\\lib\\site-packages\\sklearn\\model_selection\\_split.py:700: UserWarning: The least populated class in y has only 4 members, which is less than n_splits=10.\n",
      "  warnings.warn(\n",
      "C:\\Users\\vivek\\anaconda3\\lib\\site-packages\\sklearn\\model_selection\\_split.py:700: UserWarning: The least populated class in y has only 4 members, which is less than n_splits=10.\n",
      "  warnings.warn(\n",
      "C:\\Users\\vivek\\anaconda3\\lib\\site-packages\\sklearn\\model_selection\\_split.py:700: UserWarning: The least populated class in y has only 4 members, which is less than n_splits=10.\n",
      "  warnings.warn(\n",
      "C:\\Users\\vivek\\anaconda3\\lib\\site-packages\\sklearn\\model_selection\\_split.py:700: UserWarning: The least populated class in y has only 4 members, which is less than n_splits=10.\n",
      "  warnings.warn(\n",
      "C:\\Users\\vivek\\anaconda3\\lib\\site-packages\\sklearn\\model_selection\\_split.py:700: UserWarning: The least populated class in y has only 4 members, which is less than n_splits=10.\n",
      "  warnings.warn(\n",
      "C:\\Users\\vivek\\anaconda3\\lib\\site-packages\\sklearn\\model_selection\\_split.py:700: UserWarning: The least populated class in y has only 4 members, which is less than n_splits=10.\n",
      "  warnings.warn(\n"
     ]
    },
    {
     "name": "stdout",
     "output_type": "stream",
     "text": [
      ">Name:23 \tMean:0.900 (Scores:0.048)\n",
      ">Name:24 \tMean:0.902 (Scores:0.048)\n"
     ]
    },
    {
     "name": "stderr",
     "output_type": "stream",
     "text": [
      "C:\\Users\\vivek\\anaconda3\\lib\\site-packages\\sklearn\\model_selection\\_split.py:700: UserWarning: The least populated class in y has only 4 members, which is less than n_splits=10.\n",
      "  warnings.warn(\n",
      "C:\\Users\\vivek\\anaconda3\\lib\\site-packages\\sklearn\\model_selection\\_split.py:700: UserWarning: The least populated class in y has only 4 members, which is less than n_splits=10.\n",
      "  warnings.warn(\n",
      "C:\\Users\\vivek\\anaconda3\\lib\\site-packages\\sklearn\\model_selection\\_split.py:700: UserWarning: The least populated class in y has only 4 members, which is less than n_splits=10.\n",
      "  warnings.warn(\n",
      "C:\\Users\\vivek\\anaconda3\\lib\\site-packages\\sklearn\\model_selection\\_split.py:700: UserWarning: The least populated class in y has only 4 members, which is less than n_splits=10.\n",
      "  warnings.warn(\n",
      "C:\\Users\\vivek\\anaconda3\\lib\\site-packages\\sklearn\\model_selection\\_split.py:700: UserWarning: The least populated class in y has only 4 members, which is less than n_splits=10.\n",
      "  warnings.warn(\n",
      "C:\\Users\\vivek\\anaconda3\\lib\\site-packages\\sklearn\\model_selection\\_split.py:700: UserWarning: The least populated class in y has only 4 members, which is less than n_splits=10.\n",
      "  warnings.warn(\n",
      "C:\\Users\\vivek\\anaconda3\\lib\\site-packages\\sklearn\\model_selection\\_split.py:700: UserWarning: The least populated class in y has only 4 members, which is less than n_splits=10.\n",
      "  warnings.warn(\n",
      "C:\\Users\\vivek\\anaconda3\\lib\\site-packages\\sklearn\\model_selection\\_split.py:700: UserWarning: The least populated class in y has only 4 members, which is less than n_splits=10.\n",
      "  warnings.warn(\n",
      "C:\\Users\\vivek\\anaconda3\\lib\\site-packages\\sklearn\\model_selection\\_split.py:700: UserWarning: The least populated class in y has only 4 members, which is less than n_splits=10.\n",
      "  warnings.warn(\n"
     ]
    },
    {
     "name": "stdout",
     "output_type": "stream",
     "text": [
      ">Name:25 \tMean:0.902 (Scores:0.048)\n",
      ">Name:26 \tMean:0.904 (Scores:0.051)\n"
     ]
    },
    {
     "name": "stderr",
     "output_type": "stream",
     "text": [
      "C:\\Users\\vivek\\anaconda3\\lib\\site-packages\\sklearn\\model_selection\\_split.py:700: UserWarning: The least populated class in y has only 4 members, which is less than n_splits=10.\n",
      "  warnings.warn(\n",
      "C:\\Users\\vivek\\anaconda3\\lib\\site-packages\\sklearn\\model_selection\\_split.py:700: UserWarning: The least populated class in y has only 4 members, which is less than n_splits=10.\n",
      "  warnings.warn(\n",
      "C:\\Users\\vivek\\anaconda3\\lib\\site-packages\\sklearn\\model_selection\\_split.py:700: UserWarning: The least populated class in y has only 4 members, which is less than n_splits=10.\n",
      "  warnings.warn(\n"
     ]
    },
    {
     "name": "stdout",
     "output_type": "stream",
     "text": [
      ">Name:27 \tMean:0.902 (Scores:0.048)\n"
     ]
    },
    {
     "name": "stderr",
     "output_type": "stream",
     "text": [
      "C:\\Users\\vivek\\anaconda3\\lib\\site-packages\\sklearn\\model_selection\\_split.py:700: UserWarning: The least populated class in y has only 4 members, which is less than n_splits=10.\n",
      "  warnings.warn(\n",
      "C:\\Users\\vivek\\anaconda3\\lib\\site-packages\\sklearn\\model_selection\\_split.py:700: UserWarning: The least populated class in y has only 4 members, which is less than n_splits=10.\n",
      "  warnings.warn(\n",
      "C:\\Users\\vivek\\anaconda3\\lib\\site-packages\\sklearn\\model_selection\\_split.py:700: UserWarning: The least populated class in y has only 4 members, which is less than n_splits=10.\n",
      "  warnings.warn(\n"
     ]
    },
    {
     "name": "stdout",
     "output_type": "stream",
     "text": [
      ">Name:28 \tMean:0.902 (Scores:0.048)\n"
     ]
    },
    {
     "name": "stderr",
     "output_type": "stream",
     "text": [
      "C:\\Users\\vivek\\anaconda3\\lib\\site-packages\\sklearn\\model_selection\\_split.py:700: UserWarning: The least populated class in y has only 4 members, which is less than n_splits=10.\n",
      "  warnings.warn(\n",
      "C:\\Users\\vivek\\anaconda3\\lib\\site-packages\\sklearn\\model_selection\\_split.py:700: UserWarning: The least populated class in y has only 4 members, which is less than n_splits=10.\n",
      "  warnings.warn(\n",
      "C:\\Users\\vivek\\anaconda3\\lib\\site-packages\\sklearn\\model_selection\\_split.py:700: UserWarning: The least populated class in y has only 4 members, which is less than n_splits=10.\n",
      "  warnings.warn(\n"
     ]
    },
    {
     "name": "stdout",
     "output_type": "stream",
     "text": [
      ">Name:29 \tMean:0.904 (Scores:0.051)\n"
     ]
    },
    {
     "name": "stderr",
     "output_type": "stream",
     "text": [
      "C:\\Users\\vivek\\anaconda3\\lib\\site-packages\\sklearn\\model_selection\\_split.py:700: UserWarning: The least populated class in y has only 4 members, which is less than n_splits=10.\n",
      "  warnings.warn(\n",
      "C:\\Users\\vivek\\anaconda3\\lib\\site-packages\\sklearn\\model_selection\\_split.py:700: UserWarning: The least populated class in y has only 4 members, which is less than n_splits=10.\n",
      "  warnings.warn(\n",
      "C:\\Users\\vivek\\anaconda3\\lib\\site-packages\\sklearn\\model_selection\\_split.py:700: UserWarning: The least populated class in y has only 4 members, which is less than n_splits=10.\n",
      "  warnings.warn(\n"
     ]
    },
    {
     "name": "stdout",
     "output_type": "stream",
     "text": [
      ">Name:30 \tMean:0.904 (Scores:0.051)\n"
     ]
    },
    {
     "name": "stderr",
     "output_type": "stream",
     "text": [
      "C:\\Users\\vivek\\anaconda3\\lib\\site-packages\\sklearn\\model_selection\\_split.py:700: UserWarning: The least populated class in y has only 4 members, which is less than n_splits=10.\n",
      "  warnings.warn(\n",
      "C:\\Users\\vivek\\anaconda3\\lib\\site-packages\\sklearn\\model_selection\\_split.py:700: UserWarning: The least populated class in y has only 4 members, which is less than n_splits=10.\n",
      "  warnings.warn(\n",
      "C:\\Users\\vivek\\anaconda3\\lib\\site-packages\\sklearn\\model_selection\\_split.py:700: UserWarning: The least populated class in y has only 4 members, which is less than n_splits=10.\n",
      "  warnings.warn(\n"
     ]
    },
    {
     "name": "stdout",
     "output_type": "stream",
     "text": [
      ">Name:31 \tMean:0.904 (Scores:0.051)\n"
     ]
    },
    {
     "name": "stderr",
     "output_type": "stream",
     "text": [
      "C:\\Users\\vivek\\anaconda3\\lib\\site-packages\\sklearn\\model_selection\\_split.py:700: UserWarning: The least populated class in y has only 4 members, which is less than n_splits=10.\n",
      "  warnings.warn(\n",
      "C:\\Users\\vivek\\anaconda3\\lib\\site-packages\\sklearn\\model_selection\\_split.py:700: UserWarning: The least populated class in y has only 4 members, which is less than n_splits=10.\n",
      "  warnings.warn(\n",
      "C:\\Users\\vivek\\anaconda3\\lib\\site-packages\\sklearn\\model_selection\\_split.py:700: UserWarning: The least populated class in y has only 4 members, which is less than n_splits=10.\n",
      "  warnings.warn(\n"
     ]
    },
    {
     "name": "stdout",
     "output_type": "stream",
     "text": [
      ">Name:32 \tMean:0.902 (Scores:0.051)\n"
     ]
    },
    {
     "name": "stderr",
     "output_type": "stream",
     "text": [
      "C:\\Users\\vivek\\anaconda3\\lib\\site-packages\\sklearn\\model_selection\\_split.py:700: UserWarning: The least populated class in y has only 4 members, which is less than n_splits=10.\n",
      "  warnings.warn(\n",
      "C:\\Users\\vivek\\anaconda3\\lib\\site-packages\\sklearn\\model_selection\\_split.py:700: UserWarning: The least populated class in y has only 4 members, which is less than n_splits=10.\n",
      "  warnings.warn(\n",
      "C:\\Users\\vivek\\anaconda3\\lib\\site-packages\\sklearn\\model_selection\\_split.py:700: UserWarning: The least populated class in y has only 4 members, which is less than n_splits=10.\n",
      "  warnings.warn(\n"
     ]
    },
    {
     "name": "stdout",
     "output_type": "stream",
     "text": [
      ">Name:33 \tMean:0.902 (Scores:0.051)\n"
     ]
    },
    {
     "name": "stderr",
     "output_type": "stream",
     "text": [
      "C:\\Users\\vivek\\anaconda3\\lib\\site-packages\\sklearn\\model_selection\\_split.py:700: UserWarning: The least populated class in y has only 4 members, which is less than n_splits=10.\n",
      "  warnings.warn(\n",
      "C:\\Users\\vivek\\anaconda3\\lib\\site-packages\\sklearn\\model_selection\\_split.py:700: UserWarning: The least populated class in y has only 4 members, which is less than n_splits=10.\n",
      "  warnings.warn(\n",
      "C:\\Users\\vivek\\anaconda3\\lib\\site-packages\\sklearn\\model_selection\\_split.py:700: UserWarning: The least populated class in y has only 4 members, which is less than n_splits=10.\n",
      "  warnings.warn(\n"
     ]
    },
    {
     "name": "stdout",
     "output_type": "stream",
     "text": [
      ">Name:34 \tMean:0.900 (Scores:0.054)\n"
     ]
    },
    {
     "name": "stderr",
     "output_type": "stream",
     "text": [
      "C:\\Users\\vivek\\anaconda3\\lib\\site-packages\\sklearn\\model_selection\\_split.py:700: UserWarning: The least populated class in y has only 4 members, which is less than n_splits=10.\n",
      "  warnings.warn(\n",
      "C:\\Users\\vivek\\anaconda3\\lib\\site-packages\\sklearn\\model_selection\\_split.py:700: UserWarning: The least populated class in y has only 4 members, which is less than n_splits=10.\n",
      "  warnings.warn(\n",
      "C:\\Users\\vivek\\anaconda3\\lib\\site-packages\\sklearn\\model_selection\\_split.py:700: UserWarning: The least populated class in y has only 4 members, which is less than n_splits=10.\n",
      "  warnings.warn(\n"
     ]
    },
    {
     "name": "stdout",
     "output_type": "stream",
     "text": [
      ">Name:35 \tMean:0.900 (Scores:0.051)\n"
     ]
    },
    {
     "name": "stderr",
     "output_type": "stream",
     "text": [
      "C:\\Users\\vivek\\anaconda3\\lib\\site-packages\\sklearn\\model_selection\\_split.py:700: UserWarning: The least populated class in y has only 4 members, which is less than n_splits=10.\n",
      "  warnings.warn(\n",
      "C:\\Users\\vivek\\anaconda3\\lib\\site-packages\\sklearn\\model_selection\\_split.py:700: UserWarning: The least populated class in y has only 4 members, which is less than n_splits=10.\n",
      "  warnings.warn(\n",
      "C:\\Users\\vivek\\anaconda3\\lib\\site-packages\\sklearn\\model_selection\\_split.py:700: UserWarning: The least populated class in y has only 4 members, which is less than n_splits=10.\n",
      "  warnings.warn(\n"
     ]
    },
    {
     "name": "stdout",
     "output_type": "stream",
     "text": [
      ">Name:36 \tMean:0.904 (Scores:0.054)\n"
     ]
    },
    {
     "name": "stderr",
     "output_type": "stream",
     "text": [
      "C:\\Users\\vivek\\anaconda3\\lib\\site-packages\\sklearn\\model_selection\\_split.py:700: UserWarning: The least populated class in y has only 4 members, which is less than n_splits=10.\n",
      "  warnings.warn(\n",
      "C:\\Users\\vivek\\anaconda3\\lib\\site-packages\\sklearn\\model_selection\\_split.py:700: UserWarning: The least populated class in y has only 4 members, which is less than n_splits=10.\n",
      "  warnings.warn(\n",
      "C:\\Users\\vivek\\anaconda3\\lib\\site-packages\\sklearn\\model_selection\\_split.py:700: UserWarning: The least populated class in y has only 4 members, which is less than n_splits=10.\n",
      "  warnings.warn(\n"
     ]
    },
    {
     "name": "stdout",
     "output_type": "stream",
     "text": [
      ">Name:37 \tMean:0.907 (Scores:0.050)\n"
     ]
    },
    {
     "name": "stderr",
     "output_type": "stream",
     "text": [
      "C:\\Users\\vivek\\anaconda3\\lib\\site-packages\\sklearn\\model_selection\\_split.py:700: UserWarning: The least populated class in y has only 4 members, which is less than n_splits=10.\n",
      "  warnings.warn(\n",
      "C:\\Users\\vivek\\anaconda3\\lib\\site-packages\\sklearn\\model_selection\\_split.py:700: UserWarning: The least populated class in y has only 4 members, which is less than n_splits=10.\n",
      "  warnings.warn(\n",
      "C:\\Users\\vivek\\anaconda3\\lib\\site-packages\\sklearn\\model_selection\\_split.py:700: UserWarning: The least populated class in y has only 4 members, which is less than n_splits=10.\n",
      "  warnings.warn(\n"
     ]
    },
    {
     "name": "stdout",
     "output_type": "stream",
     "text": [
      ">Name:38 \tMean:0.904 (Scores:0.051)\n"
     ]
    },
    {
     "name": "stderr",
     "output_type": "stream",
     "text": [
      "C:\\Users\\vivek\\anaconda3\\lib\\site-packages\\sklearn\\model_selection\\_split.py:700: UserWarning: The least populated class in y has only 4 members, which is less than n_splits=10.\n",
      "  warnings.warn(\n",
      "C:\\Users\\vivek\\anaconda3\\lib\\site-packages\\sklearn\\model_selection\\_split.py:700: UserWarning: The least populated class in y has only 4 members, which is less than n_splits=10.\n",
      "  warnings.warn(\n",
      "C:\\Users\\vivek\\anaconda3\\lib\\site-packages\\sklearn\\model_selection\\_split.py:700: UserWarning: The least populated class in y has only 4 members, which is less than n_splits=10.\n",
      "  warnings.warn(\n"
     ]
    },
    {
     "name": "stdout",
     "output_type": "stream",
     "text": [
      ">Name:39 \tMean:0.907 (Scores:0.050)\n"
     ]
    },
    {
     "name": "stderr",
     "output_type": "stream",
     "text": [
      "C:\\Users\\vivek\\anaconda3\\lib\\site-packages\\sklearn\\model_selection\\_split.py:700: UserWarning: The least populated class in y has only 4 members, which is less than n_splits=10.\n",
      "  warnings.warn(\n",
      "C:\\Users\\vivek\\anaconda3\\lib\\site-packages\\sklearn\\model_selection\\_split.py:700: UserWarning: The least populated class in y has only 4 members, which is less than n_splits=10.\n",
      "  warnings.warn(\n",
      "C:\\Users\\vivek\\anaconda3\\lib\\site-packages\\sklearn\\model_selection\\_split.py:700: UserWarning: The least populated class in y has only 4 members, which is less than n_splits=10.\n",
      "  warnings.warn(\n"
     ]
    },
    {
     "name": "stdout",
     "output_type": "stream",
     "text": [
      ">Name:40 \tMean:0.907 (Scores:0.050)\n"
     ]
    },
    {
     "name": "stderr",
     "output_type": "stream",
     "text": [
      "C:\\Users\\vivek\\anaconda3\\lib\\site-packages\\sklearn\\model_selection\\_split.py:700: UserWarning: The least populated class in y has only 4 members, which is less than n_splits=10.\n",
      "  warnings.warn(\n",
      "C:\\Users\\vivek\\anaconda3\\lib\\site-packages\\sklearn\\model_selection\\_split.py:700: UserWarning: The least populated class in y has only 4 members, which is less than n_splits=10.\n",
      "  warnings.warn(\n",
      "C:\\Users\\vivek\\anaconda3\\lib\\site-packages\\sklearn\\model_selection\\_split.py:700: UserWarning: The least populated class in y has only 4 members, which is less than n_splits=10.\n",
      "  warnings.warn(\n"
     ]
    },
    {
     "name": "stdout",
     "output_type": "stream",
     "text": [
      ">Name:41 \tMean:0.907 (Scores:0.050)\n"
     ]
    },
    {
     "name": "stderr",
     "output_type": "stream",
     "text": [
      "C:\\Users\\vivek\\anaconda3\\lib\\site-packages\\sklearn\\model_selection\\_split.py:700: UserWarning: The least populated class in y has only 4 members, which is less than n_splits=10.\n",
      "  warnings.warn(\n",
      "C:\\Users\\vivek\\anaconda3\\lib\\site-packages\\sklearn\\model_selection\\_split.py:700: UserWarning: The least populated class in y has only 4 members, which is less than n_splits=10.\n",
      "  warnings.warn(\n",
      "C:\\Users\\vivek\\anaconda3\\lib\\site-packages\\sklearn\\model_selection\\_split.py:700: UserWarning: The least populated class in y has only 4 members, which is less than n_splits=10.\n",
      "  warnings.warn(\n"
     ]
    },
    {
     "name": "stdout",
     "output_type": "stream",
     "text": [
      ">Name:42 \tMean:0.907 (Scores:0.050)\n"
     ]
    },
    {
     "name": "stderr",
     "output_type": "stream",
     "text": [
      "C:\\Users\\vivek\\anaconda3\\lib\\site-packages\\sklearn\\model_selection\\_split.py:700: UserWarning: The least populated class in y has only 4 members, which is less than n_splits=10.\n",
      "  warnings.warn(\n",
      "C:\\Users\\vivek\\anaconda3\\lib\\site-packages\\sklearn\\model_selection\\_split.py:700: UserWarning: The least populated class in y has only 4 members, which is less than n_splits=10.\n",
      "  warnings.warn(\n",
      "C:\\Users\\vivek\\anaconda3\\lib\\site-packages\\sklearn\\model_selection\\_split.py:700: UserWarning: The least populated class in y has only 4 members, which is less than n_splits=10.\n",
      "  warnings.warn(\n"
     ]
    },
    {
     "name": "stdout",
     "output_type": "stream",
     "text": [
      ">Name:43 \tMean:0.907 (Scores:0.050)\n"
     ]
    },
    {
     "name": "stderr",
     "output_type": "stream",
     "text": [
      "C:\\Users\\vivek\\anaconda3\\lib\\site-packages\\sklearn\\model_selection\\_split.py:700: UserWarning: The least populated class in y has only 4 members, which is less than n_splits=10.\n",
      "  warnings.warn(\n",
      "C:\\Users\\vivek\\anaconda3\\lib\\site-packages\\sklearn\\model_selection\\_split.py:700: UserWarning: The least populated class in y has only 4 members, which is less than n_splits=10.\n",
      "  warnings.warn(\n",
      "C:\\Users\\vivek\\anaconda3\\lib\\site-packages\\sklearn\\model_selection\\_split.py:700: UserWarning: The least populated class in y has only 4 members, which is less than n_splits=10.\n",
      "  warnings.warn(\n"
     ]
    },
    {
     "name": "stdout",
     "output_type": "stream",
     "text": [
      ">Name:44 \tMean:0.907 (Scores:0.050)\n"
     ]
    },
    {
     "name": "stderr",
     "output_type": "stream",
     "text": [
      "C:\\Users\\vivek\\anaconda3\\lib\\site-packages\\sklearn\\model_selection\\_split.py:700: UserWarning: The least populated class in y has only 4 members, which is less than n_splits=10.\n",
      "  warnings.warn(\n",
      "C:\\Users\\vivek\\anaconda3\\lib\\site-packages\\sklearn\\model_selection\\_split.py:700: UserWarning: The least populated class in y has only 4 members, which is less than n_splits=10.\n",
      "  warnings.warn(\n",
      "C:\\Users\\vivek\\anaconda3\\lib\\site-packages\\sklearn\\model_selection\\_split.py:700: UserWarning: The least populated class in y has only 4 members, which is less than n_splits=10.\n",
      "  warnings.warn(\n"
     ]
    },
    {
     "name": "stdout",
     "output_type": "stream",
     "text": [
      ">Name:45 \tMean:0.907 (Scores:0.050)\n"
     ]
    },
    {
     "name": "stderr",
     "output_type": "stream",
     "text": [
      "C:\\Users\\vivek\\anaconda3\\lib\\site-packages\\sklearn\\model_selection\\_split.py:700: UserWarning: The least populated class in y has only 4 members, which is less than n_splits=10.\n",
      "  warnings.warn(\n",
      "C:\\Users\\vivek\\anaconda3\\lib\\site-packages\\sklearn\\model_selection\\_split.py:700: UserWarning: The least populated class in y has only 4 members, which is less than n_splits=10.\n",
      "  warnings.warn(\n",
      "C:\\Users\\vivek\\anaconda3\\lib\\site-packages\\sklearn\\model_selection\\_split.py:700: UserWarning: The least populated class in y has only 4 members, which is less than n_splits=10.\n",
      "  warnings.warn(\n"
     ]
    },
    {
     "name": "stdout",
     "output_type": "stream",
     "text": [
      ">Name:46 \tMean:0.907 (Scores:0.050)\n"
     ]
    },
    {
     "name": "stderr",
     "output_type": "stream",
     "text": [
      "C:\\Users\\vivek\\anaconda3\\lib\\site-packages\\sklearn\\model_selection\\_split.py:700: UserWarning: The least populated class in y has only 4 members, which is less than n_splits=10.\n",
      "  warnings.warn(\n",
      "C:\\Users\\vivek\\anaconda3\\lib\\site-packages\\sklearn\\model_selection\\_split.py:700: UserWarning: The least populated class in y has only 4 members, which is less than n_splits=10.\n",
      "  warnings.warn(\n",
      "C:\\Users\\vivek\\anaconda3\\lib\\site-packages\\sklearn\\model_selection\\_split.py:700: UserWarning: The least populated class in y has only 4 members, which is less than n_splits=10.\n",
      "  warnings.warn(\n"
     ]
    },
    {
     "name": "stdout",
     "output_type": "stream",
     "text": [
      ">Name:47 \tMean:0.907 (Scores:0.050)\n"
     ]
    },
    {
     "name": "stderr",
     "output_type": "stream",
     "text": [
      "C:\\Users\\vivek\\anaconda3\\lib\\site-packages\\sklearn\\model_selection\\_split.py:700: UserWarning: The least populated class in y has only 4 members, which is less than n_splits=10.\n",
      "  warnings.warn(\n",
      "C:\\Users\\vivek\\anaconda3\\lib\\site-packages\\sklearn\\model_selection\\_split.py:700: UserWarning: The least populated class in y has only 4 members, which is less than n_splits=10.\n",
      "  warnings.warn(\n",
      "C:\\Users\\vivek\\anaconda3\\lib\\site-packages\\sklearn\\model_selection\\_split.py:700: UserWarning: The least populated class in y has only 4 members, which is less than n_splits=10.\n",
      "  warnings.warn(\n"
     ]
    },
    {
     "name": "stdout",
     "output_type": "stream",
     "text": [
      ">Name:48 \tMean:0.907 (Scores:0.050)\n"
     ]
    },
    {
     "name": "stderr",
     "output_type": "stream",
     "text": [
      "C:\\Users\\vivek\\anaconda3\\lib\\site-packages\\sklearn\\model_selection\\_split.py:700: UserWarning: The least populated class in y has only 4 members, which is less than n_splits=10.\n",
      "  warnings.warn(\n",
      "C:\\Users\\vivek\\anaconda3\\lib\\site-packages\\sklearn\\model_selection\\_split.py:700: UserWarning: The least populated class in y has only 4 members, which is less than n_splits=10.\n",
      "  warnings.warn(\n",
      "C:\\Users\\vivek\\anaconda3\\lib\\site-packages\\sklearn\\model_selection\\_split.py:700: UserWarning: The least populated class in y has only 4 members, which is less than n_splits=10.\n",
      "  warnings.warn(\n"
     ]
    },
    {
     "name": "stdout",
     "output_type": "stream",
     "text": [
      ">Name:49 \tMean:0.907 (Scores:0.050)\n"
     ]
    },
    {
     "data": {
      "image/png": "[encoded data removed]",
      "text/plain": [
       "<Figure size 640x480 with 1 Axes>"
      ]
     },
     "metadata": {},
     "output_type": "display_data"
    }
   ],
   "source": [
    "evaluatePCA(X_test_shuffled, y_test)"
   ]
  },
  {
   "cell_type": "markdown",
   "id": "ff076c3c",
   "metadata": {},
   "source": [
    "As seen in the above plot, the data with shuffled columns also yields similar accuracy scores as PCA doesn't consider the order (order matters here as the data is a time series) which is flawed for this particular dataset.<br><br>\n",
    "So, we need to consider the bias of a column towards it's previous columns."
   ]
  },
  {
   "cell_type": "markdown",
   "id": "48fbfbd0",
   "metadata": {},
   "source": [
    "## Alternative approaches to consider time series"
   ]
  },
  {
   "cell_type": "markdown",
   "id": "72609416",
   "metadata": {},
   "source": [
    "### 1. Using RNN"
   ]
  },
  {
   "cell_type": "code",
   "execution_count": 25,
   "id": "314c4f3c",
   "metadata": {},
   "outputs": [],
   "source": [
    "from keras.models import Sequential\n",
    "import keras.layers as kerasLayers\n",
    "import keras"
   ]
  },
  {
   "cell_type": "code",
   "execution_count": 18,
   "id": "9feda6a7",
   "metadata": {},
   "outputs": [],
   "source": [
    "model = Sequential()"
   ]
  },
  {
   "cell_type": "markdown",
   "id": "b3a0c798",
   "metadata": {},
   "source": [
    "#### 4 Layers of LSTM to understand short term dependencies and further layers for the long term dependencies"
   ]
  },
  {
   "cell_type": "code",
   "execution_count": 19,
   "id": "3de0dec7",
   "metadata": {
    "scrolled": true
   },
   "outputs": [
    {
     "name": "stdout",
     "output_type": "stream",
     "text": [
      "Epoch 1/100\n",
      "11/11 [==============================] - 16s 350ms/step - loss: 1.3366\n",
      "Epoch 2/100\n",
      "11/11 [==============================] - 4s 359ms/step - loss: 0.7248\n",
      "Epoch 3/100\n",
      "11/11 [==============================] - 3s 307ms/step - loss: 0.4140\n",
      "Epoch 4/100\n",
      "11/11 [==============================] - 3s 299ms/step - loss: 0.2927\n",
      "Epoch 5/100\n",
      "11/11 [==============================] - 3s 305ms/step - loss: 0.2588\n",
      "Epoch 6/100\n",
      "11/11 [==============================] - 3s 292ms/step - loss: 0.2346\n",
      "Epoch 7/100\n",
      "11/11 [==============================] - 3s 285ms/step - loss: 0.2236\n",
      "Epoch 8/100\n",
      "11/11 [==============================] - 3s 300ms/step - loss: 0.2030\n",
      "Epoch 9/100\n",
      "11/11 [==============================] - 3s 306ms/step - loss: 0.2104\n",
      "Epoch 10/100\n",
      "11/11 [==============================] - 3s 296ms/step - loss: 0.2124\n",
      "Epoch 11/100\n",
      "11/11 [==============================] - 3s 286ms/step - loss: 0.2060\n",
      "Epoch 12/100\n",
      "11/11 [==============================] - 3s 291ms/step - loss: 0.1928\n",
      "Epoch 13/100\n",
      "11/11 [==============================] - 3s 290ms/step - loss: 0.2019\n",
      "Epoch 14/100\n",
      "11/11 [==============================] - 3s 305ms/step - loss: 0.1972\n",
      "Epoch 15/100\n",
      "11/11 [==============================] - 3s 298ms/step - loss: 0.1835\n",
      "Epoch 16/100\n",
      "11/11 [==============================] - 4s 325ms/step - loss: 0.1783\n",
      "Epoch 17/100\n",
      "11/11 [==============================] - 4s 334ms/step - loss: 0.1707\n",
      "Epoch 18/100\n",
      "11/11 [==============================] - 4s 334ms/step - loss: 0.1650\n",
      "Epoch 19/100\n",
      "11/11 [==============================] - 3s 299ms/step - loss: 0.1574\n",
      "Epoch 20/100\n",
      "11/11 [==============================] - 4s 323ms/step - loss: 0.1416\n",
      "Epoch 21/100\n",
      "11/11 [==============================] - 3s 304ms/step - loss: 0.1361\n",
      "Epoch 22/100\n",
      "11/11 [==============================] - 3s 307ms/step - loss: 0.1398\n",
      "Epoch 23/100\n",
      "11/11 [==============================] - 3s 292ms/step - loss: 0.1497\n",
      "Epoch 24/100\n",
      "11/11 [==============================] - 3s 304ms/step - loss: 0.1461\n",
      "Epoch 25/100\n",
      "11/11 [==============================] - 3s 305ms/step - loss: 0.1767\n",
      "Epoch 26/100\n",
      "11/11 [==============================] - 3s 298ms/step - loss: 0.1681\n",
      "Epoch 27/100\n",
      "11/11 [==============================] - 4s 341ms/step - loss: 0.1584\n",
      "Epoch 28/100\n",
      "11/11 [==============================] - 4s 366ms/step - loss: 0.1695\n",
      "Epoch 29/100\n",
      "11/11 [==============================] - 4s 363ms/step - loss: 0.1503\n",
      "Epoch 30/100\n",
      "11/11 [==============================] - 4s 369ms/step - loss: 0.1397\n",
      "Epoch 31/100\n",
      "11/11 [==============================] - 4s 343ms/step - loss: 0.1208\n",
      "Epoch 32/100\n",
      "11/11 [==============================] - 4s 350ms/step - loss: 0.1321\n",
      "Epoch 33/100\n",
      "11/11 [==============================] - 4s 321ms/step - loss: 0.1229\n",
      "Epoch 34/100\n",
      "11/11 [==============================] - 3s 309ms/step - loss: 0.1402\n",
      "Epoch 35/100\n",
      "11/11 [==============================] - 3s 301ms/step - loss: 0.1282\n",
      "Epoch 36/100\n",
      "11/11 [==============================] - 4s 339ms/step - loss: 0.1216\n",
      "Epoch 37/100\n",
      "11/11 [==============================] - 4s 346ms/step - loss: 0.1227\n",
      "Epoch 38/100\n",
      "11/11 [==============================] - 3s 301ms/step - loss: 0.1343\n",
      "Epoch 39/100\n",
      "11/11 [==============================] - 4s 391ms/step - loss: 0.1512\n",
      "Epoch 40/100\n",
      "11/11 [==============================] - 5s 398ms/step - loss: 0.1367\n",
      "Epoch 41/100\n",
      "11/11 [==============================] - 3s 306ms/step - loss: 0.1185\n",
      "Epoch 42/100\n",
      "11/11 [==============================] - 3s 296ms/step - loss: 0.1218\n",
      "Epoch 43/100\n",
      "11/11 [==============================] - 3s 284ms/step - loss: 0.1353\n",
      "Epoch 44/100\n",
      "11/11 [==============================] - 3s 290ms/step - loss: 0.1120\n",
      "Epoch 45/100\n",
      "11/11 [==============================] - 3s 278ms/step - loss: 0.1090\n",
      "Epoch 46/100\n",
      "11/11 [==============================] - 3s 269ms/step - loss: 0.1140\n",
      "Epoch 47/100\n",
      "11/11 [==============================] - 3s 301ms/step - loss: 0.0913\n",
      "Epoch 48/100\n",
      "11/11 [==============================] - 3s 307ms/step - loss: 0.0896\n",
      "Epoch 49/100\n",
      "11/11 [==============================] - 3s 307ms/step - loss: 0.0933\n",
      "Epoch 50/100\n",
      "11/11 [==============================] - 3s 298ms/step - loss: 0.0963\n",
      "Epoch 51/100\n",
      "11/11 [==============================] - 3s 291ms/step - loss: 0.0868\n",
      "Epoch 52/100\n",
      "11/11 [==============================] - 3s 281ms/step - loss: 0.0834\n",
      "Epoch 53/100\n",
      "11/11 [==============================] - 3s 297ms/step - loss: 0.0807\n",
      "Epoch 54/100\n",
      "11/11 [==============================] - 3s 303ms/step - loss: 0.0893\n",
      "Epoch 55/100\n",
      "11/11 [==============================] - 4s 346ms/step - loss: 0.0867\n",
      "Epoch 56/100\n",
      "11/11 [==============================] - 4s 342ms/step - loss: 0.0808\n",
      "Epoch 57/100\n",
      "11/11 [==============================] - 4s 324ms/step - loss: 0.0756\n",
      "Epoch 58/100\n",
      "11/11 [==============================] - 4s 351ms/step - loss: 0.0714\n",
      "Epoch 59/100\n",
      "11/11 [==============================] - 4s 329ms/step - loss: 0.0804\n",
      "Epoch 60/100\n",
      "11/11 [==============================] - 4s 393ms/step - loss: 0.0815\n",
      "Epoch 61/100\n",
      "11/11 [==============================] - 5s 416ms/step - loss: 0.0738\n",
      "Epoch 62/100\n",
      "11/11 [==============================] - 3s 254ms/step - loss: 0.0772\n",
      "Epoch 63/100\n",
      "11/11 [==============================] - 4s 380ms/step - loss: 0.0768\n",
      "Epoch 64/100\n",
      "11/11 [==============================] - 3s 303ms/step - loss: 0.0811\n",
      "Epoch 65/100\n",
      "11/11 [==============================] - 4s 320ms/step - loss: 0.0701\n",
      "Epoch 66/100\n",
      "11/11 [==============================] - 3s 312ms/step - loss: 0.0692\n",
      "Epoch 67/100\n",
      "11/11 [==============================] - 3s 295ms/step - loss: 0.0747\n",
      "Epoch 68/100\n",
      "11/11 [==============================] - 3s 318ms/step - loss: 0.0773\n",
      "Epoch 69/100\n",
      "11/11 [==============================] - 3s 300ms/step - loss: 0.1279\n",
      "Epoch 70/100\n",
      "11/11 [==============================] - 4s 324ms/step - loss: 0.0953\n",
      "Epoch 71/100\n",
      "11/11 [==============================] - 3s 311ms/step - loss: 0.1050\n",
      "Epoch 72/100\n",
      "11/11 [==============================] - 3s 305ms/step - loss: 0.0862\n",
      "Epoch 73/100\n",
      "11/11 [==============================] - 3s 304ms/step - loss: 0.0721\n",
      "Epoch 74/100\n",
      "11/11 [==============================] - 3s 294ms/step - loss: 0.0749\n",
      "Epoch 75/100\n",
      "11/11 [==============================] - 3s 298ms/step - loss: 0.0641\n",
      "Epoch 76/100\n",
      "11/11 [==============================] - 3s 313ms/step - loss: 0.0664\n",
      "Epoch 77/100\n",
      "11/11 [==============================] - 3s 308ms/step - loss: 0.0642\n",
      "Epoch 78/100\n",
      "11/11 [==============================] - 3s 319ms/step - loss: 0.0642\n",
      "Epoch 79/100\n",
      "11/11 [==============================] - 3s 305ms/step - loss: 0.0609\n",
      "Epoch 80/100\n",
      "11/11 [==============================] - 4s 349ms/step - loss: 0.0613\n",
      "Epoch 81/100\n",
      "11/11 [==============================] - 4s 398ms/step - loss: 0.0494\n",
      "Epoch 82/100\n",
      "11/11 [==============================] - 4s 401ms/step - loss: 0.0587\n",
      "Epoch 83/100\n",
      "11/11 [==============================] - 4s 331ms/step - loss: 0.0551\n",
      "Epoch 84/100\n",
      "11/11 [==============================] - 4s 361ms/step - loss: 0.0558\n",
      "Epoch 85/100\n",
      "11/11 [==============================] - 4s 356ms/step - loss: 0.0666\n",
      "Epoch 86/100\n",
      "11/11 [==============================] - 4s 356ms/step - loss: 0.0598\n",
      "Epoch 87/100\n",
      "11/11 [==============================] - 4s 376ms/step - loss: 0.0616\n",
      "Epoch 88/100\n",
      "11/11 [==============================] - 5s 419ms/step - loss: 0.0537\n",
      "Epoch 89/100\n",
      "11/11 [==============================] - 4s 312ms/step - loss: 0.0632\n",
      "Epoch 90/100\n",
      "11/11 [==============================] - 4s 337ms/step - loss: 0.0791\n",
      "Epoch 91/100\n",
      "11/11 [==============================] - 4s 367ms/step - loss: 0.0793\n",
      "Epoch 92/100\n",
      "11/11 [==============================] - 4s 371ms/step - loss: 0.0640\n",
      "Epoch 93/100\n",
      "11/11 [==============================] - 3s 306ms/step - loss: 0.0663\n",
      "Epoch 94/100\n",
      "11/11 [==============================] - 4s 362ms/step - loss: 0.0668\n",
      "Epoch 95/100\n",
      "11/11 [==============================] - 4s 323ms/step - loss: 0.0771\n",
      "Epoch 96/100\n",
      "11/11 [==============================] - 4s 339ms/step - loss: 0.0621\n",
      "Epoch 97/100\n",
      "11/11 [==============================] - 4s 327ms/step - loss: 0.0599\n",
      "Epoch 98/100\n",
      "11/11 [==============================] - 3s 298ms/step - loss: 0.0670\n",
      "Epoch 99/100\n"
     ]
    },
    {
     "name": "stdout",
     "output_type": "stream",
     "text": [
      "11/11 [==============================] - 4s 336ms/step - loss: 0.0646\n",
      "Epoch 100/100\n",
      "11/11 [==============================] - 4s 353ms/step - loss: 0.0661\n"
     ]
    },
    {
     "data": {
      "text/plain": [
       "<keras.callbacks.History at 0x20c2456bb20>"
      ]
     },
     "execution_count": 19,
     "metadata": {},
     "output_type": "execute_result"
    }
   ],
   "source": [
    "model.add(kerasLayers.LSTM(units = 50, return_sequences = True, input_shape = (X_train.shape[1], 1)))\n",
    "model.add(kerasLayers.Dropout(0.2))\n",
    "\n",
    "model.add(kerasLayers.LSTM(units = 50, return_sequences = True))\n",
    "model.add(kerasLayers.Dropout(0.2))\n",
    "\n",
    "model.add(kerasLayers.LSTM(units = 50, return_sequences = True))\n",
    "model.add(kerasLayers.Dropout(0.2))\n",
    "\n",
    "model.add(kerasLayers.LSTM(units = 50))\n",
    "model.add(kerasLayers.Dropout(0.2))\n",
    "\n",
    "model.add(kerasLayers.Dense(units = 5, activation='softmax'))\n",
    "\n",
    "model.compile(optimizer = 'adam', loss = 'sparse_categorical_crossentropy')\n",
    "\n",
    "model.fit(X_train, y_train, epochs = 100, batch_size = 32)"
   ]
  },
  {
   "cell_type": "code",
   "execution_count": 35,
   "id": "90ced259",
   "metadata": {},
   "outputs": [
    {
     "name": "stdout",
     "output_type": "stream",
     "text": [
      "5/5 [==============================] - 0s 90ms/step\n"
     ]
    }
   ],
   "source": [
    "y_predicted = model.predict(X_test)"
   ]
  },
  {
   "cell_type": "code",
   "execution_count": 36,
   "id": "7ac0bcc9",
   "metadata": {},
   "outputs": [
    {
     "data": {
      "text/plain": [
       "array([[8.91795135e-05, 9.80499685e-01, 6.17701618e-04, 1.86023246e-02,\n",
       "        1.91135827e-04],\n",
       "       [9.99913216e-01, 2.58677319e-05, 8.55570852e-06, 2.21859773e-05,\n",
       "        3.02012268e-05],\n",
       "       [1.06361113e-04, 9.79838967e-01, 8.04320676e-04, 1.90387834e-02,\n",
       "        2.11544495e-04],\n",
       "       [9.99879122e-01, 3.97130098e-05, 8.64492904e-06, 2.81082594e-05,\n",
       "        4.42974015e-05],\n",
       "       [9.99854207e-01, 2.61623736e-05, 2.01048333e-05, 4.53104876e-05,\n",
       "        5.40819965e-05],\n",
       "       [9.16901845e-05, 9.77290690e-01, 8.49278760e-04, 2.15595998e-02,\n",
       "        2.08642407e-04],\n",
       "       [8.98168291e-05, 9.80675399e-01, 6.24257955e-04, 1.84144787e-02,\n",
       "        1.95998655e-04],\n",
       "       [9.99768436e-01, 5.32544000e-05, 2.74965932e-05, 1.18523152e-04,\n",
       "        3.22794876e-05],\n",
       "       [9.99902129e-01, 2.40841055e-05, 8.62780689e-06, 2.76057981e-05,\n",
       "        3.75281270e-05],\n",
       "       [8.99512816e-05, 9.80503798e-01, 6.47644571e-04, 1.85665302e-02,\n",
       "        1.92210166e-04],\n",
       "       [9.97935414e-01, 6.36988771e-05, 3.82602957e-05, 2.84820708e-04,\n",
       "        1.67778030e-03],\n",
       "       [9.99891162e-01, 3.05878093e-05, 1.08971772e-05, 2.85458809e-05,\n",
       "        3.88423941e-05],\n",
       "       [1.78231756e-04, 9.51786757e-01, 3.18708154e-03, 4.44089100e-02,\n",
       "        4.38948569e-04],\n",
       "       [9.99517322e-01, 1.65712263e-04, 2.43275372e-05, 7.07635918e-05,\n",
       "        2.21835493e-04],\n",
       "       [1.05121959e-04, 9.67868567e-01, 1.42488512e-03, 3.03239096e-02,\n",
       "        2.77474493e-04],\n",
       "       [3.33149626e-04, 9.71746981e-01, 2.20180722e-03, 2.43668109e-02,\n",
       "        1.35114172e-03],\n",
       "       [1.72607531e-03, 1.32460278e-02, 6.11514505e-03, 9.77534890e-01,\n",
       "        1.37786428e-03],\n",
       "       [1.38704076e-01, 4.55374241e-01, 8.28193501e-03, 4.11791205e-02,\n",
       "        3.56460601e-01],\n",
       "       [9.86155283e-05, 9.81243312e-01, 6.02838758e-04, 1.78448185e-02,\n",
       "        2.10303551e-04],\n",
       "       [1.87785528e-03, 1.02600679e-02, 4.78113582e-03, 9.81669366e-01,\n",
       "        1.41159177e-03],\n",
       "       [1.03403647e-04, 9.61960256e-01, 1.56568387e-03, 3.60327661e-02,\n",
       "        3.37817823e-04],\n",
       "       [7.39056198e-03, 5.45856869e-03, 5.59014129e-03, 9.79494333e-01,\n",
       "        2.06637406e-03],\n",
       "       [9.99899268e-01, 2.56985222e-05, 1.00311645e-05, 2.75748007e-05,\n",
       "        3.74764859e-05],\n",
       "       [8.51611549e-04, 9.52536702e-01, 1.15999123e-02, 3.15832384e-02,\n",
       "        3.42841423e-03],\n",
       "       [9.99886632e-01, 3.70468915e-05, 8.44152873e-06, 2.55827053e-05,\n",
       "        4.23548190e-05],\n",
       "       [9.44538842e-05, 9.77893829e-01, 9.02154658e-04, 2.09080800e-02,\n",
       "        2.01492963e-04],\n",
       "       [1.82198617e-03, 8.72056466e-03, 4.40515066e-03, 9.83692944e-01,\n",
       "        1.35939731e-03],\n",
       "       [9.99872804e-01, 2.78798216e-05, 1.85125664e-05, 4.00255631e-05,\n",
       "        4.07647021e-05],\n",
       "       [9.99914885e-01, 2.58636555e-05, 8.61790886e-06, 2.20814436e-05,\n",
       "        2.86305039e-05],\n",
       "       [9.96347590e-05, 9.81039166e-01, 6.38034369e-04, 1.80157684e-02,\n",
       "        2.07330944e-04],\n",
       "       [1.72696414e-03, 2.02162769e-02, 9.34813023e-01, 4.14248332e-02,\n",
       "        1.81888021e-03],\n",
       "       [1.04985360e-04, 9.71671045e-01, 1.33876374e-03, 2.66318861e-02,\n",
       "        2.53340288e-04],\n",
       "       [2.23666342e-04, 9.37172651e-01, 4.38103126e-03, 5.77219240e-02,\n",
       "        5.00703929e-04],\n",
       "       [9.99839664e-01, 4.20784199e-05, 1.70158819e-05, 4.17502088e-05,\n",
       "        5.95199745e-05],\n",
       "       [9.99902368e-01, 2.92032328e-05, 1.03932289e-05, 2.50980993e-05,\n",
       "        3.29394279e-05],\n",
       "       [9.53922718e-05, 9.76614296e-01, 9.58331046e-04, 2.21182611e-02,\n",
       "        2.13732244e-04],\n",
       "       [9.33297197e-05, 9.80806231e-01, 6.44711195e-04, 1.82629544e-02,\n",
       "        1.92861160e-04],\n",
       "       [9.99859095e-01, 3.78860714e-05, 1.37638099e-05, 3.72396280e-05,\n",
       "        5.20958347e-05],\n",
       "       [9.99914169e-01, 2.34967047e-05, 8.34724779e-06, 2.37494514e-05,\n",
       "        3.03243178e-05],\n",
       "       [9.99852896e-01, 2.49926979e-05, 1.98169091e-05, 4.51253873e-05,\n",
       "        5.72142526e-05],\n",
       "       [5.80498716e-04, 7.87304938e-01, 1.28797730e-02, 1.97123557e-01,\n",
       "        2.11125566e-03],\n",
       "       [9.99747455e-01, 2.86187496e-05, 2.41524376e-05, 1.09572313e-04,\n",
       "        9.00766463e-05],\n",
       "       [2.12505157e-03, 4.32381243e-01, 2.15762541e-01, 3.44874948e-01,\n",
       "        4.85624932e-03],\n",
       "       [9.99912620e-01, 2.64487935e-05, 9.08705806e-06, 2.23694624e-05,\n",
       "        2.94856491e-05],\n",
       "       [9.94264066e-01, 3.11643031e-04, 2.74158549e-04, 4.60607791e-03,\n",
       "        5.44081384e-04],\n",
       "       [9.99872327e-01, 3.81512873e-05, 1.33308913e-05, 2.77693962e-05,\n",
       "        4.84440825e-05],\n",
       "       [9.99908328e-01, 2.84275411e-05, 8.88299746e-06, 2.26166721e-05,\n",
       "        3.16693004e-05],\n",
       "       [9.99911189e-01, 2.29433208e-05, 8.51335153e-06, 2.44399998e-05,\n",
       "        3.28899660e-05],\n",
       "       [1.25093633e-04, 9.80969071e-01, 5.63249225e-04, 1.80923883e-02,\n",
       "        2.50282639e-04],\n",
       "       [9.99908566e-01, 2.84868729e-05, 8.77490493e-06, 2.41248581e-05,\n",
       "        3.00442080e-05],\n",
       "       [9.99900460e-01, 3.14662029e-05, 8.45529485e-06, 2.34171912e-05,\n",
       "        3.62038045e-05],\n",
       "       [9.99900818e-01, 2.98653449e-05, 1.02555668e-05, 2.60168163e-05,\n",
       "        3.30091243e-05],\n",
       "       [9.99903798e-01, 2.76441751e-05, 1.00367597e-05, 2.59902845e-05,\n",
       "        3.24819703e-05],\n",
       "       [8.86505804e-05, 9.77117896e-01, 8.64375848e-04, 2.17310209e-02,\n",
       "        1.97995949e-04],\n",
       "       [9.99891520e-01, 3.06906768e-05, 1.14157810e-05, 2.90886765e-05,\n",
       "        3.71530041e-05],\n",
       "       [9.99865174e-01, 3.66906970e-05, 1.21748799e-05, 3.70665948e-05,\n",
       "        4.88196310e-05],\n",
       "       [8.18296611e-01, 1.44011050e-01, 6.03900524e-04, 3.47437002e-02,\n",
       "        2.34480994e-03],\n",
       "       [9.99888182e-01, 3.34498582e-05, 1.13831611e-05, 2.79561846e-05,\n",
       "        3.91278845e-05],\n",
       "       [9.99910831e-01, 2.45993033e-05, 9.07331560e-06, 2.44484272e-05,\n",
       "        3.11098665e-05],\n",
       "       [9.99866486e-01, 3.63153376e-05, 1.44708611e-05, 3.51637427e-05,\n",
       "        4.76134410e-05],\n",
       "       [9.11153693e-05, 9.80173707e-01, 6.99677621e-04, 1.88452229e-02,\n",
       "        1.90178223e-04],\n",
       "       [9.99898314e-01, 2.97006736e-05, 1.09110752e-05, 2.63064630e-05,\n",
       "        3.46439920e-05],\n",
       "       [9.00848318e-05, 9.74814236e-01, 9.73020215e-04, 2.38976236e-02,\n",
       "        2.25145413e-04],\n",
       "       [9.99479592e-01, 8.45516552e-05, 3.63790168e-05, 8.27593904e-05,\n",
       "        3.16763617e-04],\n",
       "       [9.99851584e-01, 3.38600221e-05, 1.44430996e-05, 4.12752743e-05,\n",
       "        5.89337142e-05],\n",
       "       [9.54018354e-01, 5.86127222e-04, 6.61944621e-04, 1.77718862e-03,\n",
       "        4.29564528e-02],\n",
       "       [9.42000916e-05, 9.80837524e-01, 6.48094923e-04, 1.82249751e-02,\n",
       "        1.95273882e-04],\n",
       "       [9.99909997e-01, 2.62766334e-05, 9.53665312e-06, 2.39791225e-05,\n",
       "        3.01830169e-05],\n",
       "       [9.99909043e-01, 2.75686016e-05, 9.61936439e-06, 2.27627716e-05,\n",
       "        3.10340438e-05],\n",
       "       [1.13095557e-04, 9.67616022e-01, 1.28948479e-03, 3.07341348e-02,\n",
       "        2.47265241e-04],\n",
       "       [9.42973493e-05, 9.79396224e-01, 8.05198040e-04, 1.95057001e-02,\n",
       "        1.98601498e-04],\n",
       "       [1.06245534e-04, 9.71418560e-01, 1.36496150e-03, 2.68540513e-02,\n",
       "        2.56326486e-04],\n",
       "       [9.99907374e-01, 2.98495961e-05, 7.21230617e-06, 2.30458609e-05,\n",
       "        3.23974746e-05],\n",
       "       [9.99874473e-01, 4.00987956e-05, 1.03587608e-05, 2.66639654e-05,\n",
       "        4.84416887e-05],\n",
       "       [1.44935242e-04, 9.43815410e-01, 3.01509793e-03, 5.25925420e-02,\n",
       "        4.32076165e-04],\n",
       "       [1.07831380e-04, 9.76415157e-01, 1.07824698e-03, 2.21813601e-02,\n",
       "        2.17437264e-04],\n",
       "       [9.99906540e-01, 2.65901108e-05, 9.87728072e-06, 2.53231956e-05,\n",
       "        3.16313890e-05],\n",
       "       [9.99882698e-01, 3.09226161e-05, 1.21894882e-05, 3.22213527e-05,\n",
       "        4.19334101e-05],\n",
       "       [1.05814608e-04, 9.75905657e-01, 1.14582072e-03, 2.26194803e-02,\n",
       "        2.23125753e-04],\n",
       "       [9.53333947e-05, 9.76490021e-01, 9.66514926e-04, 2.22354941e-02,\n",
       "        2.12586849e-04],\n",
       "       [9.99891877e-01, 3.23253698e-05, 1.11142645e-05, 2.69871816e-05,\n",
       "        3.76640237e-05],\n",
       "       [9.99898434e-01, 2.96589278e-05, 1.06472171e-05, 2.71199460e-05,\n",
       "        3.41656487e-05],\n",
       "       [3.67240538e-03, 7.59034976e-03, 4.94491542e-03, 9.82589900e-01,\n",
       "        1.20233430e-03],\n",
       "       [9.99906898e-01, 2.41620255e-05, 9.36383276e-06, 2.56898711e-05,\n",
       "        3.39042599e-05],\n",
       "       [1.14315408e-04, 9.71893728e-01, 1.38338213e-03, 2.63516121e-02,\n",
       "        2.57008127e-04],\n",
       "       [9.99910593e-01, 2.61255518e-05, 9.33738283e-06, 2.37162094e-05,\n",
       "        3.02357294e-05],\n",
       "       [9.99914289e-01, 2.60508587e-05, 8.75271508e-06, 2.30896221e-05,\n",
       "        2.78697607e-05],\n",
       "       [1.55323258e-04, 9.90584373e-01, 5.64980961e-04, 8.52322951e-03,\n",
       "        1.72079395e-04],\n",
       "       [1.03952676e-04, 9.79473770e-01, 8.78699822e-04, 1.93375479e-02,\n",
       "        2.06012264e-04],\n",
       "       [9.99888539e-01, 3.42749336e-05, 1.07554633e-05, 2.83866666e-05,\n",
       "        3.80374295e-05],\n",
       "       [1.13308306e-04, 9.81226683e-01, 5.63148467e-04, 1.78627446e-02,\n",
       "        2.34180086e-04],\n",
       "       [2.31927261e-03, 1.47721425e-01, 7.27629960e-01, 1.17995732e-01,\n",
       "        4.33364976e-03],\n",
       "       [1.10587652e-03, 8.06847095e-01, 3.72521728e-02, 1.53478757e-01,\n",
       "        1.31605426e-03],\n",
       "       [9.12834366e-05, 9.80488181e-01, 6.69595785e-04, 1.85594410e-02,\n",
       "        1.91446088e-04],\n",
       "       [1.04580584e-04, 9.76931393e-01, 1.03083055e-03, 2.17268281e-02,\n",
       "        2.06343931e-04],\n",
       "       [1.56289301e-04, 9.90804076e-01, 5.71692304e-04, 8.29065312e-03,\n",
       "        1.77301263e-04],\n",
       "       [9.99890566e-01, 3.23516688e-05, 1.15150524e-05, 2.81060620e-05,\n",
       "        3.74002193e-05],\n",
       "       [9.99887347e-01, 3.59294718e-05, 9.00901432e-06, 2.47665594e-05,\n",
       "        4.29268875e-05],\n",
       "       [1.14654729e-04, 9.68983889e-01, 1.39582972e-03, 2.92725284e-02,\n",
       "        2.33098894e-04],\n",
       "       [9.99904513e-01, 2.79451542e-05, 1.02458180e-05, 2.48127526e-05,\n",
       "        3.23947570e-05],\n",
       "       [9.99904633e-01, 2.70460114e-05, 9.90772514e-06, 2.62758149e-05,\n",
       "        3.22421329e-05],\n",
       "       [1.18851116e-04, 9.63904023e-01, 1.71446439e-03, 3.39482427e-02,\n",
       "        3.14367033e-04],\n",
       "       [9.99899745e-01, 2.55835803e-05, 9.39278016e-06, 2.63841375e-05,\n",
       "        3.89120214e-05],\n",
       "       [1.81666098e-03, 5.99501312e-01, 1.05156735e-01, 2.91023284e-01,\n",
       "        2.50193081e-03],\n",
       "       [9.65847794e-05, 9.79701161e-01, 7.26543425e-04, 1.92886069e-02,\n",
       "        1.87115962e-04],\n",
       "       [9.99910355e-01, 2.66856550e-05, 9.48123034e-06, 2.35531516e-05,\n",
       "        2.99675994e-05],\n",
       "       [9.90965855e-05, 9.76972938e-01, 9.53448936e-04, 2.17601340e-02,\n",
       "        2.14356463e-04],\n",
       "       [9.99908209e-01, 2.66851130e-05, 9.67702908e-06, 2.49155200e-05,\n",
       "        3.05711837e-05],\n",
       "       [1.12777103e-04, 9.73474264e-01, 1.36813254e-03, 2.47946791e-02,\n",
       "        2.50209327e-04],\n",
       "       [9.99904990e-01, 2.86212107e-05, 9.84934741e-06, 2.52219033e-05,\n",
       "        3.12890152e-05],\n",
       "       [9.99865651e-01, 3.21080734e-05, 1.21032499e-05, 3.80117563e-05,\n",
       "        5.21105358e-05],\n",
       "       [1.02650039e-04, 9.76583481e-01, 1.07019092e-03, 2.20198538e-02,\n",
       "        2.23884810e-04],\n",
       "       [1.05126826e-04, 9.79938447e-01, 7.65441859e-04, 1.89841874e-02,\n",
       "        2.06888086e-04],\n",
       "       [9.99853134e-01, 4.78611510e-05, 1.06469679e-05, 2.94901110e-05,\n",
       "        5.88771254e-05],\n",
       "       [1.01669881e-04, 9.74142253e-01, 1.18990254e-03, 2.43303869e-02,\n",
       "        2.35766813e-04],\n",
       "       [9.99908090e-01, 2.70707478e-05, 9.69073335e-06, 2.40145710e-05,\n",
       "        3.11683725e-05],\n",
       "       [9.99903560e-01, 2.65149756e-05, 9.60206216e-06, 2.68741296e-05,\n",
       "        3.34178476e-05],\n",
       "       [9.99912977e-01, 2.62627564e-05, 8.54504833e-06, 2.28361114e-05,\n",
       "        2.93735648e-05],\n",
       "       [9.99913096e-01, 2.71131285e-05, 8.05171294e-06, 2.15621967e-05,\n",
       "        3.01452255e-05],\n",
       "       [9.97136831e-01, 1.53877801e-04, 2.06987432e-04, 2.23096320e-03,\n",
       "        2.71381956e-04],\n",
       "       [9.99911070e-01, 2.64164355e-05, 9.41992403e-06, 2.32008188e-05,\n",
       "        2.99767089e-05],\n",
       "       [9.99907613e-01, 2.34539257e-05, 8.03230250e-06, 2.53902290e-05,\n",
       "        3.55129232e-05],\n",
       "       [9.59081081e-05, 9.78821278e-01, 8.59452004e-04, 2.00180933e-02,\n",
       "        2.05257107e-04],\n",
       "       [9.99905586e-01, 2.78736643e-05, 1.01342775e-05, 2.43020131e-05,\n",
       "        3.20896434e-05],\n",
       "       [9.99912143e-01, 2.69273369e-05, 8.12193866e-06, 2.35285879e-05,\n",
       "        2.93099347e-05],\n",
       "       [9.99908686e-01, 2.81025223e-05, 9.15451164e-06, 2.22555555e-05,\n",
       "        3.18032689e-05],\n",
       "       [1.33511930e-04, 9.75319743e-01, 1.33732392e-03, 2.29734872e-02,\n",
       "        2.36070249e-04],\n",
       "       [9.99914050e-01, 2.48716988e-05, 8.84450128e-06, 2.32934253e-05,\n",
       "        2.90047592e-05],\n",
       "       [9.99889135e-01, 3.02468761e-05, 1.14199138e-05, 3.05660797e-05,\n",
       "        3.86321481e-05],\n",
       "       [1.70042797e-04, 9.32567596e-01, 3.80206946e-03, 6.29422516e-02,\n",
       "        5.18066168e-04],\n",
       "       [9.99510646e-01, 1.57973918e-04, 2.11841198e-05, 7.54950233e-05,\n",
       "        2.34711115e-04],\n",
       "       [9.99797761e-01, 3.87211949e-05, 2.38627163e-05, 5.98105726e-05,\n",
       "        7.98033070e-05],\n",
       "       [2.48066452e-03, 2.48518847e-02, 9.11105871e-01, 5.93924671e-02,\n",
       "        2.16910755e-03],\n",
       "       [9.99914289e-01, 2.51624115e-05, 8.79528852e-06, 2.28459667e-05,\n",
       "        2.88468946e-05],\n",
       "       [9.99909520e-01, 2.78409370e-05, 9.13426902e-06, 2.26030515e-05,\n",
       "        3.09023962e-05],\n",
       "       [9.99903798e-01, 2.82156325e-05, 1.02494669e-05, 2.56136609e-05,\n",
       "        3.20663057e-05],\n",
       "       [9.99909401e-01, 2.63636175e-05, 9.49009609e-06, 2.44068797e-05,\n",
       "        3.02292046e-05],\n",
       "       [9.99909520e-01, 2.58520249e-05, 9.41945109e-06, 2.47076823e-05,\n",
       "        3.04728674e-05],\n",
       "       [9.99896526e-01, 2.95169393e-05, 1.07523392e-05, 2.74158228e-05,\n",
       "        3.57504614e-05],\n",
       "       [9.99902725e-01, 2.76731607e-05, 1.02509803e-05, 2.63582860e-05,\n",
       "        3.30020412e-05],\n",
       "       [9.99905229e-01, 2.73582082e-05, 1.01694859e-05, 2.49895729e-05,\n",
       "        3.22782107e-05],\n",
       "       [9.99907970e-01, 2.44715229e-05, 8.99699990e-06, 2.49894274e-05,\n",
       "        3.36687917e-05],\n",
       "       [1.93804479e-03, 5.73300868e-02, 8.69244277e-01, 6.85575008e-02,\n",
       "        2.93011614e-03],\n",
       "       [9.99910116e-01, 2.72265643e-05, 9.25599761e-06, 2.30555761e-05,\n",
       "        3.03095076e-05],\n",
       "       [9.99906659e-01, 2.34765048e-05, 8.91362470e-06, 2.54968018e-05,\n",
       "        3.53743344e-05],\n",
       "       [9.99903917e-01, 2.81052562e-05, 1.02847753e-05, 2.52947193e-05,\n",
       "        3.24136490e-05],\n",
       "       [9.98362124e-01, 1.07505781e-04, 1.10473622e-04, 1.12156034e-03,\n",
       "        2.98310042e-04],\n",
       "       [9.99887347e-01, 3.03391244e-05, 1.13018941e-05, 3.13073251e-05,\n",
       "        3.97363692e-05],\n",
       "       [9.99895215e-01, 2.79303458e-05, 1.03724997e-05, 2.91816723e-05,\n",
       "        3.72937211e-05],\n",
       "       [9.15965138e-05, 9.79704976e-01, 7.40198477e-04, 1.92725100e-02,\n",
       "        1.90741906e-04]], dtype=float32)"
      ]
     },
     "execution_count": 36,
     "metadata": {},
     "output_type": "execute_result"
    }
   ],
   "source": [
    "y_predicted#, y_test.unique()"
   ]
  },
  {
   "cell_type": "code",
   "execution_count": 37,
   "id": "0dd23c09",
   "metadata": {},
   "outputs": [
    {
     "data": {
      "text/plain": [
       "array([1, 0, 1, 0, 0, 1, 1, 0, 0, 1, 0, 0, 1, 0, 1, 1, 3, 1, 1, 3, 1, 3,\n",
       "       0, 1, 0, 1, 3, 0, 0, 1, 2, 1, 1, 0, 0, 1, 1, 0, 0, 0, 1, 0, 1, 0,\n",
       "       0, 0, 0, 0, 1, 0, 0, 0, 0, 1, 0, 0, 0, 0, 0, 0, 1, 0, 1, 0, 0, 0,\n",
       "       1, 0, 0, 1, 1, 1, 0, 0, 1, 1, 0, 0, 1, 1, 0, 0, 3, 0, 1, 0, 0, 1,\n",
       "       1, 0, 1, 2, 1, 1, 1, 1, 0, 0, 1, 0, 0, 1, 0, 1, 1, 0, 1, 0, 1, 0,\n",
       "       0, 1, 1, 0, 1, 0, 0, 0, 0, 0, 0, 0, 1, 0, 0, 0, 1, 0, 0, 1, 0, 0,\n",
       "       2, 0, 0, 0, 0, 0, 0, 0, 0, 0, 2, 0, 0, 0, 0, 0, 0, 1], dtype=int64)"
      ]
     },
     "execution_count": 37,
     "metadata": {},
     "output_type": "execute_result"
    }
   ],
   "source": [
    "y_predicted = np.argmax(y_predicted, axis=1)"
   ]
  },
  {
   "cell_type": "code",
   "execution_count": 38,
   "id": "93743203",
   "metadata": {},
   "outputs": [
    {
     "name": "stdout",
     "output_type": "stream",
     "text": [
      "Accuracy: 0.9466666666666667\n",
      "Precision: 0.98\n",
      "Recall: 1.0\n",
      "F1-score: 0.98989898989899\n"
     ]
    }
   ],
   "source": [
    "# Calculate accuracy\n",
    "accuracy = np.mean(y_predicted == y_test)\n",
    "\n",
    "# Calculate true positives, false positives, true negatives, false negatives\n",
    "tp = np.sum((y_predicted == 1) & (y_test == 1))\n",
    "fp = np.sum((y_predicted == 1) & (y_test == 0))\n",
    "tn = np.sum((y_predicted == 0) & (y_test == 0))\n",
    "fn = np.sum((y_predicted == 0) & (y_test == 1))\n",
    "\n",
    "# Calculate precision\n",
    "precision = tp / (tp + fp)\n",
    "\n",
    "# Calculate recall\n",
    "recall = tp / (tp + fn)\n",
    "\n",
    "# Calculate F1-score\n",
    "f1_score = 2 * (precision * recall) / (precision + recall)\n",
    "\n",
    "# Print the calculated metrics\n",
    "print(\"Accuracy:\", accuracy)\n",
    "print(\"Precision:\", precision)\n",
    "print(\"Recall:\", recall)\n",
    "print(\"F1-score:\", f1_score)\n"
   ]
  },
  {
   "cell_type": "code",
   "execution_count": 43,
   "id": "9c792a64",
   "metadata": {},
   "outputs": [
    {
     "data": {
      "image/png": "[encoded data removed]",
      "text/plain": [
       "<Figure size 640x480 with 2 Axes>"
      ]
     },
     "metadata": {},
     "output_type": "display_data"
    }
   ],
   "source": [
    "from sklearn.metrics import confusion_matrix\n",
    "\n",
    "# Calculate the confusion matrix\n",
    "cm = confusion_matrix(y_test, y_predicted)\n",
    "\n",
    "# Plot the confusion matrix as a heatmap\n",
    "plt.imshow(cm, interpolation='nearest', cmap=plt.cm.Blues)\n",
    "plt.colorbar()\n",
    "plt.xlabel('Predicted')\n",
    "plt.ylabel('True')\n",
    "plt.xticks(np.arange(5), ['Class 1', 'Class 2', 'Class 3', 'Class 4', 'Class 5'])\n",
    "plt.yticks(np.arange(5), ['Class 1', 'Class 2', 'Class 3', 'Class 4', 'Class 5'])\n",
    "plt.title('Confusion Matrix')\n",
    "plt.show()"
   ]
  },
  {
   "cell_type": "code",
   "execution_count": null,
   "id": "d0ac6c49",
   "metadata": {},
   "outputs": [],
   "source": [
    "# Assuming y_predicted has shape (150, 5)\n",
    "# num_outputs = y_predicted.shape[1] # Number of output values\n",
    "\n",
    "# Create an empty array to store the inverse transformed values\n",
    "# y_it_predicted = np.empty_like(y_predicted)\n",
    "\n",
    "# Apply inverse transformation to each column of y_predicted\n",
    "# for i in range(num_outputs):\n",
    "#     y_it_predicted[:, i] = sc.inverse_transform(y_predicted[:, i].reshape(-1, 1)).squeeze()\n",
    "\n",
    "# y_it_predicted now contains the inverse transformed values\n"
   ]
  },
  {
   "cell_type": "code",
   "execution_count": null,
   "id": "8d55d2ab",
   "metadata": {
    "scrolled": true
   },
   "outputs": [],
   "source": [
    "# y_it_predicted = sc.inverse_transform(y_predicted)\n",
    "# y_it_predicted = np.empty_like(y_predicted)\n",
    "# y_it_predicted = sc.inverse_transform(y_predicted.reshape(-1, 1)).squeeze()"
   ]
  },
  {
   "cell_type": "code",
   "execution_count": null,
   "id": "c7f3a14f",
   "metadata": {},
   "outputs": [],
   "source": []
  }
 ],
 "metadata": {
  "kernelspec": {
   "display_name": "Python 3 (ipykernel)",
   "language": "python",
   "name": "python3"
  },
  "language_info": {
   "codemirror_mode": {
    "name": "ipython",
    "version": 3
   },
   "file_extension": ".py",
   "mimetype": "text/x-python",
   "name": "python",
   "nbconvert_exporter": "python",
   "pygments_lexer": "ipython3",
   "version": "3.9.13"
  }
 },
 "nbformat": 4,
 "nbformat_minor": 5
}
